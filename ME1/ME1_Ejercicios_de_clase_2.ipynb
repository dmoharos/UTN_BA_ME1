{
 "cells": [
  {
   "cell_type": "markdown",
   "id": "3660699a-8996-4bc1-a3be-2d49de3dded4",
   "metadata": {},
   "source": [
    "<img src=\"Logo_UTN.svg\" align=\"right\" width=\"150\" />\n",
    "\n",
    "##\n",
    "\n",
    "***\n",
    "\n",
    "## (950457) Medidas Electrónicas I\n",
    "\n",
    "***\n",
    "\n",
    "Profesor: Ing. Emiliano Marinsek\t<<emarinsek@frba.utn.edu.ar>> <br>\n",
    "Ayudante: Ing. Juan Manuel Perdomo\t<<jmperdomo@frba.utn.edu.ar>>\n",
    "\n",
    "***\n",
    "\n",
    "Por David Moharos\n",
    "\n",
    "***"
   ]
  },
  {
   "cell_type": "markdown",
   "id": "45a479b9-651e-4d8c-b467-be84db55a2f6",
   "metadata": {},
   "source": [
    "#####\n",
    "\n",
    "Se midió una resistencia con una fuente de corriente de $5A \\pm 0,1\\% $ obteniéndose una tensión de $47,327 mV$ con el voltímetro que se detalla.\n",
    "\n",
    "Utilizando dicha resistencia y el mismo voltímetro, se midió una corriente, obteniéndose una indicación de $197,81 mV$.\n",
    "\n",
    "Voltímetro:\n",
    "\n",
    "Dígitos: $4 \\frac{4}{5}$\n",
    "\n",
    "Rangos: $50mV$, $500mV$, $5V$, $50V$, $500V$, $1000V$\n",
    "\n",
    "Error: $\\pm(0,025\\%+2d)$\n",
    "\n",
    "Ri: $10M\\Omega$\n",
    "\n",
    "#####\n",
    "\n",
    "a) Determinar el resultado de medición de la resistencia.\n",
    "\n",
    "b) Determinar el resultado de medición de la corriente.\n",
    "\n",
    "c) Determinar el resultado de la potencia para la medición de la corriente."
   ]
  },
  {
   "cell_type": "markdown",
   "id": "cafd0e30-01e6-4268-8da7-d469b98924da",
   "metadata": {},
   "source": [
    "***\n",
    "\n",
    "#####\n",
    "\n",
    "a) Determinar el resultado de medición de la resistencia.\n",
    "\n",
    "#####\n",
    "\n",
    "<u>Cálculo de valor medio de $\\overline{R}$:</u>\n",
    "\n",
    "#####\n",
    "\n",
    "\\begin{equation*}\n",
    "\\overline{R} = \\frac{ \\overline{V} }{ \\overline{I} }\n",
    "\\end{equation*}\n",
    "\n",
    "#####\n",
    "\n",
    "\\begin{equation*}\n",
    "\\overline{R} = \\frac{ 47,327 mV }{ 5 A }\n",
    "\\end{equation*}\n",
    "\n",
    "#####"
   ]
  },
  {
   "cell_type": "code",
   "execution_count": 200,
   "id": "11f17f67-7608-4962-b5b0-c71020edfb6c",
   "metadata": {},
   "outputs": [],
   "source": [
    "import sympy as sp\n",
    "import numpy as np\n",
    "from IPython.display import display, Markdown, HTML"
   ]
  },
  {
   "cell_type": "code",
   "execution_count": 201,
   "id": "b80a5f0c-033d-4688-ae72-f0f961833727",
   "metadata": {},
   "outputs": [
    {
     "data": {
      "text/markdown": [
       "##"
      ],
      "text/plain": [
       "<IPython.core.display.Markdown object>"
      ]
     },
     "metadata": {},
     "output_type": "display_data"
    },
    {
     "data": {
      "text/markdown": [
       "$$\\overline{R} = 9.465400 \\times 10^{-3} \\, [\\Omega]$$"
      ],
      "text/plain": [
       "<IPython.core.display.Markdown object>"
      ]
     },
     "metadata": {},
     "output_type": "display_data"
    }
   ],
   "source": [
    "V = 47.327 * 10**-3                 # Indicación [V]\n",
    "I = 5                               # Indicación [A]\n",
    "R = V / I\n",
    "\n",
    "display(Markdown(\"##\"))\n",
    "\n",
    "formatted_R = \"{:.6e}\".format(R).replace(\"e-0\", r\" \\times 10^{-\").replace(\"e+0\", r\" \\times 10^{\") + \"}\"\n",
    "display(Markdown(f\"$$\\\\overline{{R}} = {formatted_R} \\, [\\Omega]$$\"))"
   ]
  },
  {
   "cell_type": "markdown",
   "id": "b44f0cb7-fe10-4e5e-b107-232997a86e26",
   "metadata": {},
   "source": [
    "#####\n",
    "\n",
    "<u>Cálculo de incertidumbre para la tensión $V$:</u>\n",
    "\n",
    "#####\n",
    "\n",
    "Incertidumbre tipo A:\n",
    "\n",
    "#####\n",
    "\n",
    "No hay indicación de la incertidumbre tipo A por lo que la consideramos nula.\n",
    "\n",
    "#####\n",
    "\n",
    "\\begin{equation*}\n",
    "u_A(\\overline{V}) = 0 [V]\n",
    "\\end{equation*}\n",
    "\n",
    "#####\n",
    "\n",
    "Incertidumbre tipo B:\n",
    "\n",
    "#####\n",
    "\n",
    "\\begin{equation*}\n",
    "u_B(\\overline{V}) = \\frac{ \\left( \\frac{er_V\\%}{100} + \\frac{n_Vd}{ci_V} \\right) \\cdot \\overline{V} }{ \\sqrt{3} } \n",
    "\\end{equation*}\n",
    "\n",
    "#####\n",
    "\n",
    "Siendo:\n",
    "\n",
    "Error relativo: $er_V = 0,025$\n",
    "\n",
    "Error de cuentas: $n_{Vd} = 2$\n",
    "\n",
    "Rango: $50 mV$\n",
    "\n",
    "Cuentas indicadas: $ci_V = \\frac{Indicacion}{Resolución} = \\frac{47.327mV}{0,001\\frac{mV}{cuenta}} = 47327 [cuentas]$\n",
    "\n",
    "#####\n",
    "\n",
    "\\begin{equation*}\n",
    "u_B(\\overline{Vx}) = \\frac{ \\left( \\frac{0,0025}{100} + \\frac{2}{47327} \\right) \\cdot 47,327 mV }{ \\sqrt{3} } \n",
    "\\end{equation*}\n",
    "\n",
    "#####"
   ]
  },
  {
   "cell_type": "code",
   "execution_count": 202,
   "id": "0444cf6b-0948-4bbe-8d0d-040f214dcc32",
   "metadata": {},
   "outputs": [
    {
     "data": {
      "text/markdown": [
       "##"
      ],
      "text/plain": [
       "<IPython.core.display.Markdown object>"
      ]
     },
     "metadata": {},
     "output_type": "display_data"
    },
    {
     "data": {
      "text/markdown": [
       "$$u_B(\\overline{V}) = 1.840007 \\times 10^{-6} \\, [V]$$"
      ],
      "text/plain": [
       "<IPython.core.display.Markdown object>"
      ]
     },
     "metadata": {},
     "output_type": "display_data"
    }
   ],
   "source": [
    "er = 0.0025                     #-- Error de referencia [%] --\n",
    "n = 2                           #-- Error de cuentas [] --    \n",
    "ci = 47237                      #-- Cuentas indicadas [] --\n",
    "\n",
    "u_B_V = ( ( er / 100 ) + ( n / ci ) ) * V / np.sqrt(3)\n",
    "\n",
    "display(Markdown(\"##\"))\n",
    "\n",
    "formatted_u_B_V = \"{:.6e}\".format(u_B_V).replace(\"e-0\", r\" \\times 10^{-\").replace(\"e+0\", r\" \\times 10^{\") + \"}\"\n",
    "display(Markdown(f\"$$u_B(\\\\overline{{V}}) = {formatted_u_B_V} \\, [V]$$\"))"
   ]
  },
  {
   "cell_type": "markdown",
   "id": "7d01e3b1-49d1-4ed2-a865-824dfc97d6b8",
   "metadata": {},
   "source": [
    "\\begin{equation*}\n",
    "u(\\overline{V}) = \\sqrt{ u_A^2(\\overline{V}) + u_B^2(\\overline{V}) }\n",
    "\\end{equation*}\n",
    "\n",
    "#####\n",
    "\n",
    "\\begin{equation*}\n",
    "u(\\overline{V}) = 1,840007 \\cdot 10^{-6} [V]\n",
    "\\end{equation*}\n",
    "\n",
    "#####"
   ]
  },
  {
   "cell_type": "markdown",
   "id": "b3459c9e-e3ca-4b67-a842-74b2cc877ea9",
   "metadata": {},
   "source": [
    "\n",
    "#####\n",
    "\n",
    "<u>Cálculo de incertidumbre para la corriente $I$:</u>\n",
    "\n",
    "#####\n",
    "\n",
    "Incertidumbre tipo A:\n",
    "\n",
    "#####\n",
    "\n",
    "No hay indicación de la incertidumbre tipo A por lo que la consideramos nula.\n",
    "\n",
    "#####\n",
    "\n",
    "\\begin{equation*}\n",
    "u_A(\\overline{I}) = 0 A\n",
    "\\end{equation*}\n",
    "\n",
    "#####\n",
    "\n",
    "Incertidumbre tipo B:\n",
    "\n",
    "#####\n",
    "\n",
    "\\begin{equation*}\n",
    "u_B(\\overline{I}) = \\frac{ \\left( \\frac{er_I\\%}{100} + \\frac{n_Id}{ci_I} \\right) \\cdot \\overline{I} }{ \\sqrt{3} } \n",
    "\\end{equation*}\n",
    "\n",
    "#####\n",
    "\n",
    "Siendo:\n",
    "\n",
    "Error relativo: $er_I = 0,1$\n",
    "\n",
    "Error de cuentas: No informado, consideramos $n_{Id} = 0$.\n",
    "\n",
    "#####\n",
    "\n",
    "\\begin{equation*}\n",
    "u_B(\\overline{I}) = \\frac{ \\frac{0,1}{100} \\cdot 5A }{ \\sqrt{3} } \n",
    "\\end{equation*}\n",
    "\n",
    "#####"
   ]
  },
  {
   "cell_type": "code",
   "execution_count": 203,
   "id": "3ccf443f-00a9-4af0-84fc-1a3874047a9e",
   "metadata": {},
   "outputs": [
    {
     "data": {
      "text/markdown": [
       "##"
      ],
      "text/plain": [
       "<IPython.core.display.Markdown object>"
      ]
     },
     "metadata": {},
     "output_type": "display_data"
    },
    {
     "data": {
      "text/markdown": [
       "$$u_B(\\overline{I}) = 2.886751 \\times 10^{-3} \\, [A]$$"
      ],
      "text/plain": [
       "<IPython.core.display.Markdown object>"
      ]
     },
     "metadata": {},
     "output_type": "display_data"
    }
   ],
   "source": [
    "er = 0.1                     #-- Error de referencia [%] --                           #-- Error de cuentas [] --    \n",
    "\n",
    "u_B_I = ( er / 100 ) * I / np.sqrt(3)\n",
    "\n",
    "display(Markdown(\"##\"))\n",
    "\n",
    "formatted_u_B_I = \"{:.6e}\".format(u_B_I).replace(\"e-0\", r\" \\times 10^{-\").replace(\"e+0\", r\" \\times 10^{\") + \"}\"\n",
    "display(Markdown(f\"$$u_B(\\\\overline{{I}}) = {formatted_u_B_I} \\, [A]$$\"))"
   ]
  },
  {
   "cell_type": "markdown",
   "id": "7b2a28ba-f79e-4116-a96f-40c4793ce791",
   "metadata": {},
   "source": [
    "\\begin{equation*}\n",
    "u(\\overline{I}) = \\sqrt{ u_A^2(\\overline{I}) + u_B^2(\\overline{I}) }\n",
    "\\end{equation*}\n",
    "\n",
    "#####\n",
    "\n",
    "\\begin{equation*}\n",
    "u(\\overline{I}) = 2,886751 \\cdot 10^{-3} [A]\n",
    "\\end{equation*}\n",
    "\n",
    "#####"
   ]
  },
  {
   "cell_type": "markdown",
   "id": "b2b559ed-38fc-4e91-876e-2964d0232e73",
   "metadata": {},
   "source": [
    "#####\n",
    "\n",
    "<u>Cálculo de la incertidumbre combinada:</u>\n",
    "\n",
    "#####\n",
    "\n",
    "\\begin{equation*} \n",
    "u_C(\\bar{R}) = \\sqrt{\\left[\\frac{dR}{dV}\\right]^2 \\cdot u^2(\\bar{V}) + \\left[\\frac{dR}{dI}\\right]^2 \\cdot u^2(\\bar{I}) }\n",
    "\\end{equation*}\n",
    "\n",
    "#####\n",
    "\n",
    "\\begin{equation*} \n",
    "u_C(\\bar{R}) = \\sqrt{\\left[\\frac{1}{\\bar{I}}\\right]^2 \\cdot u^2(\\bar{V}) + \\left[-\\frac{\\bar{V}}{\\bar{I}^2}\\right]^2 \\cdot u^2(\\bar{I}) }\n",
    "\\end{equation*}\n",
    "\n",
    "#####\n",
    "\n",
    "\\begin{equation*} \n",
    "u_C(\\bar{R}) = \\sqrt{\\left[\\frac{1}{5A}\\right]^2 \\cdot (1,840007 \\mu V)^2 + \\left[-\\frac{47,327mV}{(5A)^2}\\right]^2 \\cdot (2,886751 mA)^2 }\n",
    "\\end{equation*}\n",
    "\n",
    "#####"
   ]
  },
  {
   "cell_type": "code",
   "execution_count": 204,
   "id": "132675ee-a1f3-427a-96ac-e8f88e7cefd3",
   "metadata": {},
   "outputs": [
    {
     "data": {
      "text/markdown": [
       "###"
      ],
      "text/plain": [
       "<IPython.core.display.Markdown object>"
      ]
     },
     "metadata": {},
     "output_type": "display_data"
    },
    {
     "data": {
      "text/markdown": [
       "$$u_C(\\overline{R}) = 5.477227 \\times 10^{-6} \\, [\\Omega]$$"
      ],
      "text/plain": [
       "<IPython.core.display.Markdown object>"
      ]
     },
     "metadata": {},
     "output_type": "display_data"
    }
   ],
   "source": [
    "u_V = 1.840007 * 10**-6\n",
    "u_I = 2.886751 * 10**-3\n",
    "\n",
    "u_c_R = np.sqrt( (1/I)**2 * u_V**2 + \n",
    "                 (-V/(I)**2)**2 * u_I**2 )\n",
    "\n",
    "display(Markdown(\"###\"))\n",
    "\n",
    "formatted_u_c_R = \"{:.6e}\".format(u_c_R).replace(\"e-0\", r\" \\times 10^{-\").replace(\"e+0\", r\" \\times 10^{\") + \"}\"\n",
    "display(Markdown(f\"$$u_C(\\\\overline{{R}}) = {formatted_u_c_R} \\, [\\Omega]$$\"))"
   ]
  },
  {
   "cell_type": "markdown",
   "id": "6b0ad553-20e5-4119-a52f-13f752c638c5",
   "metadata": {},
   "source": [
    "#####\n",
    "\n",
    "<u>Cálculo de incertidumbre expandida:</u>\n",
    "\n",
    "#####\n",
    "\n",
    "\\begin{equation*}\n",
    "U(\\overline{R}) = u_C(\\overline{R}) \\cdot k_{95\\%}\n",
    "\\end{equation*}\n",
    "\n",
    "#####\n",
    "\n",
    "\\begin{equation*}\n",
    "U(\\overline{R}) = 5,477227 \\mu \\Omega \\cdot 2\n",
    "\\end{equation*}\n",
    "\n",
    "#####"
   ]
  },
  {
   "cell_type": "code",
   "execution_count": 205,
   "id": "cab5439b-04f9-43ac-8660-2b37d29371a2",
   "metadata": {},
   "outputs": [
    {
     "data": {
      "text/markdown": [
       "###"
      ],
      "text/plain": [
       "<IPython.core.display.Markdown object>"
      ]
     },
     "metadata": {},
     "output_type": "display_data"
    },
    {
     "data": {
      "text/markdown": [
       "$$U(\\overline{R}) = 1.095445 \\times 10^{-5} \\, [\\Omega]$$"
      ],
      "text/plain": [
       "<IPython.core.display.Markdown object>"
      ]
     },
     "metadata": {},
     "output_type": "display_data"
    }
   ],
   "source": [
    "k_95 = 2\n",
    "U_R = u_c_R * k_95\n",
    "\n",
    "display(Markdown(\"###\"))\n",
    "\n",
    "formatted_U_R = \"{:.6e}\".format(U_R).replace(\"e-0\", r\" \\times 10^{-\").replace(\"e+0\", r\" \\times 10^{\") + \"}\"\n",
    "display(Markdown(f\"$$U(\\\\overline{{R}}) = {formatted_U_R} \\, [\\Omega]$$\"))"
   ]
  },
  {
   "cell_type": "markdown",
   "id": "cc1ab6f0-31e6-4958-aa1d-9f0608786efd",
   "metadata": {},
   "source": [
    "#####\n",
    "\n",
    "<u>Resultado de la medición:</u>\n",
    "\n",
    "#####\n",
    "\n",
    "\\begin{equation*}\n",
    "R = \\overline{R} \\pm U(\\overline{R}) \n",
    "\\end{equation*}\n",
    "\n",
    "#####\n",
    "\n",
    "\\begin{equation*}\n",
    "R = \\left( 9,465400 \\cdot 10^{-3} \\pm 1,095445 \\cdot 10^{-5} \\right) \\Omega \\qquad k = 2\n",
    "\\end{equation*}\n",
    "\n",
    "#####\n",
    "\n",
    "\\begin{equation*}\n",
    "R = \\left( 9,465400 \\pm 0,01095445 \\right) m\\Omega \\qquad k = 2\n",
    "\\end{equation*}\n",
    "\n",
    "#####\n",
    "\n",
    "\\begin{equation*}\n",
    "\\boxed{ R = \\left( 9,465 \\pm 0,011 \\right) m\\Omega \\qquad k = 2 }\n",
    "\\end{equation*}\n",
    "\n",
    "#####\n",
    "\n",
    "***"
   ]
  },
  {
   "cell_type": "markdown",
   "id": "e94634a4-7cb9-4d43-abf5-eea50b5abcfc",
   "metadata": {},
   "source": [
    "#####\n",
    "\n",
    "b) Determinar el resultado de medición de la corriente.\n",
    "\n",
    "#####\n",
    "\n",
    "<u>Cálculo de valor medio de $\\overline{I}$:</u>\n",
    "\n",
    "#####\n",
    "\n",
    "\\begin{equation*}\n",
    "\\overline{I} = \\frac{ \\overline{V} }{ \\overline{R} }\n",
    "\\end{equation*}\n",
    "\n",
    "#####\n",
    "\n",
    "\\begin{equation*}\n",
    "\\overline{I} = \\frac{ 197,81 mV }{ 9,465 m\\Omega }\n",
    "\\end{equation*}\n",
    "\n",
    "#####"
   ]
  },
  {
   "cell_type": "code",
   "execution_count": 206,
   "id": "e71eae82-2681-404e-b925-2e1e764e11be",
   "metadata": {},
   "outputs": [
    {
     "data": {
      "text/markdown": [
       "##"
      ],
      "text/plain": [
       "<IPython.core.display.Markdown object>"
      ]
     },
     "metadata": {},
     "output_type": "display_data"
    },
    {
     "data": {
      "text/markdown": [
       "$$\\overline{I} = 2.089910 \\times 10^{1} \\, [A]$$"
      ],
      "text/plain": [
       "<IPython.core.display.Markdown object>"
      ]
     },
     "metadata": {},
     "output_type": "display_data"
    }
   ],
   "source": [
    "V = 197.81 * 10**-3\n",
    "R = 9.465 * 10**-3\n",
    "\n",
    "I = V / R\n",
    "\n",
    "display(Markdown(\"##\"))\n",
    "\n",
    "formatted_I = \"{:.6e}\".format(I).replace(\"e-0\", r\" \\times 10^{-\").replace(\"e+0\", r\" \\times 10^{\") + \"}\"\n",
    "display(Markdown(f\"$$\\\\overline{{I}} = {formatted_I} \\, [A]$$\"))"
   ]
  },
  {
   "cell_type": "markdown",
   "id": "e130daf7-e6d0-4f76-81cd-b456aa906064",
   "metadata": {},
   "source": [
    "#####\n",
    "\n",
    "<u>Cálculo de incertidumbre para la resistencia $R$:</u>\n",
    "\n",
    "#####\n",
    "\n",
    "Incertidumbre tipo A:\n",
    "\n",
    "#####\n",
    "\n",
    "\\begin{equation*}\n",
    "u_A(\\overline{R}) = 0,011 [m\\Omega]\n",
    "\\end{equation*}\n",
    "\n",
    "#####\n",
    "\n",
    "\n",
    "<u>Cálculo de incertidumbre para la tensión $V$:</u>\n",
    "\n",
    "#####\n",
    "\n",
    "Incertidumbre tipo A:\n",
    "\n",
    "#####\n",
    "\n",
    "No hay indicación de la incertidumbre tipo A por lo que la consideramos nula.\n",
    "\n",
    "#####\n",
    "\n",
    "\\begin{equation*}\n",
    "u_A(\\overline{V}) = 0 [V]\n",
    "\\end{equation*}\n",
    "\n",
    "#####\n",
    "\n",
    "Incertidumbre tipo B:\n",
    "\n",
    "#####\n",
    "\n",
    "\\begin{equation*}\n",
    "u_B(\\overline{V}) = \\frac{ \\left( \\frac{er_V\\%}{100} + \\frac{n_Vd}{ci_V} \\right) \\cdot \\overline{V} }{ \\sqrt{3} } \n",
    "\\end{equation*}\n",
    "\n",
    "#####\n",
    "\n",
    "Siendo:\n",
    "\n",
    "Error relativo: $er_V = 0,0025$\n",
    "\n",
    "Error de cuentas: $n_{Vd} = 2$\n",
    "\n",
    "Rango: $500 mV$\n",
    "\n",
    "Cuentas indicadas: $ci_V = \\frac{Indicacion}{Resolución} = \\frac{197,81mV}{0,01\\frac{mV}{cuenta}} = 19781 [cuentas]$\n",
    "\n",
    "#####\n",
    "\n",
    "\\begin{equation*}\n",
    "u_B(\\overline{V}) = \\frac{ \\left( \\frac{0,0025}{100} + \\frac{2}{19781} \\right) \\cdot 197,81 mV }{ \\sqrt{3} } \n",
    "\\end{equation*}\n",
    "\n",
    "#####"
   ]
  },
  {
   "cell_type": "code",
   "execution_count": 207,
   "id": "ca65a91d-0a80-4aa0-94ad-9139a9f0d926",
   "metadata": {},
   "outputs": [
    {
     "data": {
      "text/markdown": [
       "##"
      ],
      "text/plain": [
       "<IPython.core.display.Markdown object>"
      ]
     },
     "metadata": {},
     "output_type": "display_data"
    },
    {
     "data": {
      "text/markdown": [
       "$$u_B(\\overline{V}) = 1.257527 \\times 10^{-4} \\, [V]$$"
      ],
      "text/plain": [
       "<IPython.core.display.Markdown object>"
      ]
     },
     "metadata": {},
     "output_type": "display_data"
    }
   ],
   "source": [
    "ci = 19781                      #-- Cuentas indicadas [] --\n",
    "\n",
    "u_B_V = ( ( er / 100 ) + ( n / ci ) ) * V / np.sqrt(3)\n",
    "\n",
    "display(Markdown(\"##\"))\n",
    "\n",
    "formatted_u_B_V = \"{:.6e}\".format(u_B_V).replace(\"e-0\", r\" \\times 10^{-\").replace(\"e+0\", r\" \\times 10^{\") + \"}\"\n",
    "display(Markdown(f\"$$u_B(\\\\overline{{V}}) = {formatted_u_B_V} \\, [V]$$\"))"
   ]
  },
  {
   "cell_type": "markdown",
   "id": "3495ed63-75f6-4c07-b8de-a37206a31c9c",
   "metadata": {},
   "source": [
    "\\begin{equation*}\n",
    "u(\\overline{V}) = \\sqrt{ u_A^2(\\overline{V}) + u_B^2(\\overline{V}) }\n",
    "\\end{equation*}\n",
    "\n",
    "#####\n",
    "\n",
    "\\begin{equation*}\n",
    "u(\\overline{V}) = 1,257527 \\cdot 10^{-4} [V]\n",
    "\\end{equation*}\n",
    "\n",
    "#####"
   ]
  },
  {
   "cell_type": "markdown",
   "id": "19ce8094-3010-465c-80b2-5d267d20f72b",
   "metadata": {},
   "source": [
    "#####\n",
    "\n",
    "<u>Cálculo de la incertidumbre combinada:</u>\n",
    "\n",
    "#####\n",
    "\n",
    "\\begin{equation*} \n",
    "u_C(\\bar{I}) = \\sqrt{\\left[\\frac{dI}{dV}\\right]^2 \\cdot u^2(\\bar{V}) + \\left[\\frac{dI}{dR}\\right]^2 \\cdot u^2(\\bar{R}) }\n",
    "\\end{equation*}\n",
    "\n",
    "#####\n",
    "\n",
    "\\begin{equation*} \n",
    "u_C(\\bar{I}) = \\sqrt{\\left[\\frac{1}{\\bar{R}}\\right]^2 \\cdot u^2(\\bar{V}) + \\left[-\\frac{\\bar{V}}{\\bar{R}^2}\\right]^2 \\cdot u^2(\\bar{R}) }\n",
    "\\end{equation*}\n",
    "\n",
    "#####\n",
    "\n",
    "\\begin{equation*} \n",
    "u_C(\\bar{I}) = \\sqrt{\\left[\\frac{1}{ 9,465 m\\Omega }\\right]^2 \\cdot ( 1,257527 \\cdot 10^{-4}V )^2 + \\left[-\\frac{ 197,81 * 10^{-3}V }{(9,465 m\\Omega)^2}\\right]^2 \\cdot ( 0,011 m\\Omega)^2 }\n",
    "\\end{equation*}\n",
    "\n",
    "#####"
   ]
  },
  {
   "cell_type": "code",
   "execution_count": 208,
   "id": "bee44bf2-53dd-4ec0-8658-840e81498f84",
   "metadata": {},
   "outputs": [
    {
     "data": {
      "text/markdown": [
       "###"
      ],
      "text/plain": [
       "<IPython.core.display.Markdown object>"
      ]
     },
     "metadata": {},
     "output_type": "display_data"
    },
    {
     "data": {
      "text/markdown": [
       "$$u_C(\\overline{I}) = 2.768480 \\times 10^{-2} \\, [A]$$"
      ],
      "text/plain": [
       "<IPython.core.display.Markdown object>"
      ]
     },
     "metadata": {},
     "output_type": "display_data"
    }
   ],
   "source": [
    "u_R = 0.011 * 10**-3\n",
    "u_V = 1.257527 * 10**-4\n",
    "\n",
    "u_C_I = np.sqrt( (1/R)**2 * u_V**2 + \n",
    "                 (-V/(R)**2)**2 * u_R**2 )\n",
    "\n",
    "display(Markdown(\"###\"))\n",
    "\n",
    "formatted_u_C_I = \"{:.6e}\".format(u_C_I).replace(\"e-0\", r\" \\times 10^{-\").replace(\"e+0\", r\" \\times 10^{\") + \"}\"\n",
    "display(Markdown(f\"$$u_C(\\\\overline{{I}}) = {formatted_u_C_I} \\, [A]$$\"))"
   ]
  },
  {
   "cell_type": "markdown",
   "id": "b6a8672b-3787-4eb3-a711-2c04edf9b003",
   "metadata": {},
   "source": [
    "#####\n",
    "\n",
    "<u>Cálculo de incertidumbre expandida:</u>\n",
    "\n",
    "#####\n",
    "\n",
    "\\begin{equation*}\n",
    "U(\\overline{I}) = u_C(\\overline{I}) \\cdot k_{95\\%}\n",
    "\\end{equation*}\n",
    "\n",
    "#####\n",
    "\n",
    "\\begin{equation*}\n",
    "U(\\overline{I}) = 2,768480 \\cdot 10^{-2} [A] \\cdot 2\n",
    "\\end{equation*}\n",
    "\n",
    "#####"
   ]
  },
  {
   "cell_type": "code",
   "execution_count": 209,
   "id": "60e5d9ba-f83a-4e3a-a662-3d0f483532fb",
   "metadata": {},
   "outputs": [
    {
     "data": {
      "text/markdown": [
       "###"
      ],
      "text/plain": [
       "<IPython.core.display.Markdown object>"
      ]
     },
     "metadata": {},
     "output_type": "display_data"
    },
    {
     "data": {
      "text/markdown": [
       "$$U(\\overline{I}) = 5.536961 \\times 10^{-2} \\, [A]$$"
      ],
      "text/plain": [
       "<IPython.core.display.Markdown object>"
      ]
     },
     "metadata": {},
     "output_type": "display_data"
    }
   ],
   "source": [
    "U_I = u_C_I * k_95\n",
    "\n",
    "display(Markdown(\"###\"))\n",
    "\n",
    "formatted_U_I = \"{:.6e}\".format(U_I).replace(\"e-0\", r\" \\times 10^{-\").replace(\"e+0\", r\" \\times 10^{\") + \"}\"\n",
    "display(Markdown(f\"$$U(\\\\overline{{I}}) = {formatted_U_I} \\, [A]$$\"))"
   ]
  },
  {
   "cell_type": "markdown",
   "id": "c433961a-3b64-4304-9181-8b6f203738ba",
   "metadata": {},
   "source": [
    "#####\n",
    "\n",
    "<u>Resultado de la medición:</u>\n",
    "\n",
    "#####\n",
    "\n",
    "\\begin{equation*}\n",
    "I = \\overline{I} \\pm U(\\overline{I}) \n",
    "\\end{equation*}\n",
    "\n",
    "#####\n",
    "\n",
    "\\begin{equation*}\n",
    "I = \\left( 2,089910 \\cdot 10^1 \\pm 5,536961 \\cdot 10^{-2} \\right) [A] \\qquad k = 2\n",
    "\\end{equation*}\n",
    "\n",
    "#####\n",
    "\n",
    "\\begin{equation*}\n",
    "I = \\left( 20,89910 \\pm 0,05536961 \\right) [A] \\qquad k = 2\n",
    "\\end{equation*}\n",
    "\n",
    "#####\n",
    "\n",
    "\\begin{equation*}\n",
    "\\boxed{ I = \\left( 20,899 \\pm 0,055 \\right) [A] \\qquad k = 2 }\n",
    "\\end{equation*}\n",
    "\n",
    "#####\n",
    "\n",
    "***"
   ]
  },
  {
   "cell_type": "markdown",
   "id": "c872bc88-92fc-4418-aa0f-1dd7f12159e0",
   "metadata": {},
   "source": [
    "#####\n",
    "\n",
    "c) Determinar el resultado de la potencia para la medición de la corriente.\n",
    "\n",
    "#####\n",
    "\n",
    "<u>Cálculo de valor medio de $\\overline{P}$:</u>\n",
    "\n",
    "#####\n",
    "\n",
    "\\begin{equation*}\n",
    "\\overline{P} = \\overline{I}^2 \\cdot \\overline{R}\n",
    "\\end{equation*}\n",
    "\n",
    "#####\n",
    "\n",
    "\\begin{equation*}\n",
    "\\overline{P} = \\left( 20,899 [A] \\right)^2 \\cdot 9,465 [m\\Omega]\n",
    "\\end{equation*}\n",
    "\n",
    "#####"
   ]
  },
  {
   "cell_type": "code",
   "execution_count": 210,
   "id": "73966b42-210b-4680-a0c6-ff64cfad6ec7",
   "metadata": {},
   "outputs": [
    {
     "data": {
      "text/markdown": [
       "##"
      ],
      "text/plain": [
       "<IPython.core.display.Markdown object>"
      ]
     },
     "metadata": {},
     "output_type": "display_data"
    },
    {
     "data": {
      "text/markdown": [
       "$$\\overline{P} = 4.134011 \\times 10^{0} \\, [W]$$"
      ],
      "text/plain": [
       "<IPython.core.display.Markdown object>"
      ]
     },
     "metadata": {},
     "output_type": "display_data"
    }
   ],
   "source": [
    "I = 20.899\n",
    "R = 9.465 * 10**-3\n",
    "\n",
    "P = I**2 * R\n",
    "\n",
    "display(Markdown(\"##\"))\n",
    "\n",
    "formatted_P = \"{:.6e}\".format(P).replace(\"e-0\", r\" \\times 10^{-\").replace(\"e+0\", r\" \\times 10^{\") + \"}\"\n",
    "display(Markdown(f\"$$\\\\overline{{P}} = {formatted_P} \\, [W]$$\"))"
   ]
  },
  {
   "cell_type": "markdown",
   "id": "8a2e4e91-9efd-44c6-9e77-63090252bac6",
   "metadata": {},
   "source": [
    "#####\n",
    "\n",
    "<u>Cálculo de incertidumbre para la corriente $I$:</u>\n",
    "\n",
    "#####\n",
    "\n",
    "Incertidumbre tipo A:\n",
    "\n",
    "#####\n",
    "\n",
    "\\begin{equation*}\n",
    "u_A(\\overline{I}) = 0,055 [A]\n",
    "\\end{equation*}\n",
    "\n",
    "#####\n",
    "\n",
    "<u>Cálculo de incertidumbre para la resistencia $R$:</u>\n",
    "\n",
    "#####\n",
    "\n",
    "Incertidumbre tipo A:\n",
    "\n",
    "#####\n",
    "\n",
    "\\begin{equation*}\n",
    "u_A(\\overline{R}) = 0,011 [m\\Omega]\n",
    "\\end{equation*}\n",
    "\n",
    "#####"
   ]
  },
  {
   "cell_type": "markdown",
   "id": "cfe7adc7-ee4d-427b-886f-b7c36e6dbf12",
   "metadata": {},
   "source": [
    "#####\n",
    "\n",
    "<u>Cálculo de la incertidumbre combinada:</u>\n",
    "\n",
    "#####\n",
    "\n",
    "\\begin{equation*} \n",
    "u_C(\\bar{P}) = \\sqrt{\\left[\\frac{dP}{dI}\\right]^2 \\cdot u^2(\\bar{I}) + \\left[\\frac{dP}{dR}\\right]^2 \\cdot u^2(\\bar{R}) }\n",
    "\\end{equation*}\n",
    "\n",
    "#####\n",
    "\n",
    "\\begin{equation*} \n",
    "u_C(\\bar{P}) = \\sqrt{\\left( 2 \\cdot \\bar{I} \\cdot \\bar{R} \\right)^2 \\cdot u^2(\\bar{I}) + \\left( \\bar{I}^2 \\right)^2 \\cdot u^2(\\bar{R}) }\n",
    "\\end{equation*}\n",
    "\n",
    "#####\n",
    "\n",
    "\\begin{equation*} \n",
    "u_C(\\bar{P}) = \\sqrt{\\left( 2 \\cdot 20,899[A] \\cdot 9,465 \\cdot 10^{-3} \\right)^2 \\cdot \\left( 0,049[A] \\right)^2 + \\left[ \\left( 20,899[A] \\right)^2 \\right]^2 \\cdot \\left( 0,011[m\\Omega] \\right)^2 }\n",
    "\\end{equation*}\n",
    "\n",
    "#####"
   ]
  },
  {
   "cell_type": "code",
   "execution_count": 211,
   "id": "0b5c92bb-0f53-4850-91da-0dad8f03ebd3",
   "metadata": {},
   "outputs": [
    {
     "data": {
      "text/markdown": [
       "###"
      ],
      "text/plain": [
       "<IPython.core.display.Markdown object>"
      ]
     },
     "metadata": {},
     "output_type": "display_data"
    },
    {
     "data": {
      "text/markdown": [
       "$$u_C(\\overline{P}) = 2.228310 \\times 10^{-2} \\, [W]$$"
      ],
      "text/plain": [
       "<IPython.core.display.Markdown object>"
      ]
     },
     "metadata": {},
     "output_type": "display_data"
    }
   ],
   "source": [
    "u_I = 0.055\n",
    "\n",
    "u_C_P = np.sqrt( (2*I*R)**2 * u_I**2 + \n",
    "                 (I**2)**2 * u_R**2 )\n",
    "\n",
    "display(Markdown(\"###\"))\n",
    "\n",
    "formatted_u_C_P = \"{:.6e}\".format(u_C_P).replace(\"e-0\", r\" \\times 10^{-\").replace(\"e+0\", r\" \\times 10^{\") + \"}\"\n",
    "display(Markdown(f\"$$u_C(\\\\overline{{P}}) = {formatted_u_C_P} \\, [W]$$\"))"
   ]
  },
  {
   "cell_type": "markdown",
   "id": "f1f7e615-2faf-480d-b39f-8c3c8802933f",
   "metadata": {},
   "source": [
    "#####\n",
    "\n",
    "<u>Cálculo de incertidumbre expandida:</u>\n",
    "\n",
    "#####\n",
    "\n",
    "\\begin{equation*}\n",
    "U(\\overline{P}) = u_C(\\overline{P}) \\cdot k_{95\\%}\n",
    "\\end{equation*}\n",
    "\n",
    "#####\n",
    "\n",
    "\\begin{equation*}\n",
    "U(\\overline{P}) = 2,228310 \\cdot 10^{-2} [W] \\cdot 2\n",
    "\\end{equation*}\n",
    "\n",
    "#####"
   ]
  },
  {
   "cell_type": "code",
   "execution_count": 213,
   "id": "51ab6293-6db7-4dad-a553-72ce2fcede5c",
   "metadata": {},
   "outputs": [
    {
     "data": {
      "text/markdown": [
       "###"
      ],
      "text/plain": [
       "<IPython.core.display.Markdown object>"
      ]
     },
     "metadata": {},
     "output_type": "display_data"
    },
    {
     "data": {
      "text/markdown": [
       "$$U(\\overline{P}) = 4.456620 \\times 10^{-2} \\, [W]$$"
      ],
      "text/plain": [
       "<IPython.core.display.Markdown object>"
      ]
     },
     "metadata": {},
     "output_type": "display_data"
    }
   ],
   "source": [
    "U_P = u_C_P * k_95\n",
    "display(Markdown(\"###\"))\n",
    "\n",
    "formatted_U_P = \"{:.6e}\".format(U_P).replace(\"e-0\", r\" \\times 10^{-\").replace(\"e+0\", r\" \\times 10^{\") + \"}\"\n",
    "display(Markdown(f\"$$U(\\\\overline{{P}}) = {formatted_U_P} \\, [W]$$\"))"
   ]
  },
  {
   "cell_type": "markdown",
   "id": "bc1396ad-0011-48de-94b1-db6d29ff5d90",
   "metadata": {},
   "source": [
    "#####\n",
    "\n",
    "<u>Resultado de la medición:</u>\n",
    "\n",
    "#####\n",
    "\n",
    "\\begin{equation*}\n",
    "P = \\overline{P} \\pm U(\\overline{P}) \n",
    "\\end{equation*}\n",
    "\n",
    "#####\n",
    "\n",
    "\\begin{equation*}\n",
    "P = \\left( 4,134011 \\pm 4,456620 \\cdot 10^{-2} \\right) [W] \\qquad k = 2\n",
    "\\end{equation*}\n",
    "\n",
    "#####\n",
    "\n",
    "\\begin{equation*}\n",
    "P = \\left( 4,134011 \\pm 0,0445662 \\right) [W] \\qquad k = 2\n",
    "\\end{equation*}\n",
    "\n",
    "#####\n",
    "\n",
    "\\begin{equation*}\n",
    "\\boxed{ P = \\left( 4,134 \\pm 0,045 \\right) [W] \\qquad k = 2 }\n",
    "\\end{equation*}\n",
    "\n",
    "#####\n",
    "\n",
    "***"
   ]
  }
 ],
 "metadata": {
  "kernelspec": {
   "display_name": "Python 3 (ipykernel)",
   "language": "python",
   "name": "python3"
  },
  "language_info": {
   "codemirror_mode": {
    "name": "ipython",
    "version": 3
   },
   "file_extension": ".py",
   "mimetype": "text/x-python",
   "name": "python",
   "nbconvert_exporter": "python",
   "pygments_lexer": "ipython3",
   "version": "3.11.9"
  }
 },
 "nbformat": 4,
 "nbformat_minor": 5
}
