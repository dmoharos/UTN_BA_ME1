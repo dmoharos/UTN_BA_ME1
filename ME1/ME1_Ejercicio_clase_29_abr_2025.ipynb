{
 "cells": [
  {
   "cell_type": "markdown",
   "id": "3660699a-8996-4bc1-a3be-2d49de3dded4",
   "metadata": {},
   "source": [
    "<img src=\"Logo_UTN.svg\" align=\"right\" width=\"150\" />\n",
    "\n",
    "##\n",
    "\n",
    "***\n",
    "\n",
    "## (950457) Medidas Electrónicas I\n",
    "\n",
    "***\n",
    "\n",
    "Profesor: Ing. Emiliano Marinsek\t<<emarinsek@frba.utn.edu.ar>> <br>\n",
    "Ayudante: Ing. Juan Manuel Perdomo\t<<jmperdomo@frba.utn.edu.ar>>\n",
    "\n",
    "***\n",
    "\n",
    "Por David Moharos\n",
    "\n",
    "***"
   ]
  },
  {
   "cell_type": "markdown",
   "id": "45a479b9-651e-4d8c-b467-be84db55a2f6",
   "metadata": {},
   "source": [
    "<img src=\"./Enunciado.png\" style=\"margin-left:auto; margin-right:auto\"/>"
   ]
  },
  {
   "cell_type": "markdown",
   "id": "cafd0e30-01e6-4268-8da7-d469b98924da",
   "metadata": {},
   "source": [
    "#####\n",
    "\n",
    "a) \n",
    "\n",
    "#####\n",
    "\n",
    "Cálculo de valor medio de $\\overline{R}$:\n",
    "\n",
    "#####\n",
    "\n",
    "\\begin{equation*}\n",
    "\\overline{R} = \\frac{ \\overline{Vx} }{ \\overline{Ix} }\n",
    "\\end{equation*}\n",
    "\n",
    "#####\n",
    "\n",
    "\\begin{equation*}\n",
    "\\overline{R} = \\frac{ 164,37 mV }{ 0,2946 mA }\n",
    "\\end{equation*}\n",
    "\n",
    "#####"
   ]
  },
  {
   "cell_type": "code",
   "execution_count": 45,
   "id": "11f17f67-7608-4962-b5b0-c71020edfb6c",
   "metadata": {},
   "outputs": [],
   "source": [
    "import sympy as sp\n",
    "import numpy as np\n",
    "from IPython.display import display, Markdown, HTML"
   ]
  },
  {
   "cell_type": "code",
   "execution_count": 46,
   "id": "b80a5f0c-033d-4688-ae72-f0f961833727",
   "metadata": {},
   "outputs": [
    {
     "data": {
      "text/markdown": [
       "###"
      ],
      "text/plain": [
       "<IPython.core.display.Markdown object>"
      ]
     },
     "metadata": {},
     "output_type": "display_data"
    },
    {
     "data": {
      "text/html": [
       " <div style=\"text-align: center;\">\n",
       "             <p>\\[ \\overline{R} = 557.841140529532\\,[\\Omega] \\]</p>\n",
       "             </div>\n",
       "             "
      ],
      "text/plain": [
       "<IPython.core.display.HTML object>"
      ]
     },
     "metadata": {},
     "output_type": "display_data"
    }
   ],
   "source": [
    "Vx = 164.34 * 10**-3            #-- Indicación [V] --\n",
    "Ix = 0.2946 * 10**-3            #-- Indicación [A] --\n",
    "\n",
    "R = Vx / Ix\n",
    "\n",
    "display(Markdown(\"###\"))\n",
    "display(HTML(\"\"\" <div style=\"text-align: center;\">\n",
    "             <p>\\[ \\overline{R} = \"\"\" + sp.latex(R) + r\"\"\"\\,[\\Omega] \\]</p>\n",
    "             </div>\n",
    "             \"\"\") )"
   ]
  },
  {
   "cell_type": "markdown",
   "id": "b44f0cb7-fe10-4e5e-b107-232997a86e26",
   "metadata": {},
   "source": [
    "#####\n",
    "\n",
    "<u>Cálculo de incertidumbre para la tensión $Vx$:</u>\n",
    "\n",
    "#####\n",
    "\n",
    "Incertidumbre tipo A viene dada directamente como dato a través del desvío estándar de la media:\n",
    "\n",
    "#####\n",
    "\n",
    "\\begin{equation*}\n",
    "u_A(\\overline{Vx}) = 0,26 mV\n",
    "\\end{equation*}\n",
    "\n",
    "#####\n",
    "\n",
    "Incertidumbre tipo B:\n",
    "\n",
    "#####\n",
    "\n",
    "\\begin{equation*}\n",
    "u_B(\\overline{Vx}) = \\frac{ \\left( \\frac{er_V\\%}{100} + \\frac{n_Vd}{ci_V} \\right) \\cdot \\overline{Vx} }{ \\sqrt{3} } \n",
    "\\end{equation*}\n",
    "\n",
    "#####\n",
    "\n",
    "\\begin{equation*}\n",
    "u_B(\\overline{Vx}) = \\frac{ \\left( \\frac{0,05}{100} + \\frac{2}{16437} \\right) \\cdot 164,34 mV }{ \\sqrt{3} } \n",
    "\\end{equation*}\n",
    "\n",
    "#####"
   ]
  },
  {
   "cell_type": "code",
   "execution_count": 47,
   "id": "519993de-c4c1-4e1d-b5aa-c9956b301548",
   "metadata": {},
   "outputs": [
    {
     "data": {
      "text/markdown": [
       "###"
      ],
      "text/plain": [
       "<IPython.core.display.Markdown object>"
      ]
     },
     "metadata": {},
     "output_type": "display_data"
    },
    {
     "data": {
      "text/html": [
       " <div style=\"text-align: center;\">\n",
       "             <p>\\[ u_B(\\overline{Vx}) = 5.89857695007526 \\cdot 10^{-5}\\, [V] \\]</p>    \n",
       "             </div>\n",
       "             "
      ],
      "text/plain": [
       "<IPython.core.display.HTML object>"
      ]
     },
     "metadata": {},
     "output_type": "display_data"
    }
   ],
   "source": [
    "er = 0.05                       #-- Error de referencia [%] --\n",
    "n = 2                           #-- Error de cuentas [] --    \n",
    "ci = 16437                      #-- Cuentas indicadas [] --\n",
    "\n",
    "u_B_Vx = ( ( er / 100 ) + ( n / ci ) ) * Vx / np.sqrt(3)\n",
    "\n",
    "display(Markdown(\"###\"))\n",
    "display(HTML(\"\"\" <div style=\"text-align: center;\">\n",
    "             <p>\\[ u_B(\\overline{Vx}) = \"\"\" + sp.latex( u_B_Vx ) + r\"\"\"\\, [V] \\]</p>    \n",
    "             </div>\n",
    "             \"\"\") )"
   ]
  },
  {
   "cell_type": "markdown",
   "id": "7d01e3b1-49d1-4ed2-a865-824dfc97d6b8",
   "metadata": {},
   "source": [
    "\\begin{equation*}\n",
    "u(\\overline{Vx}) = \\sqrt{ u_A^2(\\overline{Vx}) + u_B^2(\\overline{Vx}) }\n",
    "\\end{equation*}\n",
    "\n",
    "#####\n",
    "\n",
    "\\begin{equation*}\n",
    "u(\\overline{Vx}) = \\sqrt{ (0,26mV)^2 + (0,0589mV)^2 }\n",
    "\\end{equation*}\n",
    "\n",
    "#####"
   ]
  },
  {
   "cell_type": "code",
   "execution_count": 48,
   "id": "b134ab6b-dbfe-4fc2-8be9-fdf74577f0bc",
   "metadata": {},
   "outputs": [
    {
     "data": {
      "text/markdown": [
       "###"
      ],
      "text/plain": [
       "<IPython.core.display.Markdown object>"
      ]
     },
     "metadata": {},
     "output_type": "display_data"
    },
    {
     "data": {
      "text/html": [
       " <div style=\"text-align: center;\">\n",
       "             <p>\\[ u(\\overline{Vx}) = 0.000266607053551844\\, [V] \\]</p>    \n",
       "             </div>\n",
       "             "
      ],
      "text/plain": [
       "<IPython.core.display.HTML object>"
      ]
     },
     "metadata": {},
     "output_type": "display_data"
    }
   ],
   "source": [
    "u_A_Vx = 0.26 * 10**-3         #-- Incertidumbre tipo A de la tensión Vx [V] --\n",
    "\n",
    "u_Vx = np.sqrt( u_A_Vx**2 + u_B_Vx**2 )\n",
    "\n",
    "display(Markdown(\"###\"))\n",
    "display(HTML(\"\"\" <div style=\"text-align: center;\">\n",
    "             <p>\\[ u(\\overline{Vx}) = \"\"\" + sp.latex( u_Vx ) + r\"\"\"\\, [V] \\]</p>    \n",
    "             </div>\n",
    "             \"\"\") )"
   ]
  },
  {
   "cell_type": "markdown",
   "id": "27edab1a-d418-4cf2-9470-49a9e5082848",
   "metadata": {},
   "source": [
    "#####\n",
    "\n",
    "<u>Cálculo de incertidumbre para la corriente $Ix$:</u>\n",
    "\n",
    "#####\n",
    "\n",
    "Incertidumbre tipo A viene dada directamente como dato a través del desvío estándar de la media:\n",
    "\n",
    "#####\n",
    "\n",
    "\\begin{equation*}\n",
    "u_A(\\overline{Ix}) = 0,0084 mA\n",
    "\\end{equation*}\n",
    "\n",
    "#####\n",
    "\n",
    "Incertidumbre tipo B:\n",
    "\n",
    "#####\n",
    "\n",
    "\\begin{equation*}\n",
    "u_B(\\overline{Ix}) = \\frac{ \\left( \\frac{er_I\\%}{100} + \\frac{n_Id}{ci_I} \\right) \\cdot \\overline{Ix} }{ \\sqrt{3} } \n",
    "\\end{equation*}\n",
    "\n",
    "#####\n",
    "\n",
    "\\begin{equation*}\n",
    "u_B(\\overline{Ix}) = \\frac{ \\left( \\frac{0,06}{100} + \\frac{4}{2946} \\right) \\cdot 0,2946 mA }{ \\sqrt{3} }\n",
    "\\end{equation*}\n",
    "\n",
    "#####"
   ]
  },
  {
   "cell_type": "code",
   "execution_count": 49,
   "id": "443c27ca-5cb4-4389-93f3-4c1794a87c93",
   "metadata": {},
   "outputs": [
    {
     "data": {
      "text/markdown": [
       "###"
      ],
      "text/plain": [
       "<IPython.core.display.Markdown object>"
      ]
     },
     "metadata": {},
     "output_type": "display_data"
    },
    {
     "data": {
      "text/html": [
       " <div style=\"text-align: center;\">\n",
       "             <p>\\[ u_B(\\overline{Ix}) = 3.32992541257809 \\cdot 10^{-7}\\, [A] \\]</p>    \n",
       "             </div>\n",
       "             "
      ],
      "text/plain": [
       "<IPython.core.display.HTML object>"
      ]
     },
     "metadata": {},
     "output_type": "display_data"
    }
   ],
   "source": [
    "er = 0.06                       #-- Error de referencia [%] --\n",
    "n = 4                           #-- Error de cuentas [] --    \n",
    "ci = 2946                       #-- Cuentas indicadas [] --\n",
    "\n",
    "u_B_Ix = ( ( er / 100 ) + ( n / ci ) ) * Ix / np.sqrt(3)\n",
    "\n",
    "display(Markdown(\"###\"))\n",
    "display(HTML(\"\"\" <div style=\"text-align: center;\">\n",
    "             <p>\\[ u_B(\\overline{Ix}) = \"\"\" + sp.latex( u_B_Ix ) + r\"\"\"\\, [A] \\]</p>    \n",
    "             </div>\n",
    "             \"\"\") )"
   ]
  },
  {
   "cell_type": "markdown",
   "id": "1cbc6caa-918b-46a4-ae9c-ac44def267e6",
   "metadata": {},
   "source": [
    "\\begin{equation*}\n",
    "u(\\overline{Ix}) = \\sqrt{ u_A^2(\\overline{Ix}) + u_B^2(\\overline{Ix}) }\n",
    "\\end{equation*}\n",
    "\n",
    "#####\n",
    "\n",
    "\\begin{equation*}\n",
    "u(\\overline{Ix}) = \\sqrt{ (0,26mA)^2 + (0,0589mA)^2 }\n",
    "\\end{equation*}\n",
    "\n",
    "#####"
   ]
  },
  {
   "cell_type": "code",
   "execution_count": 50,
   "id": "23547d11-9184-4607-8208-5aff7f637124",
   "metadata": {},
   "outputs": [
    {
     "data": {
      "text/markdown": [
       "###"
      ],
      "text/plain": [
       "<IPython.core.display.Markdown object>"
      ]
     },
     "metadata": {},
     "output_type": "display_data"
    },
    {
     "data": {
      "text/html": [
       " <div style=\"text-align: center;\">\n",
       "             <p>\\[ u(\\overline{Ix}) = 8.40659764902147 \\cdot 10^{-6}\\, [A] \\]</p>    \n",
       "             </div>\n",
       "             "
      ],
      "text/plain": [
       "<IPython.core.display.HTML object>"
      ]
     },
     "metadata": {},
     "output_type": "display_data"
    }
   ],
   "source": [
    "u_A_Ix = 0.0084 * 10**-3         #-- Incertidumbre tipo A de la corriente Ix [A] --\n",
    "\n",
    "u_Ix = np.sqrt( u_A_Ix**2 + u_B_Ix**2 )\n",
    "\n",
    "display(Markdown(\"###\"))\n",
    "display(HTML(\"\"\" <div style=\"text-align: center;\">\n",
    "             <p>\\[ u(\\overline{Ix}) = \"\"\" + sp.latex( u_Ix ) + r\"\"\"\\, [A] \\]</p>    \n",
    "             </div>\n",
    "             \"\"\") )"
   ]
  },
  {
   "cell_type": "markdown",
   "id": "b2b559ed-38fc-4e91-876e-2964d0232e73",
   "metadata": {},
   "source": [
    "#####\n",
    "\n",
    "Cálculo de la incertidumbre combinada:\n",
    "\n",
    "#####\n",
    "\n",
    "\\begin{equation*} \n",
    "u_C(\\bar{R}) = \\sqrt{\\left[\\frac{dR}{dVx}\\right]^2 \\cdot u^2(\\bar{Vx}) + \\left[\\frac{dR}{dIx}\\right]^2 \\cdot u^2(\\bar{Ix}) + 2 \\cdot \\left[\\frac{dR}{dVx}\\right] \\cdot u(\\bar{Vx}) \\cdot \\left[\\frac{dR}{dIx}\\right] \\cdot u(\\bar{Ix}) \\cdot r(\\bar{Vx},\\bar{Ix})}\n",
    "\\end{equation*}\n",
    "\n",
    "#####\n",
    "\n",
    "\\begin{equation*} \n",
    "u_C(\\bar{R}) = \\sqrt{\\left[\\frac{1}{\\bar{Ix}}\\right]^2 \\cdot u^2(\\bar{Vx}) + \\left[-\\frac{\\bar{Vx}}{\\bar{Ix}^2}\\right]^2 \\cdot u^2(\\bar{Ix}) + 2 \\cdot \\left[\\frac{1}{\\bar{Ix}}\\right] \\cdot u(\\bar{Vx}) \\cdot \\left[-\\frac{\\bar{Vx}}{\\bar{Ix}^2}\\right] \\cdot u(\\bar{Ix}) \\cdot r(\\bar{Vx},\\bar{Ix})}\n",
    "\\end{equation*}\n",
    "\n",
    "#####\n",
    "\n",
    "\\begin{equation*} \n",
    "u_C(\\bar{R}) = \\sqrt{\\left[\\frac{1}{0,2946mA}\\right]^2 \\cdot (0,2666mV)^2 + \\left[-\\frac{164,37mV}{(0,2946mA)^2}\\right]^2 \\cdot (8,4066 \\mu A)^2 + 2 \\cdot \\left[\\frac{1}{0,2946mA}\\right] \\cdot 0,2666mV \\cdot \\left[-\\frac{164,37mV}{0,2946mA)^2}\\right] \\cdot 8,4066 \\mu A \\cdot 0,72}\n",
    "\\end{equation*}\n",
    "\n",
    "#####"
   ]
  },
  {
   "cell_type": "code",
   "execution_count": 51,
   "id": "132675ee-a1f3-427a-96ac-e8f88e7cefd3",
   "metadata": {},
   "outputs": [
    {
     "data": {
      "text/markdown": [
       "###"
      ],
      "text/plain": [
       "<IPython.core.display.Markdown object>"
      ]
     },
     "metadata": {},
     "output_type": "display_data"
    },
    {
     "data": {
      "text/html": [
       " <div style=\"text-align: center;\">\n",
       "             <p>\\[ u_c(\\overline{R}) = 15.279677208841\\, [\\Omega] \\]</p>    \n",
       "             </div>\n",
       "             "
      ],
      "text/plain": [
       "<IPython.core.display.HTML object>"
      ]
     },
     "metadata": {},
     "output_type": "display_data"
    }
   ],
   "source": [
    "r_Vx_Ix = 0.72\n",
    "u_c_R = np.sqrt( (1/Ix)**2 * u_Vx**2 + \n",
    "                 (-Vx/(Ix)**2)**2 * u_Ix**2 +\n",
    "                 2 * (1/Ix) * u_Vx * (-Vx/(Ix)**2) * u_Ix * r_Vx_Ix)\n",
    "\n",
    "display(Markdown(\"###\"))\n",
    "display(HTML(\"\"\" <div style=\"text-align: center;\">\n",
    "             <p>\\[ u_c(\\overline{R}) = \"\"\" + sp.latex( u_c_R ) + r\"\"\"\\, [\\Omega] \\]</p>    \n",
    "             </div>\n",
    "             \"\"\") )"
   ]
  },
  {
   "cell_type": "markdown",
   "id": "6b0ad553-20e5-4119-a52f-13f752c638c5",
   "metadata": {},
   "source": [
    "#####\n",
    "\n",
    "Cálculo de incertidumbre expandida:\n",
    "\n",
    "#####\n",
    "\n",
    "\\begin{equation*}\n",
    "U(\\overline{R}) = u_c(\\overline{R}) \\cdot k_{95\\%}\n",
    "\\end{equation*}\n",
    "\n",
    "#####\n",
    "\n",
    "\\begin{equation*}\n",
    "U(\\overline{R}) = 15,2797 \\Omega \\cdot 2\n",
    "\\end{equation*}\n",
    "\n",
    "#####"
   ]
  },
  {
   "cell_type": "code",
   "execution_count": 52,
   "id": "cab5439b-04f9-43ac-8660-2b37d29371a2",
   "metadata": {},
   "outputs": [
    {
     "data": {
      "text/markdown": [
       "###"
      ],
      "text/plain": [
       "<IPython.core.display.Markdown object>"
      ]
     },
     "metadata": {},
     "output_type": "display_data"
    },
    {
     "data": {
      "text/html": [
       " <div style=\"text-align: center;\">\n",
       "             <p>\\[ U_c(\\overline{R}) = 30.5593544176821\\, [\\Omega] \\]</p>    \n",
       "             </div>\n",
       "             "
      ],
      "text/plain": [
       "<IPython.core.display.HTML object>"
      ]
     },
     "metadata": {},
     "output_type": "display_data"
    }
   ],
   "source": [
    "k_95 = 2\n",
    "U_c_R = u_c_R * k_95\n",
    "\n",
    "display(Markdown(\"###\"))\n",
    "display(HTML(\"\"\" <div style=\"text-align: center;\">\n",
    "             <p>\\[ U_c(\\overline{R}) = \"\"\" + sp.latex( U_c_R ) + r\"\"\"\\, [\\Omega] \\]</p>    \n",
    "             </div>\n",
    "             \"\"\") )"
   ]
  },
  {
   "cell_type": "markdown",
   "id": "cc1ab6f0-31e6-4958-aa1d-9f0608786efd",
   "metadata": {},
   "source": [
    "#####\n",
    "\n",
    "Resultado de la medición:\n",
    "\n",
    "#####\n",
    "\n",
    "\\begin{equation*}\n",
    "R = \\overline{R} \\pm U(\\overline{R}) \n",
    "\\end{equation*}\n",
    "\n",
    "#####\n",
    "\n",
    "\\begin{equation*}\n",
    "\\boxed{ R = \\left( 558 \\pm 31 \\right) \\Omega \\qquad k = 2 }\n",
    "\\end{equation*}\n",
    "\n",
    "#####\n",
    "\n",
    "b) \n",
    "\n",
    "#####\n",
    "\n",
    "La calidad de la medición se puede mejorar mitigando los efectos de las incertidumbres: para mejorar la incertidumbre de tipo A, se puede aumentar la cantidad de mediciones mientras que para mejorar la incertidumbre de tipo B podemos trabajar a fondo de escala o bien cambiando el instrumento.\n",
    "\n",
    "#####\n",
    "\n",
    "Si la incertidumbre tipo B es mayor a la de tipo A, podemos mejorar el tiempo de la medición realizando menor cantidad de mediciones.\n",
    "\n",
    "#####\n"
   ]
  }
 ],
 "metadata": {
  "kernelspec": {
   "display_name": "Python 3 (ipykernel)",
   "language": "python",
   "name": "python3"
  },
  "language_info": {
   "codemirror_mode": {
    "name": "ipython",
    "version": 3
   },
   "file_extension": ".py",
   "mimetype": "text/x-python",
   "name": "python",
   "nbconvert_exporter": "python",
   "pygments_lexer": "ipython3",
   "version": "3.11.9"
  }
 },
 "nbformat": 4,
 "nbformat_minor": 5
}
