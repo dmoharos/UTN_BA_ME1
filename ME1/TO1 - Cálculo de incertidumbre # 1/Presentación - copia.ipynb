{
 "cells": [
  {
   "cell_type": "markdown",
   "id": "3660699a-8996-4bc1-a3be-2d49de3dded4",
   "metadata": {},
   "source": [
    "<img src=\"Logo.png\" align=\"right\" width=\"150\" />\n",
    "\n",
    "##\n",
    "***\n",
    "## (950457) Medidas Electrónicas I\n",
    "#####\n",
    "\n",
    "Profesor: Ing. Emiliano Marinsek\t<<emarinsek@frba.utn.edu.ar>> <br>\n",
    "Ayudante: Ing. Juan Manuel Perdomo\t<<jmperdomo@frba.utn.edu.ar>>\n",
    "\n",
    "***\n",
    "####\n",
    "### <u> Ejercicios de incertidumbre</u>\n",
    "##### *Introducción al cálculo de incertidumbre*\n",
    "####\n",
    "\n",
    "Por David Moharos\n",
    "\n",
    "***"
   ]
  },
  {
   "cell_type": "markdown",
   "id": "45a479b9-651e-4d8c-b467-be84db55a2f6",
   "metadata": {},
   "source": [
    "<img src=\"Consigna.png\" style=\"margin-left:auto; margin-right:auto\"/>"
   ]
  },
  {
   "cell_type": "code",
   "execution_count": 214,
   "id": "11f17f67-7608-4962-b5b0-c71020edfb6c",
   "metadata": {},
   "outputs": [],
   "source": [
    "#%% Librerías y módulos de Python a utilizar\n",
    "\n",
    "import numpy as np\n",
    "from IPython.display import display, Markdown, HTML\n",
    "import pandas as pd"
   ]
  },
  {
   "cell_type": "code",
   "execution_count": 175,
   "id": "ca0acd72-15aa-4f28-a8c6-3801f020f75d",
   "metadata": {},
   "outputs": [],
   "source": [
    "#%% Métodos auxiliares\n",
    "\n",
    "#-- Ejercicio 1 --\n",
    "def calculo_em (R1, R2):\n",
    "    return ( R2 / (R2 - R1) )\n",
    "\n",
    "#-- Ejercicio 2 --\n",
    "def calculo_deltaV (V1, V2):\n",
    "    return ( V1 - V2 )\n",
    "\n",
    "#-- Ejercicio 3 --\n",
    "def calculo_Vout (Voff, a_s, g, theta):\n",
    "    return ( Voff + a_s / g * g * np.sin(theta) )\n",
    "\n",
    "#-- Ejercicio 4 --\n",
    "def calculo_R1 (V1, I1):\n",
    "    return ( V1 / I1 )\n",
    "    \n",
    "#-- Ejercicio 5--\n",
    "def calculo_V0 (H1, H0, KH, S, RG):\n",
    "    AV = 1 + 50 * 10**3 / RG\n",
    "    return ( (H1 - H0) * KH * S * AV )\n",
    "\n",
    "#-- Métodos comunes a todos los ejercicios --\n",
    "def valor_mas_probable (mediciones):\n",
    "    return np.mean(mediciones, dtype=np.float64)\n",
    "\n",
    "def incertidumbre_tipo_A (mediciones):\n",
    "    s = np.std(mediciones, ddof=1, )     # ddof=1 -> grados de libertad v = 1/n-1\n",
    "    return s/np.sqrt(len(mediciones))\n",
    "\n",
    "def incertidumbre_tipo_B (error_relativo, error_cuentas, cuentas_indicadas, mediciones):\n",
    "    return (error_relativo/100 + error_cuentas/cuentas_indicadas) * np.mean(mediciones) / np.sqrt(3)\n",
    "\n",
    "def incertidumbre_tipo_B (error_relativo, error_cuentas, cuentas_indicadas, valor_mas_probable):\n",
    "    return (error_relativo/100 + error_cuentas/cuentas_indicadas) * valor_mas_probable / np.sqrt(3)\n",
    "\n",
    "def incertidumbre_combinada (uA, uB):\n",
    "    return np.sqrt(uA**2 + uB**2)"
   ]
  },
  {
   "cell_type": "markdown",
   "id": "f2d3b637-77fb-42e8-b1b6-3204c5727c37",
   "metadata": {},
   "source": [
    "<img src=\"Ejercicio_1.png\" style=\"margin-left:auto; margin-right:auto\"/>"
   ]
  },
  {
   "cell_type": "markdown",
   "id": "cafd0e30-01e6-4268-8da7-d469b98924da",
   "metadata": {},
   "source": [
    "***\n",
    "#####\n",
    "\n",
    "#### <u>Cálculo de valor más probable</u>\n",
    "\n",
    "#####\n",
    "\n",
    "Se obtienen los valores más probables de $R_1$ y $R_2$ a través de la siguiente expresión:\n",
    "\n",
    "#####\n",
    "\n",
    "\\begin{equation*}\n",
    "\\overline{R_i} = \\frac{1}{n} \\cdot \\sum\\limits_{k=1}^{n} R_{i,k}\n",
    "\\end{equation*}\n",
    "\n",
    "#####\n",
    "\n",
    "Siendo:\n",
    "\n",
    "> n: cantidad de mediciones\n",
    "\n",
    "> $R_{i_{k}}$: i-ésimos valores de resistencias, k-ésimos valores de las n mediciones.\n",
    "\n",
    "#####\n",
    "\n",
    "Reemplazando los valores de la tabla, obtenemos $\\overline{R_1}$ y $\\overline{R_2}$:\n",
    "\n",
    "#####"
   ]
  },
  {
   "cell_type": "code",
   "execution_count": 158,
   "id": "50a6f8eb-dd78-44fe-aa0f-55ac77db79bc",
   "metadata": {},
   "outputs": [
    {
     "data": {
      "text/markdown": [
       "##\n",
       "$$\\overline{R_1} = 2.028 \\, [\\Omega]$$\n"
      ],
      "text/plain": [
       "<IPython.core.display.Markdown object>"
      ]
     },
     "metadata": {},
     "output_type": "display_data"
    },
    {
     "data": {
      "text/markdown": [
       "##\n",
       "$$\\overline{R_2} = 0.526 \\, [\\Omega]$$\n"
      ],
      "text/plain": [
       "<IPython.core.display.Markdown object>"
      ]
     },
     "metadata": {},
     "output_type": "display_data"
    }
   ],
   "source": [
    "R1 = [2.01, 2.04, 2.03, 2.02, 2.04]\n",
    "R2 = [0.53, 0.54, 0.52, 0.51, 0.53]\n",
    "\n",
    "ov_R1 = valor_mas_probable(R1)\n",
    "ov_R2 = valor_mas_probable(R2) \n",
    "\n",
    "display(Markdown(\"##\\n\" + f\"$$\\\\overline{{R_1}} = {ov_R1} \\, [\\Omega]$$\\n\"))\n",
    "display(Markdown(\"##\\n\" + f\"$$\\\\overline{{R_2}} = {ov_R2} \\, [\\Omega]$$\\n\"))"
   ]
  },
  {
   "cell_type": "markdown",
   "id": "b270cc78-e6ae-4fcd-a903-bbc00ac70319",
   "metadata": {},
   "source": [
    "#####\n",
    "\n",
    "Se obtiene el valor más probable de $e_m$ a través de la siguiente expresión:\n",
    "\n",
    "#####\n",
    "\n",
    "\\begin{equation*}\n",
    "\\overline{e_m} = \\frac{ \\overline{ R_2 } }{ \\overline{ R_2 } - \\overline{ R_1 } }\n",
    "\\end{equation*}\n",
    "\n",
    "#####"
   ]
  },
  {
   "cell_type": "code",
   "execution_count": 159,
   "id": "8513be9e-66e5-4f2c-9198-38c53e092a28",
   "metadata": {},
   "outputs": [
    {
     "data": {
      "text/markdown": [
       "##\n",
       "$$\\overline{e_m} = -0.35019973368841545$$\n"
      ],
      "text/plain": [
       "<IPython.core.display.Markdown object>"
      ]
     },
     "metadata": {},
     "output_type": "display_data"
    }
   ],
   "source": [
    "ov_em = calculo_em (ov_R1, ov_R2)\n",
    "\n",
    "display(Markdown(\"##\\n\" + f\"$$\\\\overline{{e_m}} = {ov_em}$$\\n\"))"
   ]
  },
  {
   "cell_type": "markdown",
   "id": "8298fb8a-fa20-401a-b53c-24fae8c12cad",
   "metadata": {},
   "source": [
    "#####\n",
    "\n",
    "#### <u>Cálculo de incertidumbres</u>\n",
    "\n",
    "#####\n",
    "\n",
    "<u>Incertidumbre tipo A:</u>\n",
    "\n",
    "#####\n",
    "\n",
    "Se obtienen las incertidumbres tipo A a través de la siguiente expresión:\n",
    "\n",
    "#####\n",
    "\n",
    "\\begin{equation*}\n",
    "u_A(R_i) = \\frac{ s(R_i) }{ \\sqrt{n} } = \\frac{ \\sqrt{ \\frac{ 1 }{ n-1 } \\sum \\limits_{k=1}^{n} \\left( R_{i,k} - \\overline{R_i} \\right)^{2} } }{ \\sqrt{n} }\n",
    "\\end{equation*}\n",
    "\n",
    "#####"
   ]
  },
  {
   "cell_type": "code",
   "execution_count": 153,
   "id": "b80a5f0c-033d-4688-ae72-f0f961833727",
   "metadata": {},
   "outputs": [
    {
     "data": {
      "text/markdown": [
       "##\n",
       "$$u_A(R_1) = 0.005830951894845336 \\, [\\Omega]$$\n"
      ],
      "text/plain": [
       "<IPython.core.display.Markdown object>"
      ]
     },
     "metadata": {},
     "output_type": "display_data"
    },
    {
     "data": {
      "text/markdown": [
       "##\n",
       "$$u_A(R_2) = 0.00509901951359279 \\, [\\Omega]$$\n"
      ],
      "text/plain": [
       "<IPython.core.display.Markdown object>"
      ]
     },
     "metadata": {},
     "output_type": "display_data"
    }
   ],
   "source": [
    "uA_R1 = incertidumbre_tipo_A (R1)\n",
    "uA_R2 = incertidumbre_tipo_A (R2)\n",
    "\n",
    "display(Markdown(\"##\\n\" + f\"$$u_A(R_1) = {uA_R1} \\, [\\Omega]$$\\n\"))\n",
    "display(Markdown(\"##\\n\" + f\"$$u_A(R_2) = {uA_R2} \\, [\\Omega]$$\\n\"))"
   ]
  },
  {
   "cell_type": "markdown",
   "id": "2b4b754f-df27-4c98-8769-8ae754ca8773",
   "metadata": {},
   "source": [
    "#####\n",
    "\n",
    "<u>Incertidumbre tipo B:</u>\n",
    "\n",
    "#####\n",
    "\n",
    "Se obtienen las incertidumbres tipo B a través de la siguiente expresión:\n",
    "\n",
    "#####\n",
    "\n",
    "\\begin{equation*}\n",
    "u_B(R_i) = \\frac{ \\Delta R_i }{ \\sqrt{3} } = \\frac{ \\left( \\frac{er\\%}{100} + \\frac{n}{ci} \\right) \\cdot \\overline{R_i} }{ \\sqrt{3} } \n",
    "\\end{equation*}\n",
    "\n",
    "#####\n",
    "\n",
    "\n",
    "Siendo:\n",
    "\n",
    "> $er%$: Error relativo.\n",
    "\n",
    "> $n$: Error de cuentas.\n",
    "\n",
    "> $ci$: Cuentas indicadas.\n",
    "\n",
    "#####\n",
    "\n",
    "Además:\n",
    "\n",
    "> $ci = \\frac{Ind}{Res} \\frac{ [u] }{ \\left[ \\frac{u}{cuenta} \\right] }= [cuentas]$\n",
    "\n",
    "> $Ind$: Indicación del instrumento con su respectiva $u$ unidad.\n",
    "\n",
    "> $Res$: Resolución del instrumento con su respectiva $u$ unidad por cuenta, dada por el rango seleccionado y la cantidad de dígitos que el mismo puede representar.\n",
    "\n",
    "#####\n"
   ]
  },
  {
   "cell_type": "code",
   "execution_count": 154,
   "id": "0444cf6b-0948-4bbe-8d0d-040f214dcc32",
   "metadata": {},
   "outputs": [
    {
     "data": {
      "text/markdown": [
       "##\n",
       "$$u_B(R_1) = 0.017401337113375322 \\, [\\Omega]$$\n"
      ],
      "text/plain": [
       "<IPython.core.display.Markdown object>"
      ]
     },
     "metadata": {},
     "output_type": "display_data"
    },
    {
     "data": {
      "text/markdown": [
       "##\n",
       "$$u_B(R_2) = 0.013065436591761232 \\, [\\Omega]$$\n"
      ],
      "text/plain": [
       "<IPython.core.display.Markdown object>"
      ]
     },
     "metadata": {},
     "output_type": "display_data"
    }
   ],
   "source": [
    "er = 0.5\n",
    "n = 2\n",
    "\n",
    "ind_R1 = ov_R1\n",
    "res_R1 = 0.01\n",
    "ci_R1 = ind_R1 / res_R1\n",
    "\n",
    "ind_R2 = ov_R2\n",
    "res_R2 = 0.01\n",
    "ci_R2 = ind_R2 / res_R2\n",
    "\n",
    "#def incertidumbre_tipo_B (error_relativo, error_cuentas, cuentas_indicadas, valor_mas_probable):\n",
    "uB_R1 = incertidumbre_tipo_B (er, n, ci_R1, ov_R1)\n",
    "uB_R2 = incertidumbre_tipo_B (er, n, ci_R2, ov_R2)\n",
    "\n",
    "display(Markdown(\"##\\n\" + f\"$$u_B(R_1) = {uB_R1} \\, [\\Omega]$$\\n\"))\n",
    "display(Markdown(\"##\\n\" + f\"$$u_B(R_2) = {uB_R2} \\, [\\Omega]$$\\n\"))"
   ]
  },
  {
   "cell_type": "markdown",
   "id": "2b3e9299-8b74-4b3d-8713-fbda5b8d091a",
   "metadata": {},
   "source": [
    "#####\n",
    "\n",
    "<u>Incertidumbre de $R_i$:</u>\n",
    "\n",
    "#####\n",
    "\n",
    "Se obtienen las incertidumbres de $R_i$ a través de la siguiente expresión:\n",
    "\n",
    "#####\n",
    "\n",
    "\\begin{equation*}\n",
    "u(R_i) = \\sqrt{ u_A^2(R_i) + u_B^2(R_i) }\n",
    "\\end{equation*}\n",
    "\n",
    "#####"
   ]
  },
  {
   "cell_type": "code",
   "execution_count": 155,
   "id": "6c8bb3f8-0553-4efa-b43a-b2377a396fe9",
   "metadata": {},
   "outputs": [
    {
     "data": {
      "text/markdown": [
       "##\n",
       "$$u(R_1) = 0.018352289593762786 \\, [\\Omega]$$\n"
      ],
      "text/plain": [
       "<IPython.core.display.Markdown object>"
      ]
     },
     "metadata": {},
     "output_type": "display_data"
    },
    {
     "data": {
      "text/markdown": [
       "##\n",
       "$$u(R_2) = 0.01402517854907143 \\, [\\Omega]$$\n"
      ],
      "text/plain": [
       "<IPython.core.display.Markdown object>"
      ]
     },
     "metadata": {},
     "output_type": "display_data"
    }
   ],
   "source": [
    "#def incertidumbre_combinada (uA, uB):\n",
    "uC_R1 = incertidumbre_combinada (uA_R1, uB_R1)\n",
    "uC_R2 = incertidumbre_combinada (uA_R2, uB_R2)\n",
    "\n",
    "display(Markdown(\"##\\n\" + f\"$$u(R_1) = {uC_R1} \\, [\\Omega]$$\\n\"))\n",
    "display(Markdown(\"##\\n\" + f\"$$u(R_2) = {uC_R2} \\, [\\Omega]$$\\n\"))"
   ]
  },
  {
   "cell_type": "markdown",
   "id": "fee87b70-d1e8-4e90-bc94-36bffe647174",
   "metadata": {},
   "source": [
    "#####\n",
    "\n",
    "<u> Incertidumbre combinada </u>\n",
    "\n",
    "#####\n",
    "\n",
    "Se obtienen la incertidumbre combinada de $e_m$ a través de la siguiente expresión:\n",
    "\n",
    "#####\n",
    "\n",
    "\\begin{equation*} \n",
    "u_C(e_m) = \\sqrt{\\left[\\frac{de_m}{dR_1}\\right]^2 \\cdot u^2(R_1) + \\left[\\frac{de_m}{dR_2}\\right]^2 \\cdot u^2(R_2) }\n",
    "\\end{equation*}\n",
    "\n",
    "#####\n",
    "\n",
    "\\begin{equation*} \n",
    "u_C(e_m) = \\sqrt{\\left[ \\frac{ \\overline{R_2} }{ ( \\overline{R_2} - \\overline{R_1} )^2 } \\right]^2 \\cdot u^2(R_1) + \\left[ \\frac{ -\\overline{R_1} }{ ( \\overline{R_2} - \\overline{R_1} )^2 } \\right]^2 \\cdot u^2(R_2) }\n",
    "\\end{equation*}\n",
    "\n",
    "#####"
   ]
  },
  {
   "cell_type": "code",
   "execution_count": 156,
   "id": "f23b57b2-016a-4133-980a-88ea9d9ed32f",
   "metadata": {},
   "outputs": [
    {
     "data": {
      "text/markdown": [
       "##\n",
       "$$u_C(e_m) = 0.013314047982818046$$\n"
      ],
      "text/plain": [
       "<IPython.core.display.Markdown object>"
      ]
     },
     "metadata": {},
     "output_type": "display_data"
    }
   ],
   "source": [
    "dem_dR1 = ov_R2 / (ov_R2 - ov_R1)**2\n",
    "dem_dR2 = -ov_R1 / (ov_R2 - ov_R1)**2\n",
    "\n",
    "uC_em = np.sqrt( (dem_dR1)**2 * uC_R1**2 + (dem_dR2)**2 * uC_R2**2)\n",
    "\n",
    "display(Markdown(\"##\\n\" + f\"$$u_C(e_m) = {uC_em}$$\\n\"))"
   ]
  },
  {
   "cell_type": "markdown",
   "id": "6b0ad553-20e5-4119-a52f-13f752c638c5",
   "metadata": {},
   "source": [
    "#####\n",
    "\n",
    "<u>Incertidumbre expandida:</u>\n",
    "\n",
    "#####\n",
    "\n",
    "\\begin{equation*}\n",
    "U(e_m) = u_C(e_m) \\cdot k_{95\\%}\n",
    "\\end{equation*}\n",
    "\n",
    "#####"
   ]
  },
  {
   "cell_type": "code",
   "execution_count": 157,
   "id": "cab5439b-04f9-43ac-8660-2b37d29371a2",
   "metadata": {},
   "outputs": [
    {
     "data": {
      "text/markdown": [
       "##\n",
       "$$U(e_m) = 0.026628095965636093$$\n",
       "##"
      ],
      "text/plain": [
       "<IPython.core.display.Markdown object>"
      ]
     },
     "metadata": {},
     "output_type": "display_data"
    }
   ],
   "source": [
    "k_95 = 2\n",
    "U_em = uC_em * k_95\n",
    "\n",
    "display(Markdown(\"##\\n\" + f\"$$U(e_m) = {U_em}$$\\n\" + \"##\"))"
   ]
  },
  {
   "cell_type": "markdown",
   "id": "cc1ab6f0-31e6-4958-aa1d-9f0608786efd",
   "metadata": {},
   "source": [
    "#####\n",
    "\n",
    "<u>Resultado de la medición:</u>\n",
    "\n",
    "#####\n",
    "\n",
    "\\begin{equation*}\n",
    "e_m = \\overline{e_m} \\pm U(e_m) \n",
    "\\end{equation*}\n",
    "\n",
    "#####\n",
    "\n",
    "\\begin{equation*}\n",
    "e_m = \\left( -0.35019973368841545 \\pm 0.026628095965636093 \\right) \\qquad k = 2\n",
    "\\end{equation*}\n",
    "\n",
    "#####\n",
    "\n",
    "\\begin{equation*}\n",
    "\\boxed{ e_m = \\left( -0.350 \\pm 0.027 \\right) \\qquad k = 2 }\n",
    "\\end{equation*}\n",
    "\n",
    "#####\n",
    "\n",
    "***"
   ]
  }
 ],
 "metadata": {
  "kernelspec": {
   "display_name": "Python 3 (ipykernel)",
   "language": "python",
   "name": "python3"
  },
  "language_info": {
   "codemirror_mode": {
    "name": "ipython",
    "version": 3
   },
   "file_extension": ".py",
   "mimetype": "text/x-python",
   "name": "python",
   "nbconvert_exporter": "python",
   "pygments_lexer": "ipython3",
   "version": "3.11.9"
  }
 },
 "nbformat": 4,
 "nbformat_minor": 5
}
