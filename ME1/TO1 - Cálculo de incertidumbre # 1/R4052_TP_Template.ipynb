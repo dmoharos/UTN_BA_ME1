{
 "cells": [
  {
   "cell_type": "markdown",
   "metadata": {
    "id": "YvTqwkQq3Qy7"
   },
   "source": [
    "# Trabajo Practio de Laboratorio Nº X : Mediciones ....\n"
   ]
  },
  {
   "cell_type": "markdown",
   "metadata": {
    "id": "NE-H2Rg61oD7"
   },
   "source": [
    "##  Datos del grupo\n",
    "\n",
    "*   **Curso:** R4052\n",
    "*   **Nº de Grupo:** X\n",
    "*   **Integrantes:**\n",
    "  1.   Pedro Gutierres\n",
    "  2.   Pablo Franco\n",
    "  1.   Juan Gutierres\n",
    "  1.   Analia Franco\n",
    "\n",
    "\n"
   ]
  },
  {
   "cell_type": "markdown",
   "metadata": {
    "id": "aIKo1mN_4v3W"
   },
   "source": [
    "### Inicializacion"
   ]
  },
  {
   "cell_type": "markdown",
   "metadata": {
    "id": "jtC2-_zJAT3a"
   },
   "source": [
    "> Agregar todas las libreias de pyhon a utilizar"
   ]
  },
  {
   "cell_type": "code",
   "execution_count": null,
   "metadata": {
    "id": "oDMzueCqALsU"
   },
   "outputs": [],
   "source": [
    "# Librerias de pyhon a utilizar\n",
    "import numpy as np\n",
    "import math\n",
    "import IPython\n",
    "from IPython.display import display, Math\n",
    "import pandas as pd"
   ]
  },
  {
   "cell_type": "code",
   "execution_count": null,
   "metadata": {
    "id": "F7EGYOtIAc6c"
   },
   "outputs": [],
   "source": [
    "# Funciones Auxiliares\n",
    "# EJMPLO: Estos son algunos ejemplos de funciones\n",
    "from typing import Any\n",
    "\n",
    "def incert_A(mediciones):\n",
    "  s = np.std(mediciones, ddof=1, )  # ddof=1 -> grados de libertad v = 1/n-1\n",
    "  return s/math.sqrt(len(mediciones))\n",
    "\n",
    "def incert_B(err_rel, nd, ctas, mediciones):\n",
    "  return (err_rel/100 + nd/ctas) * np.mean(mediciones) / math.sqrt(3)\n",
    "\n",
    "def incert_Total(uA, uB):\n",
    "  return math.sqrt(uA**2 + uB**2)"
   ]
  },
  {
   "cell_type": "markdown",
   "metadata": {
    "id": "kRpvHsxg2fMC"
   },
   "source": [
    "#Procedimiento específico de la medición\n",
    "> Debe contener la información necesaria para reproducir la medición y el respaldo retórico que hacen válida la medición. Ej: Instrumental, ecuaciones teóricas, pasos para tomar la medición, circuito de conexión, etc."
   ]
  },
  {
   "cell_type": "markdown",
   "metadata": {
    "id": "oS7-1JfA2iZs"
   },
   "source": [
    "#Cálculos de las incertidumbre\n",
    ">Esta seccion debe contener en manera digital las ecuaciones y todos los cálculos necesarios para obtener las incertidumbres.\n",
    "\n",
    "> Ejemplo: Uso de ecuaciones para mostrar documentar\n",
    "\n",
    "$$\n",
    "u_{A}(\\overline{V_{X}}) = \\frac{s(V_{X})}{\\sqrt{n}} = \\frac{\\sqrt{\\frac{1}{n-1}\\sum\\limits_{i=1}^{n} \\left( V_{X_{i}} - \\overline{V_{X}} \\right)^{2}}}{\\sqrt{n}} \\\\[10pt]\n",
    "\\nu = n -1\n",
    "$$\n",
    "\n"
   ]
  },
  {
   "cell_type": "markdown",
   "metadata": {
    "id": "ddhHVwxydicL"
   },
   "source": [
    "> Ejemplo: uso de tablas"
   ]
  },
  {
   "cell_type": "code",
   "execution_count": null,
   "metadata": {
    "id": "7XectYHIareU"
   },
   "outputs": [],
   "source": [
    "# Crea un diccionario con los datos de la tabla\n",
    "datos = {\n",
    "    \"Valor nominal\": [10, 20, 30, 40, 50],\n",
    "    \"Escala\": [\"100mV\", \"10mV\", \"1V\", \"10V\", \"100V\"],\n",
    "    \"Valor verdadero (Vp)\": [10.01, 20.02, 30.03, 40.04, 50.05],\n",
    "    \"Valor medido (Vm)\": [9.98, 20.01, 30.06, 40.07, 50.10],\n",
    "    \"Punto Calibrado\": [[9.79, 0.052], [100.79, 2.234], [1000.79, 10.052], [0.89, 0.12], [50.11, 8.11]],\n",
    "    \"Factor de expansión\": [1, 1, 1, 1, 1],\n",
    "    \"Desviación (∆v=Vm-Vp)\": [-0.03, 0, 0.03, 0.03, 0.05],\n",
    "    \"Verifica\": [\"SI\", \"SI\", \"SI\", \"SI\", \"Fuera de rango\"]\n",
    "}\n",
    "\n",
    "# Crea un DataFrame a partir del diccionario\n",
    "df = pd.DataFrame(datos)\n",
    "\n",
    "# Formatea la columna \"Punto Calibrado\" con el formato deseado\n",
    "df[\"Punto Calibrado\"] = df[\"Punto Calibrado\"].apply(lambda x : f\"{x[0]:.2f} ± {x[1]:.2f} V\")"
   ]
  },
  {
   "cell_type": "code",
   "execution_count": null,
   "metadata": {
    "colab": {
     "base_uri": "https://localhost:8080/",
     "height": 327
    },
    "id": "LBznTEyidQPI",
    "outputId": "07d3c9ea-0fc4-4284-a6e8-039b04afc32a"
   },
   "outputs": [
    {
     "data": {
      "application/vnd.google.colaboratory.intrinsic+json": {
       "summary": "{\n  \"name\": \"df\",\n  \"rows\": 5,\n  \"fields\": [\n    {\n      \"column\": \"Valor nominal\",\n      \"properties\": {\n        \"dtype\": \"number\",\n        \"std\": 15,\n        \"min\": 10,\n        \"max\": 50,\n        \"num_unique_values\": 5,\n        \"samples\": [\n          20,\n          50,\n          30\n        ],\n        \"semantic_type\": \"\",\n        \"description\": \"\"\n      }\n    },\n    {\n      \"column\": \"Escala\",\n      \"properties\": {\n        \"dtype\": \"string\",\n        \"num_unique_values\": 5,\n        \"samples\": [\n          \"10mV\",\n          \"100V\",\n          \"1V\"\n        ],\n        \"semantic_type\": \"\",\n        \"description\": \"\"\n      }\n    },\n    {\n      \"column\": \"Valor verdadero (Vp)\",\n      \"properties\": {\n        \"dtype\": \"number\",\n        \"std\": 15.827199689142738,\n        \"min\": 10.01,\n        \"max\": 50.05,\n        \"num_unique_values\": 5,\n        \"samples\": [\n          20.02,\n          50.05,\n          30.03\n        ],\n        \"semantic_type\": \"\",\n        \"description\": \"\"\n      }\n    },\n    {\n      \"column\": \"Valor medido (Vm)\",\n      \"properties\": {\n        \"dtype\": \"number\",\n        \"std\": 15.858824987999585,\n        \"min\": 9.98,\n        \"max\": 50.1,\n        \"num_unique_values\": 5,\n        \"samples\": [\n          20.01,\n          50.1,\n          30.06\n        ],\n        \"semantic_type\": \"\",\n        \"description\": \"\"\n      }\n    },\n    {\n      \"column\": \"Punto Calibrado\",\n      \"properties\": {\n        \"dtype\": \"string\",\n        \"num_unique_values\": 5,\n        \"samples\": [\n          \"100.79 \\u00b1 2.23 V\",\n          \"50.11 \\u00b1 8.11 V\",\n          \"1000.79 \\u00b1 10.05 V\"\n        ],\n        \"semantic_type\": \"\",\n        \"description\": \"\"\n      }\n    },\n    {\n      \"column\": \"Factor de expansi\\u00f3n\",\n      \"properties\": {\n        \"dtype\": \"number\",\n        \"std\": 0,\n        \"min\": 1,\n        \"max\": 1,\n        \"num_unique_values\": 1,\n        \"samples\": [\n          1\n        ],\n        \"semantic_type\": \"\",\n        \"description\": \"\"\n      }\n    },\n    {\n      \"column\": \"Desviaci\\u00f3n (\\u2206v=Vm-Vp)\",\n      \"properties\": {\n        \"dtype\": \"number\",\n        \"std\": 0.03130495168499706,\n        \"min\": -0.03,\n        \"max\": 0.05,\n        \"num_unique_values\": 4,\n        \"samples\": [\n          0.0\n        ],\n        \"semantic_type\": \"\",\n        \"description\": \"\"\n      }\n    },\n    {\n      \"column\": \"Verifica\",\n      \"properties\": {\n        \"dtype\": \"category\",\n        \"num_unique_values\": 2,\n        \"samples\": [\n          \"Fuera de rango\"\n        ],\n        \"semantic_type\": \"\",\n        \"description\": \"\"\n      }\n    }\n  ]\n}",
       "type": "dataframe",
       "variable_name": "df"
      },
      "text/html": [
       "\n",
       "  <div id=\"df-5ef22ff7-2746-4c46-bede-73107acf9d72\" class=\"colab-df-container\">\n",
       "    <div>\n",
       "<style scoped>\n",
       "    .dataframe tbody tr th:only-of-type {\n",
       "        vertical-align: middle;\n",
       "    }\n",
       "\n",
       "    .dataframe tbody tr th {\n",
       "        vertical-align: top;\n",
       "    }\n",
       "\n",
       "    .dataframe thead th {\n",
       "        text-align: right;\n",
       "    }\n",
       "</style>\n",
       "<table border=\"1\" class=\"dataframe\">\n",
       "  <thead>\n",
       "    <tr style=\"text-align: right;\">\n",
       "      <th></th>\n",
       "      <th>Valor nominal</th>\n",
       "      <th>Escala</th>\n",
       "      <th>Valor verdadero (Vp)</th>\n",
       "      <th>Valor medido (Vm)</th>\n",
       "      <th>Punto Calibrado</th>\n",
       "      <th>Factor de expansión</th>\n",
       "      <th>Desviación (∆v=Vm-Vp)</th>\n",
       "      <th>Verifica</th>\n",
       "    </tr>\n",
       "  </thead>\n",
       "  <tbody>\n",
       "    <tr>\n",
       "      <th>0</th>\n",
       "      <td>10</td>\n",
       "      <td>100mV</td>\n",
       "      <td>10.01</td>\n",
       "      <td>9.98</td>\n",
       "      <td>9.79 ± 0.05 V</td>\n",
       "      <td>1</td>\n",
       "      <td>-0.03</td>\n",
       "      <td>SI</td>\n",
       "    </tr>\n",
       "    <tr>\n",
       "      <th>1</th>\n",
       "      <td>20</td>\n",
       "      <td>10mV</td>\n",
       "      <td>20.02</td>\n",
       "      <td>20.01</td>\n",
       "      <td>100.79 ± 2.23 V</td>\n",
       "      <td>1</td>\n",
       "      <td>0.00</td>\n",
       "      <td>SI</td>\n",
       "    </tr>\n",
       "    <tr>\n",
       "      <th>2</th>\n",
       "      <td>30</td>\n",
       "      <td>1V</td>\n",
       "      <td>30.03</td>\n",
       "      <td>30.06</td>\n",
       "      <td>1000.79 ± 10.05 V</td>\n",
       "      <td>1</td>\n",
       "      <td>0.03</td>\n",
       "      <td>SI</td>\n",
       "    </tr>\n",
       "    <tr>\n",
       "      <th>3</th>\n",
       "      <td>40</td>\n",
       "      <td>10V</td>\n",
       "      <td>40.04</td>\n",
       "      <td>40.07</td>\n",
       "      <td>0.89 ± 0.12 V</td>\n",
       "      <td>1</td>\n",
       "      <td>0.03</td>\n",
       "      <td>SI</td>\n",
       "    </tr>\n",
       "    <tr>\n",
       "      <th>4</th>\n",
       "      <td>50</td>\n",
       "      <td>100V</td>\n",
       "      <td>50.05</td>\n",
       "      <td>50.10</td>\n",
       "      <td>50.11 ± 8.11 V</td>\n",
       "      <td>1</td>\n",
       "      <td>0.05</td>\n",
       "      <td>Fuera de rango</td>\n",
       "    </tr>\n",
       "  </tbody>\n",
       "</table>\n",
       "</div>\n",
       "    <div class=\"colab-df-buttons\">\n",
       "\n",
       "  <div class=\"colab-df-container\">\n",
       "    <button class=\"colab-df-convert\" onclick=\"convertToInteractive('df-5ef22ff7-2746-4c46-bede-73107acf9d72')\"\n",
       "            title=\"Convert this dataframe to an interactive table.\"\n",
       "            style=\"display:none;\">\n",
       "\n",
       "  <svg xmlns=\"http://www.w3.org/2000/svg\" height=\"24px\" viewBox=\"0 -960 960 960\">\n",
       "    <path d=\"M120-120v-720h720v720H120Zm60-500h600v-160H180v160Zm220 220h160v-160H400v160Zm0 220h160v-160H400v160ZM180-400h160v-160H180v160Zm440 0h160v-160H620v160ZM180-180h160v-160H180v160Zm440 0h160v-160H620v160Z\"/>\n",
       "  </svg>\n",
       "    </button>\n",
       "\n",
       "  <style>\n",
       "    .colab-df-container {\n",
       "      display:flex;\n",
       "      gap: 12px;\n",
       "    }\n",
       "\n",
       "    .colab-df-convert {\n",
       "      background-color: #E8F0FE;\n",
       "      border: none;\n",
       "      border-radius: 50%;\n",
       "      cursor: pointer;\n",
       "      display: none;\n",
       "      fill: #1967D2;\n",
       "      height: 32px;\n",
       "      padding: 0 0 0 0;\n",
       "      width: 32px;\n",
       "    }\n",
       "\n",
       "    .colab-df-convert:hover {\n",
       "      background-color: #E2EBFA;\n",
       "      box-shadow: 0px 1px 2px rgba(60, 64, 67, 0.3), 0px 1px 3px 1px rgba(60, 64, 67, 0.15);\n",
       "      fill: #174EA6;\n",
       "    }\n",
       "\n",
       "    .colab-df-buttons div {\n",
       "      margin-bottom: 4px;\n",
       "    }\n",
       "\n",
       "    [theme=dark] .colab-df-convert {\n",
       "      background-color: #3B4455;\n",
       "      fill: #D2E3FC;\n",
       "    }\n",
       "\n",
       "    [theme=dark] .colab-df-convert:hover {\n",
       "      background-color: #434B5C;\n",
       "      box-shadow: 0px 1px 3px 1px rgba(0, 0, 0, 0.15);\n",
       "      filter: drop-shadow(0px 1px 2px rgba(0, 0, 0, 0.3));\n",
       "      fill: #FFFFFF;\n",
       "    }\n",
       "  </style>\n",
       "\n",
       "    <script>\n",
       "      const buttonEl =\n",
       "        document.querySelector('#df-5ef22ff7-2746-4c46-bede-73107acf9d72 button.colab-df-convert');\n",
       "      buttonEl.style.display =\n",
       "        google.colab.kernel.accessAllowed ? 'block' : 'none';\n",
       "\n",
       "      async function convertToInteractive(key) {\n",
       "        const element = document.querySelector('#df-5ef22ff7-2746-4c46-bede-73107acf9d72');\n",
       "        const dataTable =\n",
       "          await google.colab.kernel.invokeFunction('convertToInteractive',\n",
       "                                                    [key], {});\n",
       "        if (!dataTable) return;\n",
       "\n",
       "        const docLinkHtml = 'Like what you see? Visit the ' +\n",
       "          '<a target=\"_blank\" href=https://colab.research.google.com/notebooks/data_table.ipynb>data table notebook</a>'\n",
       "          + ' to learn more about interactive tables.';\n",
       "        element.innerHTML = '';\n",
       "        dataTable['output_type'] = 'display_data';\n",
       "        await google.colab.output.renderOutput(dataTable, element);\n",
       "        const docLink = document.createElement('div');\n",
       "        docLink.innerHTML = docLinkHtml;\n",
       "        element.appendChild(docLink);\n",
       "      }\n",
       "    </script>\n",
       "  </div>\n",
       "\n",
       "\n",
       "<div id=\"df-ccac805c-1359-44de-b4a8-f2ab6b77d31d\">\n",
       "  <button class=\"colab-df-quickchart\" onclick=\"quickchart('df-ccac805c-1359-44de-b4a8-f2ab6b77d31d')\"\n",
       "            title=\"Suggest charts\"\n",
       "            style=\"display:none;\">\n",
       "\n",
       "<svg xmlns=\"http://www.w3.org/2000/svg\" height=\"24px\"viewBox=\"0 0 24 24\"\n",
       "     width=\"24px\">\n",
       "    <g>\n",
       "        <path d=\"M19 3H5c-1.1 0-2 .9-2 2v14c0 1.1.9 2 2 2h14c1.1 0 2-.9 2-2V5c0-1.1-.9-2-2-2zM9 17H7v-7h2v7zm4 0h-2V7h2v10zm4 0h-2v-4h2v4z\"/>\n",
       "    </g>\n",
       "</svg>\n",
       "  </button>\n",
       "\n",
       "<style>\n",
       "  .colab-df-quickchart {\n",
       "      --bg-color: #E8F0FE;\n",
       "      --fill-color: #1967D2;\n",
       "      --hover-bg-color: #E2EBFA;\n",
       "      --hover-fill-color: #174EA6;\n",
       "      --disabled-fill-color: #AAA;\n",
       "      --disabled-bg-color: #DDD;\n",
       "  }\n",
       "\n",
       "  [theme=dark] .colab-df-quickchart {\n",
       "      --bg-color: #3B4455;\n",
       "      --fill-color: #D2E3FC;\n",
       "      --hover-bg-color: #434B5C;\n",
       "      --hover-fill-color: #FFFFFF;\n",
       "      --disabled-bg-color: #3B4455;\n",
       "      --disabled-fill-color: #666;\n",
       "  }\n",
       "\n",
       "  .colab-df-quickchart {\n",
       "    background-color: var(--bg-color);\n",
       "    border: none;\n",
       "    border-radius: 50%;\n",
       "    cursor: pointer;\n",
       "    display: none;\n",
       "    fill: var(--fill-color);\n",
       "    height: 32px;\n",
       "    padding: 0;\n",
       "    width: 32px;\n",
       "  }\n",
       "\n",
       "  .colab-df-quickchart:hover {\n",
       "    background-color: var(--hover-bg-color);\n",
       "    box-shadow: 0 1px 2px rgba(60, 64, 67, 0.3), 0 1px 3px 1px rgba(60, 64, 67, 0.15);\n",
       "    fill: var(--button-hover-fill-color);\n",
       "  }\n",
       "\n",
       "  .colab-df-quickchart-complete:disabled,\n",
       "  .colab-df-quickchart-complete:disabled:hover {\n",
       "    background-color: var(--disabled-bg-color);\n",
       "    fill: var(--disabled-fill-color);\n",
       "    box-shadow: none;\n",
       "  }\n",
       "\n",
       "  .colab-df-spinner {\n",
       "    border: 2px solid var(--fill-color);\n",
       "    border-color: transparent;\n",
       "    border-bottom-color: var(--fill-color);\n",
       "    animation:\n",
       "      spin 1s steps(1) infinite;\n",
       "  }\n",
       "\n",
       "  @keyframes spin {\n",
       "    0% {\n",
       "      border-color: transparent;\n",
       "      border-bottom-color: var(--fill-color);\n",
       "      border-left-color: var(--fill-color);\n",
       "    }\n",
       "    20% {\n",
       "      border-color: transparent;\n",
       "      border-left-color: var(--fill-color);\n",
       "      border-top-color: var(--fill-color);\n",
       "    }\n",
       "    30% {\n",
       "      border-color: transparent;\n",
       "      border-left-color: var(--fill-color);\n",
       "      border-top-color: var(--fill-color);\n",
       "      border-right-color: var(--fill-color);\n",
       "    }\n",
       "    40% {\n",
       "      border-color: transparent;\n",
       "      border-right-color: var(--fill-color);\n",
       "      border-top-color: var(--fill-color);\n",
       "    }\n",
       "    60% {\n",
       "      border-color: transparent;\n",
       "      border-right-color: var(--fill-color);\n",
       "    }\n",
       "    80% {\n",
       "      border-color: transparent;\n",
       "      border-right-color: var(--fill-color);\n",
       "      border-bottom-color: var(--fill-color);\n",
       "    }\n",
       "    90% {\n",
       "      border-color: transparent;\n",
       "      border-bottom-color: var(--fill-color);\n",
       "    }\n",
       "  }\n",
       "</style>\n",
       "\n",
       "  <script>\n",
       "    async function quickchart(key) {\n",
       "      const quickchartButtonEl =\n",
       "        document.querySelector('#' + key + ' button');\n",
       "      quickchartButtonEl.disabled = true;  // To prevent multiple clicks.\n",
       "      quickchartButtonEl.classList.add('colab-df-spinner');\n",
       "      try {\n",
       "        const charts = await google.colab.kernel.invokeFunction(\n",
       "            'suggestCharts', [key], {});\n",
       "      } catch (error) {\n",
       "        console.error('Error during call to suggestCharts:', error);\n",
       "      }\n",
       "      quickchartButtonEl.classList.remove('colab-df-spinner');\n",
       "      quickchartButtonEl.classList.add('colab-df-quickchart-complete');\n",
       "    }\n",
       "    (() => {\n",
       "      let quickchartButtonEl =\n",
       "        document.querySelector('#df-ccac805c-1359-44de-b4a8-f2ab6b77d31d button');\n",
       "      quickchartButtonEl.style.display =\n",
       "        google.colab.kernel.accessAllowed ? 'block' : 'none';\n",
       "    })();\n",
       "  </script>\n",
       "</div>\n",
       "\n",
       "  <div id=\"id_8d6becba-f36f-467b-8ae9-a7ef5e3a46f4\">\n",
       "    <style>\n",
       "      .colab-df-generate {\n",
       "        background-color: #E8F0FE;\n",
       "        border: none;\n",
       "        border-radius: 50%;\n",
       "        cursor: pointer;\n",
       "        display: none;\n",
       "        fill: #1967D2;\n",
       "        height: 32px;\n",
       "        padding: 0 0 0 0;\n",
       "        width: 32px;\n",
       "      }\n",
       "\n",
       "      .colab-df-generate:hover {\n",
       "        background-color: #E2EBFA;\n",
       "        box-shadow: 0px 1px 2px rgba(60, 64, 67, 0.3), 0px 1px 3px 1px rgba(60, 64, 67, 0.15);\n",
       "        fill: #174EA6;\n",
       "      }\n",
       "\n",
       "      [theme=dark] .colab-df-generate {\n",
       "        background-color: #3B4455;\n",
       "        fill: #D2E3FC;\n",
       "      }\n",
       "\n",
       "      [theme=dark] .colab-df-generate:hover {\n",
       "        background-color: #434B5C;\n",
       "        box-shadow: 0px 1px 3px 1px rgba(0, 0, 0, 0.15);\n",
       "        filter: drop-shadow(0px 1px 2px rgba(0, 0, 0, 0.3));\n",
       "        fill: #FFFFFF;\n",
       "      }\n",
       "    </style>\n",
       "    <button class=\"colab-df-generate\" onclick=\"generateWithVariable('df')\"\n",
       "            title=\"Generate code using this dataframe.\"\n",
       "            style=\"display:none;\">\n",
       "\n",
       "  <svg xmlns=\"http://www.w3.org/2000/svg\" height=\"24px\"viewBox=\"0 0 24 24\"\n",
       "       width=\"24px\">\n",
       "    <path d=\"M7,19H8.4L18.45,9,17,7.55,7,17.6ZM5,21V16.75L18.45,3.32a2,2,0,0,1,2.83,0l1.4,1.43a1.91,1.91,0,0,1,.58,1.4,1.91,1.91,0,0,1-.58,1.4L9.25,21ZM18.45,9,17,7.55Zm-12,3A5.31,5.31,0,0,0,4.9,8.1,5.31,5.31,0,0,0,1,6.5,5.31,5.31,0,0,0,4.9,4.9,5.31,5.31,0,0,0,6.5,1,5.31,5.31,0,0,0,8.1,4.9,5.31,5.31,0,0,0,12,6.5,5.46,5.46,0,0,0,6.5,12Z\"/>\n",
       "  </svg>\n",
       "    </button>\n",
       "    <script>\n",
       "      (() => {\n",
       "      const buttonEl =\n",
       "        document.querySelector('#id_8d6becba-f36f-467b-8ae9-a7ef5e3a46f4 button.colab-df-generate');\n",
       "      buttonEl.style.display =\n",
       "        google.colab.kernel.accessAllowed ? 'block' : 'none';\n",
       "\n",
       "      buttonEl.onclick = () => {\n",
       "        google.colab.notebook.generateWithVariable('df');\n",
       "      }\n",
       "      })();\n",
       "    </script>\n",
       "  </div>\n",
       "\n",
       "    </div>\n",
       "  </div>\n"
      ],
      "text/plain": [
       "   Valor nominal Escala  Valor verdadero (Vp)  Valor medido (Vm)  \\\n",
       "0             10  100mV                 10.01               9.98   \n",
       "1             20   10mV                 20.02              20.01   \n",
       "2             30     1V                 30.03              30.06   \n",
       "3             40    10V                 40.04              40.07   \n",
       "4             50   100V                 50.05              50.10   \n",
       "\n",
       "     Punto Calibrado  Factor de expansión  Desviación (∆v=Vm-Vp)  \\\n",
       "0      9.79 ± 0.05 V                    1                  -0.03   \n",
       "1    100.79 ± 2.23 V                    1                   0.00   \n",
       "2  1000.79 ± 10.05 V                    1                   0.03   \n",
       "3      0.89 ± 0.12 V                    1                   0.03   \n",
       "4     50.11 ± 8.11 V                    1                   0.05   \n",
       "\n",
       "         Verifica  \n",
       "0              SI  \n",
       "1              SI  \n",
       "2              SI  \n",
       "3              SI  \n",
       "4  Fuera de rango  "
      ]
     },
     "metadata": {},
     "output_type": "display_data"
    }
   ],
   "source": [
    "# Muestra la tabla\n",
    "display(df)"
   ]
  },
  {
   "cell_type": "markdown",
   "metadata": {
    "id": "5SS600UK2AZ_"
   },
   "source": [
    "\n",
    "# Resultado de la medición\n",
    "> Esta seccion debe contener solo los resultados de la medición con su incertidumbre y las condiciones de contorno asociadas a ella."
   ]
  },
  {
   "cell_type": "code",
   "execution_count": null,
   "metadata": {
    "colab": {
     "base_uri": "https://localhost:8080/"
    },
    "id": "9_HBzUXl1UCz",
    "outputId": "f87ec3d0-b438-41ca-fc77-97d2c035a032"
   },
   "outputs": [
    {
     "name": "stdout",
     "output_type": "stream",
     "text": [
      "Valor Medio de Resistencia Patrón -> R_P = 993261.79 ohm\n",
      "Incertidumbre Expandida de Resistencia Patrón -> U_RP = 13527.8 ohm\n",
      "Incertidumbre Expandida Relativa de Resistencia Patrón -> UR_RP = 0.01361957\n"
     ]
    }
   ],
   "source": [
    "# Agregar todas las funciones de calculo\n",
    "# EJMPLO: uso de variables y printf para informar resultados\n",
    "RP = 993261.79 #ohm\n",
    "U_RP = 13527.80 #ohm\n",
    "UR_RP = U_RP / RP\n",
    "kp_95 = 1.65\n",
    "\n",
    "print(f\"Valor Medio de Resistencia Patrón -> R_P = {RP} ohm\")\n",
    "print(f\"Incertidumbre Expandida de Resistencia Patrón -> U_RP = {U_RP} ohm\")\n",
    "print(f\"Incertidumbre Expandida Relativa de Resistencia Patrón -> UR_RP = {round(UR_RP, 8)}\")"
   ]
  },
  {
   "cell_type": "markdown",
   "metadata": {
    "id": "djO8qp1lzCKr"
   },
   "source": [
    "> Ejemplo: Uso de ecuaciones para mostrar el resultado final\n",
    "\n",
    "$$\n",
    "Resultado: R_{X} = \\left( 993261.79 \\ \\pm 13527.80 \\right) \\ \\Omega \\qquad k = 1.65 \\qquad P = 95.45\\%\n",
    "$$\n"
   ]
  },
  {
   "cell_type": "code",
   "execution_count": null,
   "metadata": {
    "id": "EGXIEO-Sd-m2"
   },
   "outputs": [],
   "source": [
    "# Define variables with your values\n",
    "R = 993261.79\n",
    "incertidumbre = 13527.80\n",
    "k = 1.65\n",
    "P = 95.45\n",
    "\n",
    "# Generate the equation part of the LaTeX code\n",
    "bl = '\\\\'\n",
    "equation_latex = f\"\"\"\n",
    "Resultado:  R_X = ({bl}: {R:.2f} {bl}pm {incertidumbre:.2f} {bl}:){bl}: {bl}Omega {bl}quad k={k:.3f} {bl}quad P={P:.2f} {bl}%\n",
    "\"\"\"\n",
    "# Wrap the equation in a styled `<span>` element\n",
    "size = '\\\\bf \\\\large{'\n",
    "cl = '} '\n",
    "styled_equation = f\"\"\"\n",
    "{size} {equation_latex} {cl}\n",
    "\"\"\""
   ]
  },
  {
   "cell_type": "code",
   "execution_count": null,
   "metadata": {
    "colab": {
     "base_uri": "https://localhost:8080/",
     "height": 62
    },
    "id": "TRBed4PIeo0f",
    "outputId": "5bea0387-5fff-445a-94ac-e10679adcc85"
   },
   "outputs": [
    {
     "data": {
      "text/latex": [
       "$\\displaystyle \n",
       "\\bf \\large{ \n",
       "Resultado:  R_X = (\\: 993261.79 \\pm 13527.80 \\:)\\: \\Omega \\quad k=1.650 \\quad P=95.45 \\%\n",
       " } \n",
       "$"
      ],
      "text/plain": [
       "<IPython.core.display.Math object>"
      ]
     },
     "execution_count": 8,
     "metadata": {},
     "output_type": "execute_result"
    }
   ],
   "source": [
    "# Display the equation using MathJax\n",
    "Math(styled_equation)\n"
   ]
  },
  {
   "cell_type": "markdown",
   "metadata": {
    "id": "s6LEyW1O2QvV"
   },
   "source": [
    "# Conclusiones\n",
    "> En esta seccion ubique todas las conclusiones de la medición u otra observación pertinente que obtenga de la realización de la práctica.."
   ]
  }
 ],
 "metadata": {
  "colab": {
   "provenance": [],
   "toc_visible": true
  },
  "kernelspec": {
   "display_name": "Python 3 (ipykernel)",
   "language": "python",
   "name": "python3"
  },
  "language_info": {
   "codemirror_mode": {
    "name": "ipython",
    "version": 3
   },
   "file_extension": ".py",
   "mimetype": "text/x-python",
   "name": "python",
   "nbconvert_exporter": "python",
   "pygments_lexer": "ipython3",
   "version": "3.11.9"
  }
 },
 "nbformat": 4,
 "nbformat_minor": 4
}
