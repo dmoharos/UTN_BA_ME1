{
 "cells": [
  {
   "cell_type": "markdown",
   "id": "3660699a-8996-4bc1-a3be-2d49de3dded4",
   "metadata": {},
   "source": [
    "<img src=\"Logo.png\" align=\"right\" width=\"150\" />\n",
    "\n",
    "##\n",
    "***\n",
    "## (950457) Medidas Electrónicas I\n",
    "#####\n",
    "\n",
    "Profesor: Ing. Emiliano Marinsek\t<<emarinsek@frba.utn.edu.ar>> <br>\n",
    "Ayudante: Ing. Juan Manuel Perdomo\t<<jmperdomo@frba.utn.edu.ar>>\n",
    "\n",
    "***\n",
    "####\n",
    "### <u> Ejercicios de incertidumbre</u>\n",
    "##### *Introducción al cálculo de incertidumbre*\n",
    "####\n",
    "\n",
    "Por David Moharos\n",
    "\n",
    "***"
   ]
  },
  {
   "cell_type": "markdown",
   "id": "45a479b9-651e-4d8c-b467-be84db55a2f6",
   "metadata": {},
   "source": [
    "<img src=\"Consigna.png\" style=\"margin-left:auto; margin-right:auto\"/>"
   ]
  },
  {
   "cell_type": "code",
   "execution_count": 214,
   "id": "11f17f67-7608-4962-b5b0-c71020edfb6c",
   "metadata": {},
   "outputs": [],
   "source": [
    "#%% Librerías y módulos de Python a utilizar\n",
    "\n",
    "import numpy as np\n",
    "from IPython.display import display, Markdown, HTML\n",
    "import pandas as pd"
   ]
  },
  {
   "cell_type": "code",
   "execution_count": 175,
   "id": "ca0acd72-15aa-4f28-a8c6-3801f020f75d",
   "metadata": {},
   "outputs": [],
   "source": [
    "#%% Métodos auxiliares\n",
    "\n",
    "#-- Ejercicio 1 --\n",
    "def calculo_em (R1, R2):\n",
    "    return ( R2 / (R2 - R1) )\n",
    "\n",
    "#-- Ejercicio 2 --\n",
    "def calculo_deltaV (V1, V2):\n",
    "    return ( V1 - V2 )\n",
    "\n",
    "#-- Ejercicio 3 --\n",
    "def calculo_Vout (Voff, a_s, g, theta):\n",
    "    return ( Voff + a_s / g * g * np.sin(theta) )\n",
    "\n",
    "#-- Ejercicio 4 --\n",
    "def calculo_R1 (V1, I1):\n",
    "    return ( V1 / I1 )\n",
    "    \n",
    "#-- Ejercicio 5--\n",
    "def calculo_V0 (H1, H0, KH, S, RG):\n",
    "    AV = 1 + 50 * 10**3 / RG\n",
    "    return ( (H1 - H0) * KH * S * AV )\n",
    "\n",
    "#-- Métodos comunes a todos los ejercicios --\n",
    "def valor_mas_probable (mediciones):\n",
    "    return np.mean(mediciones, dtype=np.float64)\n",
    "\n",
    "def incertidumbre_tipo_A (mediciones):\n",
    "    s = np.std(mediciones, ddof=1, )     # ddof=1 -> grados de libertad v = 1/n-1\n",
    "    return s/np.sqrt(len(mediciones))\n",
    "\n",
    "def incertidumbre_tipo_B (error_relativo, error_cuentas, cuentas_indicadas, mediciones):\n",
    "    return (error_relativo/100 + error_cuentas/cuentas_indicadas) * np.mean(mediciones) / np.sqrt(3)\n",
    "\n",
    "def incertidumbre_tipo_B (error_relativo, error_cuentas, cuentas_indicadas, valor_mas_probable):\n",
    "    return (error_relativo/100 + error_cuentas/cuentas_indicadas) * valor_mas_probable / np.sqrt(3)\n",
    "\n",
    "def incertidumbre_combinada (uA, uB):\n",
    "    return np.sqrt(uA**2 + uB**2)"
   ]
  },
  {
   "cell_type": "markdown",
   "id": "f2d3b637-77fb-42e8-b1b6-3204c5727c37",
   "metadata": {},
   "source": [
    "<img src=\"Ejercicio_1.png\" style=\"margin-left:auto; margin-right:auto\"/>"
   ]
  },
  {
   "cell_type": "markdown",
   "id": "cafd0e30-01e6-4268-8da7-d469b98924da",
   "metadata": {},
   "source": [
    "***\n",
    "#####\n",
    "\n",
    "#### <u>Cálculo de valor más probable</u>\n",
    "\n",
    "#####\n",
    "\n",
    "Se obtienen los valores más probables de $R_1$ y $R_2$ a través de la siguiente expresión:\n",
    "\n",
    "#####\n",
    "\n",
    "\\begin{equation*}\n",
    "\\overline{R_i} = \\frac{1}{n} \\cdot \\sum\\limits_{k=1}^{n} R_{i,k}\n",
    "\\end{equation*}\n",
    "\n",
    "#####\n",
    "\n",
    "Siendo:\n",
    "\n",
    "> n: cantidad de mediciones\n",
    "\n",
    "> $R_{i_{k}}$: i-ésimos valores de resistencias, k-ésimos valores de las n mediciones.\n",
    "\n",
    "#####\n",
    "\n",
    "Reemplazando los valores de la tabla, obtenemos $\\overline{R_1}$ y $\\overline{R_2}$:\n",
    "\n",
    "#####"
   ]
  },
  {
   "cell_type": "code",
   "execution_count": 158,
   "id": "50a6f8eb-dd78-44fe-aa0f-55ac77db79bc",
   "metadata": {},
   "outputs": [
    {
     "data": {
      "text/markdown": [
       "##\n",
       "$$\\overline{R_1} = 2.028 \\, [\\Omega]$$\n"
      ],
      "text/plain": [
       "<IPython.core.display.Markdown object>"
      ]
     },
     "metadata": {},
     "output_type": "display_data"
    },
    {
     "data": {
      "text/markdown": [
       "##\n",
       "$$\\overline{R_2} = 0.526 \\, [\\Omega]$$\n"
      ],
      "text/plain": [
       "<IPython.core.display.Markdown object>"
      ]
     },
     "metadata": {},
     "output_type": "display_data"
    }
   ],
   "source": [
    "R1 = [2.01, 2.04, 2.03, 2.02, 2.04]\n",
    "R2 = [0.53, 0.54, 0.52, 0.51, 0.53]\n",
    "\n",
    "ov_R1 = valor_mas_probable(R1)\n",
    "ov_R2 = valor_mas_probable(R2) \n",
    "\n",
    "display(Markdown(\"##\\n\" + f\"$$\\\\overline{{R_1}} = {ov_R1} \\, [\\Omega]$$\\n\"))\n",
    "display(Markdown(\"##\\n\" + f\"$$\\\\overline{{R_2}} = {ov_R2} \\, [\\Omega]$$\\n\"))"
   ]
  },
  {
   "cell_type": "markdown",
   "id": "b270cc78-e6ae-4fcd-a903-bbc00ac70319",
   "metadata": {},
   "source": [
    "#####\n",
    "\n",
    "Se obtiene el valor más probable de $e_m$ a través de la siguiente expresión:\n",
    "\n",
    "#####\n",
    "\n",
    "\\begin{equation*}\n",
    "\\overline{e_m} = \\frac{ \\overline{ R_2 } }{ \\overline{ R_2 } - \\overline{ R_1 } }\n",
    "\\end{equation*}\n",
    "\n",
    "#####"
   ]
  },
  {
   "cell_type": "code",
   "execution_count": 159,
   "id": "8513be9e-66e5-4f2c-9198-38c53e092a28",
   "metadata": {},
   "outputs": [
    {
     "data": {
      "text/markdown": [
       "##\n",
       "$$\\overline{e_m} = -0.35019973368841545$$\n"
      ],
      "text/plain": [
       "<IPython.core.display.Markdown object>"
      ]
     },
     "metadata": {},
     "output_type": "display_data"
    }
   ],
   "source": [
    "ov_em = calculo_em (ov_R1, ov_R2)\n",
    "\n",
    "display(Markdown(\"##\\n\" + f\"$$\\\\overline{{e_m}} = {ov_em}$$\\n\"))"
   ]
  },
  {
   "cell_type": "markdown",
   "id": "8298fb8a-fa20-401a-b53c-24fae8c12cad",
   "metadata": {},
   "source": [
    "#####\n",
    "\n",
    "#### <u>Cálculo de incertidumbres</u>\n",
    "\n",
    "#####\n",
    "\n",
    "<u>Incertidumbre tipo A:</u>\n",
    "\n",
    "#####\n",
    "\n",
    "Se obtienen las incertidumbres tipo A a través de la siguiente expresión:\n",
    "\n",
    "#####\n",
    "\n",
    "\\begin{equation*}\n",
    "u_A(R_i) = \\frac{ s(R_i) }{ \\sqrt{n} } = \\frac{ \\sqrt{ \\frac{ 1 }{ n-1 } \\sum \\limits_{k=1}^{n} \\left( R_{i,k} - \\overline{R_i} \\right)^{2} } }{ \\sqrt{n} }\n",
    "\\end{equation*}\n",
    "\n",
    "#####"
   ]
  },
  {
   "cell_type": "code",
   "execution_count": 153,
   "id": "b80a5f0c-033d-4688-ae72-f0f961833727",
   "metadata": {},
   "outputs": [
    {
     "data": {
      "text/markdown": [
       "##\n",
       "$$u_A(R_1) = 0.005830951894845336 \\, [\\Omega]$$\n"
      ],
      "text/plain": [
       "<IPython.core.display.Markdown object>"
      ]
     },
     "metadata": {},
     "output_type": "display_data"
    },
    {
     "data": {
      "text/markdown": [
       "##\n",
       "$$u_A(R_2) = 0.00509901951359279 \\, [\\Omega]$$\n"
      ],
      "text/plain": [
       "<IPython.core.display.Markdown object>"
      ]
     },
     "metadata": {},
     "output_type": "display_data"
    }
   ],
   "source": [
    "uA_R1 = incertidumbre_tipo_A (R1)\n",
    "uA_R2 = incertidumbre_tipo_A (R2)\n",
    "\n",
    "display(Markdown(\"##\\n\" + f\"$$u_A(R_1) = {uA_R1} \\, [\\Omega]$$\\n\"))\n",
    "display(Markdown(\"##\\n\" + f\"$$u_A(R_2) = {uA_R2} \\, [\\Omega]$$\\n\"))"
   ]
  },
  {
   "cell_type": "markdown",
   "id": "2b4b754f-df27-4c98-8769-8ae754ca8773",
   "metadata": {},
   "source": [
    "#####\n",
    "\n",
    "<u>Incertidumbre tipo B:</u>\n",
    "\n",
    "#####\n",
    "\n",
    "Se obtienen las incertidumbres tipo B a través de la siguiente expresión:\n",
    "\n",
    "#####\n",
    "\n",
    "\\begin{equation*}\n",
    "u_B(R_i) = \\frac{ \\Delta R_i }{ \\sqrt{3} } = \\frac{ \\left( \\frac{er\\%}{100} + \\frac{n}{ci} \\right) \\cdot \\overline{R_i} }{ \\sqrt{3} } \n",
    "\\end{equation*}\n",
    "\n",
    "#####\n",
    "\n",
    "\n",
    "Siendo:\n",
    "\n",
    "> $er%$: Error relativo.\n",
    "\n",
    "> $n$: Error de cuentas.\n",
    "\n",
    "> $ci$: Cuentas indicadas.\n",
    "\n",
    "#####\n",
    "\n",
    "Además:\n",
    "\n",
    "> $ci = \\frac{Ind}{Res} \\frac{ [u] }{ \\left[ \\frac{u}{cuenta} \\right] }= [cuentas]$\n",
    "\n",
    "> $Ind$: Indicación del instrumento con su respectiva $u$ unidad.\n",
    "\n",
    "> $Res$: Resolución del instrumento con su respectiva $u$ unidad por cuenta, dada por el rango seleccionado y la cantidad de dígitos que el mismo puede representar.\n",
    "\n",
    "#####\n"
   ]
  },
  {
   "cell_type": "code",
   "execution_count": 154,
   "id": "0444cf6b-0948-4bbe-8d0d-040f214dcc32",
   "metadata": {},
   "outputs": [
    {
     "data": {
      "text/markdown": [
       "##\n",
       "$$u_B(R_1) = 0.017401337113375322 \\, [\\Omega]$$\n"
      ],
      "text/plain": [
       "<IPython.core.display.Markdown object>"
      ]
     },
     "metadata": {},
     "output_type": "display_data"
    },
    {
     "data": {
      "text/markdown": [
       "##\n",
       "$$u_B(R_2) = 0.013065436591761232 \\, [\\Omega]$$\n"
      ],
      "text/plain": [
       "<IPython.core.display.Markdown object>"
      ]
     },
     "metadata": {},
     "output_type": "display_data"
    }
   ],
   "source": [
    "er = 0.5\n",
    "n = 2\n",
    "\n",
    "ind_R1 = ov_R1\n",
    "res_R1 = 0.01\n",
    "ci_R1 = ind_R1 / res_R1\n",
    "\n",
    "ind_R2 = ov_R2\n",
    "res_R2 = 0.01\n",
    "ci_R2 = ind_R2 / res_R2\n",
    "\n",
    "#def incertidumbre_tipo_B (error_relativo, error_cuentas, cuentas_indicadas, valor_mas_probable):\n",
    "uB_R1 = incertidumbre_tipo_B (er, n, ci_R1, ov_R1)\n",
    "uB_R2 = incertidumbre_tipo_B (er, n, ci_R2, ov_R2)\n",
    "\n",
    "display(Markdown(\"##\\n\" + f\"$$u_B(R_1) = {uB_R1} \\, [\\Omega]$$\\n\"))\n",
    "display(Markdown(\"##\\n\" + f\"$$u_B(R_2) = {uB_R2} \\, [\\Omega]$$\\n\"))"
   ]
  },
  {
   "cell_type": "markdown",
   "id": "2b3e9299-8b74-4b3d-8713-fbda5b8d091a",
   "metadata": {},
   "source": [
    "#####\n",
    "\n",
    "<u>Incertidumbre de $R_i$:</u>\n",
    "\n",
    "#####\n",
    "\n",
    "Se obtienen las incertidumbres de $R_i$ a través de la siguiente expresión:\n",
    "\n",
    "#####\n",
    "\n",
    "\\begin{equation*}\n",
    "u(R_i) = \\sqrt{ u_A^2(R_i) + u_B^2(R_i) }\n",
    "\\end{equation*}\n",
    "\n",
    "#####"
   ]
  },
  {
   "cell_type": "code",
   "execution_count": 155,
   "id": "6c8bb3f8-0553-4efa-b43a-b2377a396fe9",
   "metadata": {},
   "outputs": [
    {
     "data": {
      "text/markdown": [
       "##\n",
       "$$u(R_1) = 0.018352289593762786 \\, [\\Omega]$$\n"
      ],
      "text/plain": [
       "<IPython.core.display.Markdown object>"
      ]
     },
     "metadata": {},
     "output_type": "display_data"
    },
    {
     "data": {
      "text/markdown": [
       "##\n",
       "$$u(R_2) = 0.01402517854907143 \\, [\\Omega]$$\n"
      ],
      "text/plain": [
       "<IPython.core.display.Markdown object>"
      ]
     },
     "metadata": {},
     "output_type": "display_data"
    }
   ],
   "source": [
    "#def incertidumbre_combinada (uA, uB):\n",
    "uC_R1 = incertidumbre_combinada (uA_R1, uB_R1)\n",
    "uC_R2 = incertidumbre_combinada (uA_R2, uB_R2)\n",
    "\n",
    "display(Markdown(\"##\\n\" + f\"$$u(R_1) = {uC_R1} \\, [\\Omega]$$\\n\"))\n",
    "display(Markdown(\"##\\n\" + f\"$$u(R_2) = {uC_R2} \\, [\\Omega]$$\\n\"))"
   ]
  },
  {
   "cell_type": "markdown",
   "id": "fee87b70-d1e8-4e90-bc94-36bffe647174",
   "metadata": {},
   "source": [
    "#####\n",
    "\n",
    "<u> Incertidumbre combinada </u>\n",
    "\n",
    "#####\n",
    "\n",
    "Se obtienen la incertidumbre combinada de $e_m$ a través de la siguiente expresión:\n",
    "\n",
    "#####\n",
    "\n",
    "\\begin{equation*} \n",
    "u_C(e_m) = \\sqrt{\\left[\\frac{de_m}{dR_1}\\right]^2 \\cdot u^2(R_1) + \\left[\\frac{de_m}{dR_2}\\right]^2 \\cdot u^2(R_2) }\n",
    "\\end{equation*}\n",
    "\n",
    "#####\n",
    "\n",
    "\\begin{equation*} \n",
    "u_C(e_m) = \\sqrt{\\left[ \\frac{ \\overline{R_2} }{ ( \\overline{R_2} - \\overline{R_1} )^2 } \\right]^2 \\cdot u^2(R_1) + \\left[ \\frac{ -\\overline{R_1} }{ ( \\overline{R_2} - \\overline{R_1} )^2 } \\right]^2 \\cdot u^2(R_2) }\n",
    "\\end{equation*}\n",
    "\n",
    "#####"
   ]
  },
  {
   "cell_type": "code",
   "execution_count": 156,
   "id": "f23b57b2-016a-4133-980a-88ea9d9ed32f",
   "metadata": {},
   "outputs": [
    {
     "data": {
      "text/markdown": [
       "##\n",
       "$$u_C(e_m) = 0.013314047982818046$$\n"
      ],
      "text/plain": [
       "<IPython.core.display.Markdown object>"
      ]
     },
     "metadata": {},
     "output_type": "display_data"
    }
   ],
   "source": [
    "dem_dR1 = ov_R2 / (ov_R2 - ov_R1)**2\n",
    "dem_dR2 = -ov_R1 / (ov_R2 - ov_R1)**2\n",
    "\n",
    "uC_em = np.sqrt( (dem_dR1)**2 * uC_R1**2 + (dem_dR2)**2 * uC_R2**2)\n",
    "\n",
    "display(Markdown(\"##\\n\" + f\"$$u_C(e_m) = {uC_em}$$\\n\"))"
   ]
  },
  {
   "cell_type": "markdown",
   "id": "6b0ad553-20e5-4119-a52f-13f752c638c5",
   "metadata": {},
   "source": [
    "#####\n",
    "\n",
    "<u>Incertidumbre expandida:</u>\n",
    "\n",
    "#####\n",
    "\n",
    "\\begin{equation*}\n",
    "U(e_m) = u_C(e_m) \\cdot k_{95\\%}\n",
    "\\end{equation*}\n",
    "\n",
    "#####"
   ]
  },
  {
   "cell_type": "code",
   "execution_count": 157,
   "id": "cab5439b-04f9-43ac-8660-2b37d29371a2",
   "metadata": {},
   "outputs": [
    {
     "data": {
      "text/markdown": [
       "##\n",
       "$$U(e_m) = 0.026628095965636093$$\n",
       "##"
      ],
      "text/plain": [
       "<IPython.core.display.Markdown object>"
      ]
     },
     "metadata": {},
     "output_type": "display_data"
    }
   ],
   "source": [
    "k_95 = 2\n",
    "U_em = uC_em * k_95\n",
    "\n",
    "display(Markdown(\"##\\n\" + f\"$$U(e_m) = {U_em}$$\\n\" + \"##\"))"
   ]
  },
  {
   "cell_type": "markdown",
   "id": "cc1ab6f0-31e6-4958-aa1d-9f0608786efd",
   "metadata": {},
   "source": [
    "#####\n",
    "\n",
    "<u>Resultado de la medición:</u>\n",
    "\n",
    "#####\n",
    "\n",
    "\\begin{equation*}\n",
    "e_m = \\overline{e_m} \\pm U(e_m) \n",
    "\\end{equation*}\n",
    "\n",
    "#####\n",
    "\n",
    "\\begin{equation*}\n",
    "e_m = \\left( -0.35019973368841545 \\pm 0.026628095965636093 \\right) \\qquad k = 2\n",
    "\\end{equation*}\n",
    "\n",
    "#####\n",
    "\n",
    "\\begin{equation*}\n",
    "\\boxed{ e_m = \\left( -0.350 \\pm 0.027 \\right) \\qquad k = 2 }\n",
    "\\end{equation*}\n",
    "\n",
    "#####\n",
    "\n",
    "***"
   ]
  },
  {
   "cell_type": "markdown",
   "id": "26156954-133b-4ad5-b50a-2c26027f8927",
   "metadata": {},
   "source": [
    "<img src=\"Ejercicio_2.png\" style=\"margin-left:auto; margin-right:auto\"/>"
   ]
  },
  {
   "cell_type": "markdown",
   "id": "25ae594f-00e8-4fea-8e7b-4a5882f94ae7",
   "metadata": {},
   "source": [
    "***\n",
    "#####\n",
    "\n",
    "#### <u>Cálculo de valor más probable</u>\n",
    "\n",
    "#####\n",
    "\n",
    "Se obtienen los valores más probables de $V_1$ y $V_2$ a través de la siguiente expresión:\n",
    "\n",
    "#####\n",
    "\n",
    "\\begin{equation*}\n",
    "\\overline{V_i} = \\frac{1}{n} \\cdot \\sum\\limits_{k=1}^{n} V_{i,k}\n",
    "\\end{equation*}\n",
    "\n",
    "#####\n",
    "\n",
    "Siendo:\n",
    "\n",
    "> n: cantidad de mediciones\n",
    "\n",
    "> $V_{i_{k}}$: i-ésimos valores de tensiones, k-ésimos valores de las n mediciones.\n",
    "\n",
    "#####\n",
    "\n",
    "Reemplazando los valores de la tabla, obtenemos $\\overline{V_1}$ y $\\overline{V_2}$:\n",
    "\n",
    "#####"
   ]
  },
  {
   "cell_type": "code",
   "execution_count": 162,
   "id": "1d5d5f06-0540-49f0-ba2e-93efad22bed4",
   "metadata": {},
   "outputs": [
    {
     "data": {
      "text/markdown": [
       "##\n",
       "$$\\overline{V_1} = 2.3634 \\, [V]$$\n"
      ],
      "text/plain": [
       "<IPython.core.display.Markdown object>"
      ]
     },
     "metadata": {},
     "output_type": "display_data"
    },
    {
     "data": {
      "text/markdown": [
       "##\n",
       "$$\\overline{V_2} = 0.538 \\, [V]$$\n"
      ],
      "text/plain": [
       "<IPython.core.display.Markdown object>"
      ]
     },
     "metadata": {},
     "output_type": "display_data"
    }
   ],
   "source": [
    "V1 = [2.404, 2.502, 2.603, 2.104, 2.204]\n",
    "V2 = [0.54, 0.58, 0.51, 0.50, 0.56]\n",
    "\n",
    "ov_V1 = valor_mas_probable(V1)\n",
    "ov_V2 = valor_mas_probable(V2)\n",
    "\n",
    "display(Markdown(\"##\\n\" + f\"$$\\\\overline{{V_1}} = {ov_V1} \\, [V]$$\\n\"))\n",
    "display(Markdown(\"##\\n\" + f\"$$\\\\overline{{V_2}} = {ov_V2} \\, [V]$$\\n\"))"
   ]
  },
  {
   "cell_type": "markdown",
   "id": "154c2d96-403c-4ff3-8fca-88044630bde6",
   "metadata": {},
   "source": [
    "#####\n",
    "\n",
    "Se obtiene el valor más probable de $\\Delta V$ a través de la siguiente expresión:\n",
    "\n",
    "#####\n",
    "\n",
    "\\begin{equation*}\n",
    "\\overline{\\Delta V} = \\overline{V_1} - \\overline{V_2}\n",
    "\\end{equation*}\n",
    "\n",
    "#####"
   ]
  },
  {
   "cell_type": "code",
   "execution_count": 163,
   "id": "c2f74b70-473a-4dab-a388-c9f92b0fc9f6",
   "metadata": {},
   "outputs": [
    {
     "data": {
      "text/markdown": [
       "##\n",
       "$$\\overline{\\Delta V} = 1.8254 \\, [V]$$\n"
      ],
      "text/plain": [
       "<IPython.core.display.Markdown object>"
      ]
     },
     "metadata": {},
     "output_type": "display_data"
    }
   ],
   "source": [
    "ov_DeltaV = calculo_deltaV (ov_V1, ov_V2)\n",
    "\n",
    "display(Markdown(\"##\\n\" + f\"$$\\\\overline{{\\\\Delta V}} = {ov_DeltaV} \\, [V]$$\\n\"))"
   ]
  },
  {
   "cell_type": "markdown",
   "id": "dff8cc7f-35d5-409f-985a-490918340999",
   "metadata": {},
   "source": [
    "#####\n",
    "\n",
    "#### <u>Cálculo de incertidumbres</u>\n",
    "\n",
    "#####\n",
    "\n",
    "<u>Incertidumbre tipo A:</u>\n",
    "\n",
    "#####\n",
    "\n",
    "Se obtienen las incertidumbres tipo A a través de la siguiente expresión:\n",
    "\n",
    "#####\n",
    "\n",
    "\\begin{equation*}\n",
    "u_A(V_i) = \\frac{ s(V_i) }{ \\sqrt{n} } = \\frac{ \\sqrt{ \\frac{ 1 }{ n-1 } \\sum \\limits_{k=1}^{n} \\left( V_{i,k} - \\overline{V_i} \\right)^{2} } }{ \\sqrt{n} }\n",
    "\\end{equation*}\n",
    "\n",
    "#####"
   ]
  },
  {
   "cell_type": "code",
   "execution_count": 220,
   "id": "6920ef97-3619-4905-a486-15cf0849246a",
   "metadata": {},
   "outputs": [
    {
     "data": {
      "text/markdown": [
       "##\n",
       "$$u_A(V_1) = 0.0009797958971132583 \\, [V]$$\n"
      ],
      "text/plain": [
       "<IPython.core.display.Markdown object>"
      ]
     },
     "metadata": {},
     "output_type": "display_data"
    },
    {
     "data": {
      "text/markdown": [
       "##\n",
       "$$u_A(V_2) = 0.014966629547095763 \\, [V]$$\n"
      ],
      "text/plain": [
       "<IPython.core.display.Markdown object>"
      ]
     },
     "metadata": {},
     "output_type": "display_data"
    }
   ],
   "source": [
    "uA_V1 = incertidumbre_tipo_A (V1)\n",
    "uA_V2 = incertidumbre_tipo_A (V2)\n",
    "\n",
    "display(Markdown(\"##\\n\" + f\"$$u_A(V_1) = {uA_V1} \\, [V]$$\\n\"))\n",
    "display(Markdown(\"##\\n\" + f\"$$u_A(V_2) = {uA_V2} \\, [V]$$\\n\"))"
   ]
  },
  {
   "cell_type": "markdown",
   "id": "2125f919-826d-4532-b13b-6abdcad2b268",
   "metadata": {},
   "source": [
    "#####\n",
    "\n",
    "<u>Incertidumbre tipo B:</u>\n",
    "\n",
    "#####\n",
    "\n",
    "Se obtienen las incertidumbres tipo B a través de la siguiente expresión:\n",
    "\n",
    "#####\n",
    "\n",
    "\\begin{equation*}\n",
    "u_B(V_i) = \\frac{ \\Delta V_i }{ \\sqrt{3} } = \\frac{ \\left( \\frac{er\\%}{100} + \\frac{n}{ci} \\right) \\cdot \\overline{V_i} }{ \\sqrt{3} } \n",
    "\\end{equation*}\n",
    "\n",
    "#####\n",
    "\n",
    "\n",
    "Siendo:\n",
    "\n",
    "> $er%$: Error relativo.\n",
    "\n",
    "> $n$: Error de cuentas.\n",
    "\n",
    "> $ci$: Cuentas indicadas.\n",
    "\n",
    "#####\n",
    "\n",
    "Además:\n",
    "\n",
    "> $ci = \\frac{Ind}{Res} \\frac{ [u] }{ \\left[ \\frac{u}{cuenta} \\right] }= [cuentas]$\n",
    "\n",
    "> $Ind$: Indicación del instrumento con su respectiva $u$ unidad.\n",
    "\n",
    "> $Res$: Resolución del instrumento con su respectiva $u$ unidad por cuenta, dada por el rango seleccionado y la cantidad de dígitos que el mismo puede representar.\n",
    "\n",
    "#####"
   ]
  },
  {
   "cell_type": "code",
   "execution_count": 218,
   "id": "a031d452-a7aa-4ff2-a5ff-559c7fecbb2d",
   "metadata": {},
   "outputs": [
    {
     "data": {
      "text/markdown": [
       "##\n",
       "$$u_B(V_1) = 0.012831032382470246 \\, [V]$$\n"
      ],
      "text/plain": [
       "<IPython.core.display.Markdown object>"
      ]
     },
     "metadata": {},
     "output_type": "display_data"
    },
    {
     "data": {
      "text/markdown": [
       "##\n",
       "$$u_B(V_2) = 0.024647082991705125 \\, [V]$$\n"
      ],
      "text/plain": [
       "<IPython.core.display.Markdown object>"
      ]
     },
     "metadata": {},
     "output_type": "display_data"
    }
   ],
   "source": [
    "er_V1 = 1\n",
    "n_V1 = 2\n",
    "\n",
    "ind_V1 = ov_V1\n",
    "res_V1 = 0.001\n",
    "ci_V1 = ind_V1 / res_V1\n",
    "\n",
    "er_V2 = 0.5 \n",
    "n_V2 = 4\n",
    "\n",
    "ind_V2 = ov_V2\n",
    "res_V2 = 0.01\n",
    "ci_V2 = ind_V2 / res_V2\n",
    "\n",
    "#def incertidumbre_tipo_B (error_relativo, error_cuentas, cuentas_indicadas, valor_mas_probable):\n",
    "uB_V1 = incertidumbre_tipo_B (er_V1, n_V1, ci_V1, ov_V1)\n",
    "uB_V2 = incertidumbre_tipo_B (er_V2, n_V2, ci_V2, ov_V2)\n",
    "\n",
    "display(Markdown(\"##\\n\" + f\"$$u_B(V_1) = {uB_V1} \\, [V]$$\\n\"))\n",
    "display(Markdown(\"##\\n\" + f\"$$u_B(V_2) = {uB_V2} \\, [V]$$\\n\"))"
   ]
  },
  {
   "cell_type": "markdown",
   "id": "7e9b701d-e5c2-407d-bc2a-0c5226de2dd0",
   "metadata": {},
   "source": [
    "#####\n",
    "\n",
    "<u>Incertidumbre de $V_i$:</u>\n",
    "\n",
    "#####\n",
    "\n",
    "Se obtienen las incertidumbres de $V_i$ a través de la siguiente expresión:\n",
    "\n",
    "#####\n",
    "\n",
    "\\begin{equation*}\n",
    "u(V_i) = \\sqrt{ u_A^2(V_i) + u_B^2(V_i) }\n",
    "\\end{equation*}\n",
    "\n",
    "#####"
   ]
  },
  {
   "cell_type": "code",
   "execution_count": 26,
   "id": "d144996b-a199-4995-96b9-ea2f664fe534",
   "metadata": {},
   "outputs": [
    {
     "data": {
      "text/markdown": [
       "##\n",
       "$$u(V_1) = 0.09363329528182446 \\, [V]$$\n"
      ],
      "text/plain": [
       "<IPython.core.display.Markdown object>"
      ]
     },
     "metadata": {},
     "output_type": "display_data"
    },
    {
     "data": {
      "text/markdown": [
       "##\n",
       "$$u(V_2) = 0.028835372374914806 \\, [V]$$\n"
      ],
      "text/plain": [
       "<IPython.core.display.Markdown object>"
      ]
     },
     "metadata": {},
     "output_type": "display_data"
    }
   ],
   "source": [
    "#def incertidumbre_combinada (uA, uB):\n",
    "uC_V1 = incertidumbre_combinada (uA_V1, uB_V1)\n",
    "uC_V2 = incertidumbre_combinada (uA_V2, uB_V2)\n",
    "\n",
    "display(Markdown(\"##\\n\" + f\"$$u(V_1) = {uC_V1} \\, [V]$$\\n\"))\n",
    "display(Markdown(\"##\\n\" + f\"$$u(V_2) = {uC_V2} \\, [V]$$\\n\"))"
   ]
  },
  {
   "cell_type": "markdown",
   "id": "004d018e-d40c-4247-863d-ce2d008c95d3",
   "metadata": {},
   "source": [
    "#####\n",
    "\n",
    "<u> Incertidumbre combinada </u>\n",
    "\n",
    "#####\n",
    "\n",
    "Se obtiene la incertidumbre combinada de $\\Delta V$ a través de la siguiente expresión:\n",
    "\n",
    "#####\n",
    "\n",
    "\\begin{equation*} \n",
    "u_C(\\Delta V) = \\sqrt{\\left[\\frac{d\\Delta V}{dV_1}\\right]^2 \\cdot u^2(V_1) + \\left[\\frac{d\\Delta V}{dV_2}\\right]^2 \\cdot u^2(V_2) }\n",
    "\\end{equation*}\n",
    "\n",
    "#####\n",
    "\n",
    "\\begin{equation*} \n",
    "u_C(\\Delta V) = \\sqrt{\\left[ 1 \\right]^2 \\cdot u^2(V_1) + \\left[ -1 \\right]^2 \\cdot u^2(V_2) }\n",
    "\\end{equation*}\n",
    "\n",
    "#####"
   ]
  },
  {
   "cell_type": "code",
   "execution_count": 27,
   "id": "839148d4-cafe-4e00-9c3e-483cbdb380a2",
   "metadata": {},
   "outputs": [
    {
     "data": {
      "text/markdown": [
       "##\n",
       "$$u_C(\\Delta V) = 0.09797281605288954 \\, [V]$$\n"
      ],
      "text/plain": [
       "<IPython.core.display.Markdown object>"
      ]
     },
     "metadata": {},
     "output_type": "display_data"
    }
   ],
   "source": [
    "dDeltaV_dV1 = 1\n",
    "dDeltaV_dV2 = -1\n",
    "\n",
    "uC_DeltaV = np.sqrt( (dDeltaV_dV1)**2 * uC_V1**2 + (dDeltaV_dV2)**2 * uC_V2**2)\n",
    "\n",
    "display(Markdown(\"##\\n\" + f\"$$u_C(\\\\Delta V) = {uC_DeltaV} \\, [V]$$\\n\"))"
   ]
  },
  {
   "cell_type": "markdown",
   "id": "a7d19c0b-bb80-4edb-8b94-72f0869d7259",
   "metadata": {},
   "source": [
    "#####\n",
    "\n",
    "<u>Incertidumbre expandida:</u>\n",
    "\n",
    "#####\n",
    "\n",
    "\\begin{equation*}\n",
    "U(\\Delta V) = u_C(\\Delta V) \\cdot k_{95\\%}\n",
    "\\end{equation*}\n",
    "\n",
    "#####"
   ]
  },
  {
   "cell_type": "code",
   "execution_count": 34,
   "id": "413dee55-80e5-4c76-9aff-4de03f28c15c",
   "metadata": {},
   "outputs": [
    {
     "data": {
      "text/markdown": [
       "##\n",
       "$$U(\\Delta V) = 0.1959456321057791 \\, [V]$$\n",
       "##"
      ],
      "text/plain": [
       "<IPython.core.display.Markdown object>"
      ]
     },
     "metadata": {},
     "output_type": "display_data"
    }
   ],
   "source": [
    "k_95 = 2\n",
    "U_DeltaV = uC_DeltaV * k_95\n",
    "\n",
    "display(Markdown(\"##\\n\" + f\"$$U(\\\\Delta V) = {U_DeltaV} \\, [V]$$\\n\" + \"##\"))"
   ]
  },
  {
   "cell_type": "markdown",
   "id": "79a195ca-ddf5-43ef-b584-f7667e40b36b",
   "metadata": {},
   "source": [
    "#####\n",
    "\n",
    "<u>Resultado de la medición:</u>\n",
    "\n",
    "#####\n",
    "\n",
    "<u>Aproximación general:</u>\n",
    "\n",
    "#####\n",
    "\n",
    "\\begin{equation*}\n",
    "\\Delta V = \\overline{\\Delta V} \\pm U(\\Delta V) \n",
    "\\end{equation*}\n",
    "\n",
    "#####\n",
    "\n",
    "\\begin{equation*}\n",
    "\\Delta V = \\left( 1.8254 \\pm 0.1959456321057791 \\right) [V] \\qquad k = 2\n",
    "\\end{equation*}\n",
    "\n",
    "#####\n",
    "\n",
    "\\begin{equation*}\n",
    "\\boxed{ \\Delta V = \\left( 1.82 \\pm 0.20 \\right) [V] \\qquad k = 2 }\n",
    "\\end{equation*}\n",
    "\n",
    "#####\n",
    "\n",
    "***"
   ]
  },
  {
   "cell_type": "markdown",
   "id": "ee90bfa4-4a5d-4529-886f-52cce9911561",
   "metadata": {},
   "source": [
    "#####\n",
    "\n",
    "Considerando los diferentes aportantes de distribuciones...\n",
    "\n",
    "#####\n",
    "\n",
    "<u>Grados de libertad</u>\n",
    "\n",
    "#####\n",
    "\n",
    "\\begin{equation*}\n",
    "\\nu_{eff} = \\frac{ u_C^4(y) }{ \\sum \\limits_{k=1}^{n} \\frac{ u_i^4(y) }{ \\nu_i } }\n",
    "\\end{equation*}\n",
    "\n",
    "#####\n",
    "\n",
    "\\begin{equation*}\n",
    "u_i(y) = \\frac{ dy }{ dx_i } \\cdot u(x_i)\n",
    "\\end{equation*}\n",
    "\n",
    "#####\n",
    "\n",
    "\\begin{equation*}\n",
    "\\nu_i = n_i - 1\n",
    "\\end{equation*}\n",
    "\n",
    "#####\n",
    "\n",
    "\\begin{equation*}\n",
    "\\nu_{eff} = \\frac{ u_C^4( \\Delta V ) }\n",
    "{ \\frac{ \\left[ \\frac{ d \\Delta V }{ V_1 } \\cdot u_A(V_1) \\right]^4 }{ \\nu_{AV_{1}} } +\n",
    "\\frac{ \\left[ \\frac{ d \\Delta V }{ V_1 } \\cdot u_B(V_1) \\right]^4 }{ \\nu_{BV_{1}} } +\n",
    "\\frac{ \\left[ \\frac{ d \\Delta V }{ V_2 } \\cdot u_A(V_2) \\right]^4 }{ \\nu_{AV_{2}} } +\n",
    "\\frac{ \\left[ \\frac{ d \\Delta V }{ V_2 } \\cdot u_B(V_2) \\right]^4 }{ \\nu_{BV_{2}} } } \n",
    "\\end{equation*}\n",
    "\n",
    "#####\n",
    "\n",
    "\\begin{equation*}\n",
    "\\nu_{eff} = \\frac{ u_C^4( \\Delta V ) }\n",
    "{ \\frac{ \\left[ 1 \\cdot u_A(V_1) \\right]^4 }{ \\nu_{AV_{1}} } +\n",
    "\\frac{ \\left[ 1 \\cdot u_B(V_1) \\right]^4 }{ \\nu_{BV_{1}} } +\n",
    "\\frac{ \\left[ (-1) \\cdot u_A(V_2) \\right]^4 }{ \\nu_{AV_{2}} } +\n",
    "\\frac{ \\left[ (-1) \\cdot u_B(V_2) \\right]^4 }{ \\nu_{BV_{2}} } } \n",
    "\\end{equation*}\n",
    "\n",
    "#####\n",
    "\n",
    "\\begin{equation*}\n",
    "\\nu_{eff} = \\frac{ u_C^4( \\Delta V ) }\n",
    "{ \\frac{ \\left[ 1 \\cdot 0.0009797958971132583 \\right]^4 }{ 5 - 1 } +\n",
    "\\frac{ \\left[ 1 \\cdot 0.012831032382470246 \\right]^4 }{ \\infty } +\n",
    "\\frac{ \\left[ (-1) \\cdot 0.014966629547095763 \\right]^4 }{ 5 - 1 } +\n",
    "\\frac{ \\left[ (-1) \\cdot 0.024647082991705125 \\right]^4 }{ \\infty } }\n",
    "\\end{equation*}\n",
    "\n",
    "#####"
   ]
  },
  {
   "cell_type": "code",
   "execution_count": 239,
   "id": "40724e6c-d2c6-4653-a3ef-f2a89339f8ca",
   "metadata": {},
   "outputs": [
    {
     "data": {
      "text/markdown": [
       "##\n",
       "$$\\nu_{eff} = 7344.772407892337$$\n",
       "##"
      ],
      "text/plain": [
       "<IPython.core.display.Markdown object>"
      ]
     },
     "metadata": {},
     "output_type": "display_data"
    }
   ],
   "source": [
    "v_AV1 = len(V1) - 1\n",
    "v_BV1 = np.inf\n",
    "v_AV2 = len(V2) - 1 \n",
    "v_BV2 = np.inf\n",
    "\n",
    "a = (dDeltaV_dV1 * uA_V1)**4\n",
    "b = (dDeltaV_dV2 * uB_V1)**4\n",
    "c = (dDeltaV_dV1 * uA_V2)**4\n",
    "d = (dDeltaV_dV2 * uB_V2)**4\n",
    "\n",
    "v_eff = uC_DeltaV**4 / ( (a/v_AV1) + (b/v_BV1) + (c/v_AV2) + (d/v_BV2) )\n",
    "\n",
    "display(Markdown(\"##\\n\" + f\"$$\\\\nu_{{eff}} = {v_eff}$$\\n\" + \"##\"))"
   ]
  },
  {
   "cell_type": "markdown",
   "id": "901ef0cd-90a4-4b9b-9d31-7f380343be74",
   "metadata": {},
   "source": [
    "<img src=\"Ejercicio_3.png\" style=\"margin-left:auto; margin-right:auto\"/>"
   ]
  },
  {
   "cell_type": "markdown",
   "id": "49994e08-e3ba-494b-91d9-88f49bd81215",
   "metadata": {},
   "source": [
    "***\n",
    "\n",
    "#####\n",
    "\n",
    "#### <u>Cálculo de valor más probable</u>\n",
    "\n",
    "#####\n",
    "\n",
    "Se obtiene el valor más probable de $V_{OUT}$ a través de la siguiente expresión:\n",
    "\n",
    "#####\n",
    "\n",
    "\\begin{equation*}\n",
    "\\overline{V_{OUT}} = \\overline{V_{OFF}} + a_s \\cdot g \\cdot sen\\left(\\overline{\\theta}\\right) \n",
    "\\end{equation*}\n",
    "\n",
    "#####\n",
    "\n",
    "Reemplazando los valores de la tabla, obtenemos $\\overline{V_{OUT}}$:\n",
    "\n",
    "#####"
   ]
  },
  {
   "cell_type": "code",
   "execution_count": 165,
   "id": "8510984b-213e-4a4c-b3d9-73498d090363",
   "metadata": {},
   "outputs": [
    {
     "data": {
      "text/markdown": [
       "##\n",
       "$$\\overline{V_{OUT}} = 19.243339308211706 \\, [V]$$\n"
      ],
      "text/plain": [
       "<IPython.core.display.Markdown object>"
      ]
     },
     "metadata": {},
     "output_type": "display_data"
    }
   ],
   "source": [
    "ov_Voff = 20.03            # [V]\n",
    "a_s = 800 * 10**-3         # [V/g]\n",
    "g = 9.80665                # [m/s^2]\n",
    "ov_theta = 30.028          # [rad]\n",
    "\n",
    "#def calculo_Vout (Voff, a_s, g, theta)\n",
    "ov_Vout = calculo_Vout (ov_Voff, a_s, g, ov_theta)\n",
    "\n",
    "display(Markdown(\"##\\n\" + f\"$$\\\\overline{{V_{{OUT}}}} = {ov_Vout} \\, [V]$$\\n\"))"
   ]
  },
  {
   "cell_type": "markdown",
   "id": "3154f631-d798-45ab-bad0-98ffb1770f91",
   "metadata": {},
   "source": [
    "#####\n",
    "\n",
    "#### <u>Cálculo de incertidumbres</u>\n",
    "\n",
    "#####\n",
    "\n",
    "<u>Incertidumbre tipo A:</u>\n",
    "\n",
    "#####\n",
    "\n",
    "La incertidumbre tipo A viene dada directamente como dato a través del desvío estándar de la media:\n",
    "\n",
    "#####"
   ]
  },
  {
   "cell_type": "code",
   "execution_count": 63,
   "id": "619c1e24-bf63-471d-a49c-552c19dfaec3",
   "metadata": {},
   "outputs": [
    {
     "data": {
      "text/markdown": [
       "##\n",
       "$$u_A(V_{OFF}) = 0.01581 \\, [V]$$\n"
      ],
      "text/plain": [
       "<IPython.core.display.Markdown object>"
      ]
     },
     "metadata": {},
     "output_type": "display_data"
    },
    {
     "data": {
      "text/markdown": [
       "##\n",
       "$$u_A(\\theta) = 0.001304 \\, [rad]$$\n"
      ],
      "text/plain": [
       "<IPython.core.display.Markdown object>"
      ]
     },
     "metadata": {},
     "output_type": "display_data"
    }
   ],
   "source": [
    "uA_Voff = 0.01581            # [V]\n",
    "uA_theta = 0.001304          # [rad]\n",
    "\n",
    "display(Markdown(\"##\\n\" + f\"$$u_A(V_{{OFF}}) = {uA_Voff} \\, [V]$$\\n\"))\n",
    "display(Markdown(\"##\\n\" + f\"$$u_A(\\\\theta) = {uA_theta} \\, [rad]$$\\n\"))"
   ]
  },
  {
   "cell_type": "markdown",
   "id": "9a445369-80c4-4e8e-84b0-fa477e37616b",
   "metadata": {},
   "source": [
    "#####\n",
    "\n",
    "<u>Incertidumbre tipo B:</u>\n",
    "\n",
    "#####\n",
    "\n",
    "Se obtienen las incertidumbres tipo B a través de la siguiente expresión:\n",
    "\n",
    "#####\n",
    "\n",
    "\\begin{equation*}\n",
    "u_B(X) = \\frac{ \\Delta X }{ \\sqrt{3} } = \\frac{ \\left( \\frac{er\\%}{100} + \\frac{n}{ci} \\right) \\cdot \\overline{X} }{ \\sqrt{3} } \n",
    "\\end{equation*}\n",
    "\n",
    "#####\n",
    "\n",
    "\n",
    "Siendo:\n",
    "\n",
    "> $er%$: Error relativo.\n",
    "\n",
    "> $n$: Error de cuentas.\n",
    "\n",
    "> $ci$: Cuentas indicadas.\n",
    "\n",
    "#####\n",
    "\n",
    "Además:\n",
    "\n",
    "> $ci = \\frac{Ind}{Res} \\frac{ [u] }{ \\left[ \\frac{u}{cuenta} \\right] }= [cuentas]$\n",
    "\n",
    "> $Ind$: Indicación del instrumento con su respectiva $u$ unidad.\n",
    "\n",
    "> $Res$: Resolución del instrumento con su respectiva $u$ unidad por cuenta, dada por el rango seleccionado y la cantidad de dígitos que el mismo puede representar.\n",
    "\n",
    "#####"
   ]
  },
  {
   "cell_type": "code",
   "execution_count": 73,
   "id": "d2e6b17d-eea4-476d-be8b-b23e1f35e195",
   "metadata": {},
   "outputs": [
    {
     "data": {
      "text/markdown": [
       "##\n",
       "$$u_B(V_{OFF}) = 0.06936863484313355 \\, [V]$$\n"
      ],
      "text/plain": [
       "<IPython.core.display.Markdown object>"
      ]
     },
     "metadata": {},
     "output_type": "display_data"
    },
    {
     "data": {
      "text/markdown": [
       "##\n",
       "$$u_B(\\theta) = 0.017625349017820896 \\, [rad]$$\n"
      ],
      "text/plain": [
       "<IPython.core.display.Markdown object>"
      ]
     },
     "metadata": {},
     "output_type": "display_data"
    }
   ],
   "source": [
    "er_Voff = 0.5\n",
    "n_Voff = 2\n",
    "\n",
    "ind_Voff = ov_Voff\n",
    "res_Voff = 0.01\n",
    "ci_Voff = ind_Voff / res_Voff\n",
    "\n",
    "er_theta = 0.1\n",
    "n_theta = 0.5\n",
    "\n",
    "ind_theta = ov_theta\n",
    "res_theta = 0.001\n",
    "ci_theta = ind_theta / res_theta\n",
    "\n",
    "#def incertidumbre_tipo_B (error_relativo, error_cuentas, cuentas_indicadas, valor_mas_probable):\n",
    "uB_Voff = incertidumbre_tipo_B (er_Voff, n_Voff, ci_Voff, ov_Voff)\n",
    "uB_theta = incertidumbre_tipo_B (er_theta, n_theta, ci_theta, ov_theta)\n",
    "\n",
    "display(Markdown(\"##\\n\" + f\"$$u_B(V_{{OFF}}) = {uB_Voff} \\, [V]$$\\n\"))\n",
    "display(Markdown(\"##\\n\" + f\"$$u_B(\\\\theta) = {uB_theta} \\, [rad]$$\\n\"))"
   ]
  },
  {
   "cell_type": "markdown",
   "id": "80e260f4-ce37-4c47-8f53-6ab3f5bfc8ba",
   "metadata": {},
   "source": [
    "#####\n",
    "\n",
    "<u>Incertidumbre de $V_{OFF}$ y $\\theta$:</u>\n",
    "\n",
    "#####\n",
    "\n",
    "Se obtienen las incertidumbres de $V_{OFF}$ y $\\theta$ a través de la siguiente expresión:\n",
    "\n",
    "#####\n",
    "\n",
    "\\begin{equation*}\n",
    "u(X) = \\sqrt{ u_A^2(X) + u_B^2(X) }\n",
    "\\end{equation*}\n",
    "\n",
    "#####"
   ]
  },
  {
   "cell_type": "code",
   "execution_count": 70,
   "id": "e23c8013-d0f5-4fbe-af13-61f0998a49bb",
   "metadata": {},
   "outputs": [
    {
     "data": {
      "text/markdown": [
       "##\n",
       "$$u(V_{OFF}) = 0.07114747781896419 \\, [V]$$\n"
      ],
      "text/plain": [
       "<IPython.core.display.Markdown object>"
      ]
     },
     "metadata": {},
     "output_type": "display_data"
    },
    {
     "data": {
      "text/markdown": [
       "##\n",
       "$$u(\\theta) = 0.017673520984795306 \\, [rad]$$\n"
      ],
      "text/plain": [
       "<IPython.core.display.Markdown object>"
      ]
     },
     "metadata": {},
     "output_type": "display_data"
    }
   ],
   "source": [
    "#def incertidumbre_combinada (uA, uB):\n",
    "u_Voff = incertidumbre_combinada (uA_Voff, uB_Voff)\n",
    "u_theta = incertidumbre_combinada (uA_theta, uB_theta)\n",
    "\n",
    "display(Markdown(\"##\\n\" + f\"$$u(V_{{OFF}}) = {u_Voff} \\, [V]$$\\n\"))\n",
    "display(Markdown(\"##\\n\" + f\"$$u(\\\\theta) = {u_theta} \\, [rad]$$\\n\"))"
   ]
  },
  {
   "cell_type": "markdown",
   "id": "99c2c378-b011-425b-99d7-ba56ee879b12",
   "metadata": {},
   "source": [
    "#####\n",
    "\n",
    "<u> Incertidumbre combinada </u>\n",
    "\n",
    "#####\n",
    "\n",
    "Se obtiene la incertidumbre combinada de $V_{OUT}$ a través de la siguiente expresión:\n",
    "\n",
    "#####\n",
    "\n",
    "\\begin{equation*} \n",
    "u_C(V_{OUT}) = \\sqrt{\\left[\\frac{dV_{OUT}}{dV_{OFF}}\\right]^2 \\cdot u^2(V_{OFF}) + \\left[\\frac{dV_{OUT}}{d\\theta}\\right]^2 \\cdot u^2(\\theta) }\n",
    "\\end{equation*}\n",
    "\n",
    "#####\n",
    "\n",
    "\\begin{equation*} \n",
    "u_C(V_{OUT}) = \\sqrt{\\left[ 1 \\right]^2 \\cdot u^2(V_{OFF}) + \\left[ a_s \\cdot g \\cdot cos(\\theta) \\right]^2 \\cdot u^2(\\theta) }\n",
    "\\end{equation*}\n",
    "\n",
    "#####"
   ]
  },
  {
   "cell_type": "code",
   "execution_count": 72,
   "id": "9b4601aa-8d72-4ceb-96c2-81e01316414a",
   "metadata": {},
   "outputs": [
    {
     "data": {
      "text/markdown": [
       "##\n",
       "$$u_C(V_{OUT}) = 0.07119392210561729 \\, [V]$$\n"
      ],
      "text/plain": [
       "<IPython.core.display.Markdown object>"
      ]
     },
     "metadata": {},
     "output_type": "display_data"
    }
   ],
   "source": [
    "dVout_dVoff = 1\n",
    "dVout_dtheta = a_s / g * g * np.cos(ov_theta)\n",
    "\n",
    "uC_Vout = np.sqrt( (dVout_dVoff)**2 * u_Voff**2 + (dVout_dtheta)**2 * u_theta**2)\n",
    "\n",
    "display(Markdown(\"##\\n\" + f\"$$u_C(V_{{OUT}}) = {uC_Vout} \\, [V]$$\\n\"))"
   ]
  },
  {
   "cell_type": "markdown",
   "id": "b4c3ab62-b3fb-45b8-922e-dc5fe660bb75",
   "metadata": {},
   "source": [
    "#####\n",
    "\n",
    "<u>Incertidumbre expandida:</u>\n",
    "\n",
    "#####\n",
    "\n",
    "\\begin{equation*}\n",
    "U(V_{OUT}) = u_C(V_{OUT}) \\cdot k_{95\\%}\n",
    "\\end{equation*}\n",
    "\n",
    "#####"
   ]
  },
  {
   "cell_type": "code",
   "execution_count": 75,
   "id": "177372a2-2503-4ba3-b592-e67d9e51036c",
   "metadata": {},
   "outputs": [
    {
     "data": {
      "text/markdown": [
       "##\n",
       "$$U(V_{OUT}) = 0.14238784421123457 \\, [V]$$\n",
       "##"
      ],
      "text/plain": [
       "<IPython.core.display.Markdown object>"
      ]
     },
     "metadata": {},
     "output_type": "display_data"
    }
   ],
   "source": [
    "k_95 = 2\n",
    "U_Vout = uC_Vout * k_95\n",
    "\n",
    "display(Markdown(\"##\\n\" + f\"$$U(V_{{OUT}}) = {U_Vout} \\, [V]$$\\n\" + \"##\"))"
   ]
  },
  {
   "cell_type": "markdown",
   "id": "137f06c4-db6a-42d0-ad25-f2a8dbf436d0",
   "metadata": {},
   "source": [
    "#####\n",
    "\n",
    "<u>Resultado de la medición:</u>\n",
    "\n",
    "#####\n",
    "\n",
    "\\begin{equation*}\n",
    "V_{OUT} = \\overline{V_{OUT}} \\pm U(V_{OUT}) \n",
    "\\end{equation*}\n",
    "\n",
    "#####\n",
    "\n",
    "\\begin{equation*}\n",
    "V_{OUT} = \\left( 19.243339308211706 \\pm 0.14238784421123457 \\right) [V] \\qquad k = 2\n",
    "\\end{equation*}\n",
    "\n",
    "#####\n",
    "\n",
    "\\begin{equation*}\n",
    "\\boxed{ V_{OUT} = \\left( 19,24 \\pm 0.14 \\right) [V] \\qquad k = 2 }\n",
    "\\end{equation*}\n",
    "\n",
    "#####\n",
    "\n",
    "***"
   ]
  },
  {
   "cell_type": "markdown",
   "id": "4c5f03a8-03b0-4bf8-9414-7ebc8343ee7e",
   "metadata": {},
   "source": [
    "<img src=\"Ejercicio_4.png\" style=\"margin-left:auto; margin-right:auto\"/>"
   ]
  },
  {
   "cell_type": "markdown",
   "id": "7f962fe6-7ecb-4a48-9af5-bd98ebc1922f",
   "metadata": {},
   "source": [
    "***\n",
    "#####\n",
    "\n",
    "#### <u>Cálculo de valor más probable</u>\n",
    "\n",
    "#####\n",
    "\n",
    "Se obtienen los valores más probables de $V_1$ y $I_1$ a través de la siguiente expresión:\n",
    "\n",
    "#####\n",
    "\n",
    "\\begin{equation*}\n",
    "\\overline{X_i} = \\frac{1}{n} \\cdot \\sum\\limits_{k=1}^{n} X_{i,k}\n",
    "\\end{equation*}\n",
    "\n",
    "#####\n",
    "\n",
    "Siendo:\n",
    "\n",
    "> n: cantidad de mediciones\n",
    "\n",
    "> $X_{i_{k}}$: i-ésimos valores de tensiones y/o corrientes, k-ésimos valores de las n mediciones.\n",
    "\n",
    "#####\n",
    "\n",
    "Reemplazando los valores de la tabla, obtenemos $\\overline{V_1}$ e $\\overline{I_1}$:\n",
    "\n",
    "#####"
   ]
  },
  {
   "cell_type": "code",
   "execution_count": 167,
   "id": "8b51e0ed-99ce-42d4-85b0-5bebfbeffc0e",
   "metadata": {},
   "outputs": [
    {
     "data": {
      "text/markdown": [
       "##\n",
       "$$\\overline{V_1} = 2.0224 \\, [V]$$\n"
      ],
      "text/plain": [
       "<IPython.core.display.Markdown object>"
      ]
     },
     "metadata": {},
     "output_type": "display_data"
    },
    {
     "data": {
      "text/markdown": [
       "##\n",
       "$$\\overline{I_1} = 0.5416000000000001 \\, [A]$$\n"
      ],
      "text/plain": [
       "<IPython.core.display.Markdown object>"
      ]
     },
     "metadata": {},
     "output_type": "display_data"
    }
   ],
   "source": [
    "V1 = [2.021, 2.023, 2.026, 2.021, 2.021]\n",
    "I1 = [0.541, 0.542, 0.544, 0.543, 0.538]\n",
    "\n",
    "ov_V1 = valor_mas_probable(V1)\n",
    "ov_I1 = valor_mas_probable(I1) \n",
    "\n",
    "display(Markdown(\"##\\n\" + f\"$$\\\\overline{{V_1}} = {ov_V1} \\, [V]$$\\n\"))\n",
    "display(Markdown(\"##\\n\" + f\"$$\\\\overline{{I_1}} = {ov_I1} \\, [A]$$\\n\"))"
   ]
  },
  {
   "cell_type": "markdown",
   "id": "6083a8bc-67fc-4b1e-8a64-99e8fa211638",
   "metadata": {},
   "source": [
    "#####\n",
    "\n",
    "Se obtiene el valor más probable de $R_1$ a través de la siguiente expresión:\n",
    "\n",
    "#####\n",
    "\n",
    "\\begin{equation*}\n",
    "\\overline{R_1} = \\frac{ \\overline{V_1} }{ \\overline{I_1} }\n",
    "\\end{equation*}\n",
    "\n",
    "#####"
   ]
  },
  {
   "cell_type": "code",
   "execution_count": 171,
   "id": "7462fddf-80e6-4721-9485-d99679339cce",
   "metadata": {},
   "outputs": [
    {
     "data": {
      "text/markdown": [
       "##\n",
       "$$\\overline{R_1} = 3.734121122599704 \\, [\\Omega]$$\n"
      ],
      "text/plain": [
       "<IPython.core.display.Markdown object>"
      ]
     },
     "metadata": {},
     "output_type": "display_data"
    }
   ],
   "source": [
    "ov_R1 = calculo_R1 (ov_V1, ov_I1)\n",
    "\n",
    "display(Markdown(\"##\\n\" + f\"$$\\\\overline{{R_1}} = {ov_R1} \\, [\\Omega]$$\\n\"))"
   ]
  },
  {
   "cell_type": "markdown",
   "id": "6f601171-be5f-4c3d-8019-6889f2e90e6b",
   "metadata": {},
   "source": [
    "#####\n",
    "\n",
    "#### <u>Cálculo de incertidumbres</u>\n",
    "\n",
    "#####\n",
    "\n",
    "<u>Incertidumbre tipo A:</u>\n",
    "\n",
    "#####\n",
    "\n",
    "Se obtienen las incertidumbres tipo A a través de la siguiente expresión:\n",
    "\n",
    "#####\n",
    "\n",
    "\\begin{equation*}\n",
    "u_A(X_i) = \\frac{ s(X_i) }{ \\sqrt{n} } = \\frac{ \\sqrt{ \\frac{ 1 }{ n-1 } \\sum \\limits_{k=1}^{n} \\left( X_{i,k} - \\overline{X_i} \\right)^{2} } }{ \\sqrt{n} }\n",
    "\\end{equation*}\n",
    "\n",
    "#####"
   ]
  },
  {
   "cell_type": "code",
   "execution_count": 82,
   "id": "653e7637-555b-4fff-bdd4-176645649d88",
   "metadata": {},
   "outputs": [
    {
     "data": {
      "text/markdown": [
       "##\n",
       "$$u_A(V_1) = 0.0009797958971132583 \\, [V]$$\n"
      ],
      "text/plain": [
       "<IPython.core.display.Markdown object>"
      ]
     },
     "metadata": {},
     "output_type": "display_data"
    },
    {
     "data": {
      "text/markdown": [
       "##\n",
       "$$u_A(I_1) = 0.001029563014098701 \\, [A]$$\n"
      ],
      "text/plain": [
       "<IPython.core.display.Markdown object>"
      ]
     },
     "metadata": {},
     "output_type": "display_data"
    }
   ],
   "source": [
    "uA_V1 = incertidumbre_tipo_A (V1)\n",
    "uA_I1 = incertidumbre_tipo_A (I1)\n",
    "\n",
    "display(Markdown(\"##\\n\" + f\"$$u_A(V_1) = {uA_V1} \\, [V]$$\\n\"))\n",
    "display(Markdown(\"##\\n\" + f\"$$u_A(I_1) = {uA_I1} \\, [A]$$\\n\"))"
   ]
  },
  {
   "cell_type": "markdown",
   "id": "c216ee14-6bf2-429a-a49c-c51241d04ad0",
   "metadata": {},
   "source": [
    "#####\n",
    "\n",
    "<u>Incertidumbre tipo B:</u>\n",
    "\n",
    "#####\n",
    "\n",
    "Se obtienen las incertidumbres tipo B a través de la siguiente expresión:\n",
    "\n",
    "#####\n",
    "\n",
    "\\begin{equation*}\n",
    "u_B(X_i) = \\frac{ \\Delta X_i }{ \\sqrt{3} } = \\frac{ \\left( \\frac{er\\%}{100} + \\frac{n}{ci} \\right) \\cdot \\overline{X_i} }{ \\sqrt{3} } \n",
    "\\end{equation*}\n",
    "\n",
    "#####\n",
    "\n",
    "\n",
    "Siendo:\n",
    "\n",
    "> $er%$: Error relativo.\n",
    "\n",
    "> $n$: Error de cuentas.\n",
    "\n",
    "> $ci$: Cuentas indicadas.\n",
    "\n",
    "#####\n",
    "\n",
    "Además:\n",
    "\n",
    "> $ci = \\frac{Ind}{Res} \\frac{ [u] }{ \\left[ \\frac{u}{cuenta} \\right] }= [cuentas]$\n",
    "\n",
    "> $Ind$: Indicación del instrumento con su respectiva $u$ unidad.\n",
    "\n",
    "> $Res$: Resolución del instrumento con su respectiva $u$ unidad por cuenta, dada por el rango seleccionado y la cantidad de dígitos que el mismo puede representar.\n",
    "\n",
    "#####"
   ]
  },
  {
   "cell_type": "code",
   "execution_count": 83,
   "id": "b29a8ca9-5524-49d1-9bbf-d5fb2bdd98c4",
   "metadata": {},
   "outputs": [
    {
     "data": {
      "text/markdown": [
       "##\n",
       "$$u_B(V_1) = 0.006415516191235123 \\, [V]$$\n"
      ],
      "text/plain": [
       "<IPython.core.display.Markdown object>"
      ]
     },
     "metadata": {},
     "output_type": "display_data"
    },
    {
     "data": {
      "text/markdown": [
       "##\n",
       "$$u_B(I_1) = 0.004858979865499892 \\, [A]$$\n"
      ],
      "text/plain": [
       "<IPython.core.display.Markdown object>"
      ]
     },
     "metadata": {},
     "output_type": "display_data"
    }
   ],
   "source": [
    "er_V1 = 0.5\n",
    "n_V1 = 1\n",
    "\n",
    "ind_V1 = ov_V1\n",
    "res_V1 = 0.001\n",
    "ci_V1 = ind_V1 / res_V1\n",
    "\n",
    "er_I1 = 1 \n",
    "n_I1 = 3\n",
    "\n",
    "ind_I1 = ov_I1\n",
    "res_I1 = 0.001\n",
    "ci_I1 = ind_I1 / res_I1\n",
    "\n",
    "#def incertidumbre_tipo_B (error_relativo, error_cuentas, cuentas_indicadas, valor_mas_probable):\n",
    "uB_V1 = incertidumbre_tipo_B (er_V1, n_V1, ci_V1, ov_V1)\n",
    "uB_I1 = incertidumbre_tipo_B (er_I1, n_I1, ci_I1, ov_I1)\n",
    "\n",
    "display(Markdown(\"##\\n\" + f\"$$u_B(V_1) = {uB_V1} \\, [V]$$\\n\"))\n",
    "display(Markdown(\"##\\n\" + f\"$$u_B(I_1) = {uB_I1} \\, [A]$$\\n\"))"
   ]
  },
  {
   "cell_type": "markdown",
   "id": "065d719d-8ea4-428a-96bb-fe880a4af173",
   "metadata": {},
   "source": [
    "#####\n",
    "\n",
    "<u>Incertidumbre de $V_1$ e $I_1$:</u>\n",
    "\n",
    "#####\n",
    "\n",
    "Se obtienen las incertidumbres de $V_1$ e $I_1$ a través de la siguiente expresión:\n",
    "\n",
    "#####\n",
    "\n",
    "\\begin{equation*}\n",
    "u(X_i) = \\sqrt{ u_A^2(X_i) + u_B^2(X_i) }\n",
    "\\end{equation*}\n",
    "\n",
    "#####"
   ]
  },
  {
   "cell_type": "code",
   "execution_count": 84,
   "id": "e18a0fea-7667-4f73-91ae-c16d91f5f869",
   "metadata": {},
   "outputs": [
    {
     "data": {
      "text/markdown": [
       "##\n",
       "$$u(V_1) = 0.006489903543196924 \\, [V]$$\n"
      ],
      "text/plain": [
       "<IPython.core.display.Markdown object>"
      ]
     },
     "metadata": {},
     "output_type": "display_data"
    },
    {
     "data": {
      "text/markdown": [
       "##\n",
       "$$u(I_1) = 0.00496685869874847 \\, [A]$$\n"
      ],
      "text/plain": [
       "<IPython.core.display.Markdown object>"
      ]
     },
     "metadata": {},
     "output_type": "display_data"
    }
   ],
   "source": [
    "#def incertidumbre_combinada (uA, uB):\n",
    "uC_V1 = incertidumbre_combinada (uA_V1, uB_V1)\n",
    "uC_I1 = incertidumbre_combinada (uA_I1, uB_I1)\n",
    "\n",
    "display(Markdown(\"##\\n\" + f\"$$u(V_1) = {uC_V1} \\, [V]$$\\n\"))\n",
    "display(Markdown(\"##\\n\" + f\"$$u(I_1) = {uC_I1} \\, [A]$$\\n\"))"
   ]
  },
  {
   "cell_type": "markdown",
   "id": "33750e6f-df69-4173-81b1-ac6843c1775e",
   "metadata": {},
   "source": [
    "#####\n",
    "\n",
    "Cálculo de la incertidumbre combinada:\n",
    "\n",
    "#####\n",
    "\n",
    "\\begin{equation*} \n",
    "u_C(\\bar{R_1}) = \\sqrt{\\left[\\frac{dR_1}{dV_1}\\right]^2 \\cdot u^2(\\bar{V_1}) + \\left[\\frac{dR_1}{dI_1}\\right]^2 \\cdot u^2(\\bar{I_1}) + 2 \\cdot \\left[\\frac{dR_1}{dV_1}\\right] \\cdot u(\\bar{V_1}) \\cdot \\left[\\frac{dR_1}{dI_1}\\right] \\cdot u(\\bar{I_1}) \\cdot r(\\bar{V_1},\\bar{I_1})}\n",
    "\\end{equation*}\n",
    "\n",
    "#####\n",
    "\n",
    "\\begin{equation*} \n",
    "u_C(\\bar{R_1}) = \\sqrt{\\left[\\frac{1}{\\bar{I_1}}\\right]^2 \\cdot u^2(\\bar{V_1}) + \\left[-\\frac{\\bar{V_1}}{\\bar{I_1}^2}\\right]^2 \\cdot u^2(\\bar{I_1}) + 2 \\cdot \\left[\\frac{1}{\\bar{I_1}}\\right] \\cdot u(\\bar{V_1}) \\cdot \\left[-\\frac{\\bar{V_1}}{\\bar{I_1}^2}\\right] \\cdot u(\\bar{I_1}) \\cdot r(\\bar{V_1},\\bar{I_1})}\n",
    "\\end{equation*}\n",
    "\n",
    "#####"
   ]
  },
  {
   "cell_type": "code",
   "execution_count": 86,
   "id": "85462aa7-596e-42e4-9f53-7574691710ad",
   "metadata": {},
   "outputs": [
    {
     "data": {
      "text/markdown": [
       "##\n",
       "$$u_C(R_1) = 0.028270849686331628 \\, [\\Omega]$$\n"
      ],
      "text/plain": [
       "<IPython.core.display.Markdown object>"
      ]
     },
     "metadata": {},
     "output_type": "display_data"
    }
   ],
   "source": [
    "r_V1_I1 = 0.63\n",
    "\n",
    "dR1_dV1 = 1/ov_I1\n",
    "dR1_dI1 = -ov_V1/(ov_I1)**2\n",
    "\n",
    "uC_R1 = np.sqrt( dR1_dV1**2 * uC_V1**2 + \n",
    "                 dR1_dI1**2 * uC_I1**2 +\n",
    "                 2 * dR1_dV1 * uC_V1 * dR1_dI1 * uC_I1 * r_V1_I1)\n",
    "\n",
    "display(Markdown(\"##\\n\" + f\"$$u_C(R_1) = {uC_R1} \\, [\\\\Omega]$$\\n\"))"
   ]
  },
  {
   "cell_type": "markdown",
   "id": "d3a7aeba-8122-4671-9a21-0b347df3ee67",
   "metadata": {},
   "source": [
    "#####\n",
    "\n",
    "<u>Incertidumbre expandida:</u>\n",
    "\n",
    "#####\n",
    "\n",
    "\\begin{equation*}\n",
    "U(R_1) = u_C(R_1) \\cdot k_{95\\%}\n",
    "\\end{equation*}\n",
    "\n",
    "#####"
   ]
  },
  {
   "cell_type": "code",
   "execution_count": 89,
   "id": "6405c4e0-3b23-4b94-9a21-d4541a93b634",
   "metadata": {},
   "outputs": [
    {
     "data": {
      "text/markdown": [
       "##\n",
       "$$U(R_1) = 0.056541699372663255 \\, [\\Omega]$$\n",
       "##"
      ],
      "text/plain": [
       "<IPython.core.display.Markdown object>"
      ]
     },
     "metadata": {},
     "output_type": "display_data"
    }
   ],
   "source": [
    "k_95 = 2\n",
    "U_R1 = uC_R1 * k_95\n",
    "\n",
    "display(Markdown(\"##\\n\" + f\"$$U(R_1) = {U_R1} \\, [\\\\Omega]$$\\n\" + \"##\"))"
   ]
  },
  {
   "cell_type": "markdown",
   "id": "3fab33fe-5578-44b2-bf7f-452b47ee8342",
   "metadata": {},
   "source": [
    "#####\n",
    "\n",
    "<u>Resultado de la medición:</u>\n",
    "\n",
    "#####\n",
    "\n",
    "\\begin{equation*}\n",
    "R_1 = \\overline{R_1} \\pm U(R_1) \n",
    "\\end{equation*}\n",
    "\n",
    "#####\n",
    "\n",
    "\\begin{equation*}\n",
    "R_1 = \\left( 3.734121122599704 \\pm 0.056541699372663255 \\right) [\\Omega] \\qquad k = 2\n",
    "\\end{equation*}\n",
    "\n",
    "#####\n",
    "\n",
    "\\begin{equation*}\n",
    "R_1 = \\left( 3.734 \\pm 0.057 \\right) [\\Omega] \\qquad k = 2\n",
    "\\end{equation*}\n",
    "\n",
    "#####\n",
    "\n",
    "***"
   ]
  },
  {
   "cell_type": "markdown",
   "id": "dfbdea75-e156-494c-8b28-a6de77c11809",
   "metadata": {},
   "source": [
    "<img src=\"Ejercicio_5.png\" style=\"margin-left:auto; margin-right:auto\"/>"
   ]
  },
  {
   "cell_type": "markdown",
   "id": "6adc4eac-2413-4055-8dcc-9d76ba60f225",
   "metadata": {},
   "source": [
    "***\n",
    "#####\n",
    "\n",
    "#### <u>Cálculo de valor más probable</u>\n",
    "\n",
    "#####\n",
    "\n",
    "Se obtienen los valores más probables de $V_1$ y $I_1$ a través de la siguiente expresión:\n",
    "\n",
    "#####\n",
    "\n",
    "\\begin{equation*}\n",
    "\\overline{X_i} = \\frac{1}{n} \\cdot \\sum\\limits_{k=1}^{n} X_{i,k}\n",
    "\\end{equation*}\n",
    "\n",
    "#####\n",
    "\n",
    "Siendo:\n",
    "\n",
    "> n: cantidad de mediciones\n",
    "\n",
    "> $X_{i_{k}}$: i-ésimos valores de tensiones y/o corrientes, k-ésimos valores de las n mediciones.\n",
    "\n",
    "#####\n",
    "\n",
    "Reemplazando los valores de la tabla, obtenemos $\\overline{R_1}$:\n",
    "\n",
    "#####"
   ]
  },
  {
   "cell_type": "code",
   "execution_count": 176,
   "id": "4ef9ac02-255d-4209-80ff-2cf32bb42493",
   "metadata": {},
   "outputs": [
    {
     "data": {
      "text/markdown": [
       "##\n",
       "$$\\overline{H_0} = 0.14020000000000002 \\, [m]$$\n"
      ],
      "text/plain": [
       "<IPython.core.display.Markdown object>"
      ]
     },
     "metadata": {},
     "output_type": "display_data"
    },
    {
     "data": {
      "text/markdown": [
       "##\n",
       "$$\\overline{H_1} = 4.5348 \\, [m]$$\n"
      ],
      "text/plain": [
       "<IPython.core.display.Markdown object>"
      ]
     },
     "metadata": {},
     "output_type": "display_data"
    },
    {
     "data": {
      "text/markdown": [
       "##\n",
       "$$\\overline{R_G} = 11.14 \\, [\\Omega]$$\n"
      ],
      "text/plain": [
       "<IPython.core.display.Markdown object>"
      ]
     },
     "metadata": {},
     "output_type": "display_data"
    }
   ],
   "source": [
    "H0 = [0.145, 0.123, 0.145, 0.145, 0.143]     #[m]\n",
    "H1 = [4.525, 4.524, 4.521, 4.553, 4.551]     #[m]\n",
    "RG = [10.1, 11.1, 11.2, 12.1, 11.2]          #[\\Omega]\n",
    "\n",
    "ov_H0 = valor_mas_probable(H0)\n",
    "ov_H1 = valor_mas_probable(H1)\n",
    "ov_RG = valor_mas_probable(RG)\n",
    "\n",
    "display(Markdown(\"##\\n\" + f\"$$\\\\overline{{H_0}} = {ov_H0} \\, [m]$$\\n\"))\n",
    "display(Markdown(\"##\\n\" + f\"$$\\\\overline{{H_1}} = {ov_H1} \\, [m]$$\\n\"))\n",
    "display(Markdown(\"##\\n\" + f\"$$\\\\overline{{R_G}} = {ov_RG} \\, [\\Omega]$$\\n\"))"
   ]
  },
  {
   "cell_type": "markdown",
   "id": "c8bb63bf-da2f-4057-9cdd-7167901c3c87",
   "metadata": {},
   "source": [
    "#####\n",
    "\n",
    "Se obtiene el valor más probable de $V_0$ a través de la siguiente expresión:\n",
    "\n",
    "#####\n",
    "\n",
    "\\begin{equation*}\n",
    "\\overline{V_0} = \\left( \\overline{H_1} - \\overline{H_0} \\right) \\cdot K_H \\cdot S \\cdot \\overline{A_V}\n",
    "\\end{equation*}\n",
    "\n",
    "#####\n",
    "\n",
    "\\begin{equation*}\n",
    "\\overline{V_0} = \\left( \\overline{H_1} - \\overline{H_0} \\right) \\cdot K_H \\cdot S \\cdot \\left( 1 + \\frac{ 50 k\\Omega }{ \\overline{R_G} } \\right)\n",
    "\\end{equation*}\n",
    "\n",
    "#####\n",
    "\n",
    "Reemplazando los valores de la tabla, obtenemos $\\overline{V_{0}}$:\n",
    "\n",
    "#####\n"
   ]
  },
  {
   "cell_type": "code",
   "execution_count": 179,
   "id": "08f3e8f5-70a9-4bd6-8ed9-89b357093421",
   "metadata": {},
   "outputs": [
    {
     "data": {
      "text/markdown": [
       "##\n",
       "$$\\overline{V_0} = 77415.85482332639 \\, [mV]$$\n"
      ],
      "text/plain": [
       "<IPython.core.display.Markdown object>"
      ]
     },
     "metadata": {},
     "output_type": "display_data"
    }
   ],
   "source": [
    "KH = 9.810                                   #[kPa/m]\n",
    "S = 0.4                                      #[mV/kPa]\n",
    "\n",
    "#def calculo_V0 (H1, H0, KH, S, RG)\n",
    "ov_V0 = calculo_V0 (ov_H1, ov_H0, KH, S, ov_RG)\n",
    "\n",
    "display(Markdown(\"##\\n\" + f\"$$\\\\overline{{V_0}} = {ov_V0} \\, [mV]$$\\n\"))"
   ]
  },
  {
   "cell_type": "markdown",
   "id": "8d0e8273-fb4f-47ed-85a0-96489fba2be0",
   "metadata": {},
   "source": [
    "#####\n",
    "\n",
    "#### <u>Cálculo de incertidumbres</u>\n",
    "\n",
    "#####\n",
    "\n",
    "<u>Incertidumbre tipo A:</u>\n",
    "\n",
    "#####\n",
    "\n",
    "Se obtienen las incertidumbres tipo A a través de la siguiente expresión:\n",
    "\n",
    "#####\n",
    "\n",
    "\\begin{equation*}\n",
    "u_A(X_i) = \\frac{ s(X_i) }{ \\sqrt{n} } = \\frac{ \\sqrt{ \\frac{ 1 }{ n-1 } \\sum \\limits_{k=1}^{n} \\left( X_{i,k} - \\overline{X_i} \\right)^{2} } }{ \\sqrt{n} }\n",
    "\\end{equation*}\n",
    "\n",
    "#####"
   ]
  },
  {
   "cell_type": "code",
   "execution_count": 116,
   "id": "630dc67b-7a62-4653-8a73-679fea66fc1b",
   "metadata": {},
   "outputs": [
    {
     "data": {
      "text/markdown": [
       "##\n",
       "$$u_A(H_0) = 0.004317406628984579 \\, [m]$$\n"
      ],
      "text/plain": [
       "<IPython.core.display.Markdown object>"
      ]
     },
     "metadata": {},
     "output_type": "display_data"
    },
    {
     "data": {
      "text/markdown": [
       "##\n",
       "$$u_A(H_1) = 0.007059745037889109 \\, [m]$$\n"
      ],
      "text/plain": [
       "<IPython.core.display.Markdown object>"
      ]
     },
     "metadata": {},
     "output_type": "display_data"
    },
    {
     "data": {
      "text/markdown": [
       "##\n",
       "$$u_A(S) = 0 \\, \\left[\\frac{mV}{kPa}\\right]$$\n"
      ],
      "text/plain": [
       "<IPython.core.display.Markdown object>"
      ]
     },
     "metadata": {},
     "output_type": "display_data"
    },
    {
     "data": {
      "text/markdown": [
       "##\n",
       "$$u_A(R_G) = 0.3171750305430741 \\, [\\Omega]$$\n"
      ],
      "text/plain": [
       "<IPython.core.display.Markdown object>"
      ]
     },
     "metadata": {},
     "output_type": "display_data"
    }
   ],
   "source": [
    "uA_H0 = incertidumbre_tipo_A (H0)\n",
    "uA_H1 = incertidumbre_tipo_A (H1)\n",
    "uA_S = 0\n",
    "uA_RG = incertidumbre_tipo_A (RG)\n",
    "\n",
    "display(Markdown(\"##\\n\" + f\"$$u_A(H_0) = {uA_H0} \\, [m]$$\\n\"))\n",
    "display(Markdown(\"##\\n\" + f\"$$u_A(H_1) = {uA_H1} \\, [m]$$\\n\"))\n",
    "display(Markdown(\"##\\n\" + f\"$$u_A(S) = {uA_S} \\, \\\\left[\\\\frac{{mV}}{{kPa}}\\\\right]$$\\n\"))\n",
    "display(Markdown(\"##\\n\" + f\"$$u_A(R_G) = {uA_RG} \\, [\\\\Omega]$$\\n\"))"
   ]
  },
  {
   "cell_type": "markdown",
   "id": "1873dfcb-d6a2-4b41-b15d-9c34b6927232",
   "metadata": {},
   "source": [
    "#####\n",
    "\n",
    "<u>Incertidumbre tipo B:</u>\n",
    "\n",
    "#####\n",
    "\n",
    "Se obtienen las incertidumbres tipo B a través de la siguiente expresión:\n",
    "\n",
    "#####\n",
    "\n",
    "\\begin{equation*}\n",
    "u_B(X_i) = \\frac{ \\Delta X_i }{ \\sqrt{3} } = \\frac{ \\left( \\frac{er\\%}{100} + \\frac{n}{ci} \\right) \\cdot \\overline{X_i} }{ \\sqrt{3} } \n",
    "\\end{equation*}\n",
    "\n",
    "#####\n",
    "\n",
    "\n",
    "Siendo:\n",
    "\n",
    "> $er%$: Error relativo.\n",
    "\n",
    "> $n$: Error de cuentas.\n",
    "\n",
    "> $ci$: Cuentas indicadas.\n",
    "\n",
    "#####\n",
    "\n",
    "Además:\n",
    "\n",
    "> $ci = \\frac{Ind}{Res} \\frac{ [u] }{ \\left[ \\frac{u}{cuenta} \\right] }= [cuentas]$\n",
    "\n",
    "> $Ind$: Indicación del instrumento con su respectiva $u$ unidad.\n",
    "\n",
    "> $Res$: Resolución del instrumento con su respectiva $u$ unidad por cuenta, dada por el rango seleccionado y la cantidad de dígitos que el mismo puede representar.\n",
    "\n",
    "#####"
   ]
  },
  {
   "cell_type": "code",
   "execution_count": 117,
   "id": "39b2c466-e72e-40e1-8c05-6c34a01322da",
   "metadata": {},
   "outputs": [
    {
     "data": {
      "text/markdown": [
       "##\n",
       "$$u_B(H_0) = 0.00024283352322115667 \\, [m]$$\n"
      ],
      "text/plain": [
       "<IPython.core.display.Markdown object>"
      ]
     },
     "metadata": {},
     "output_type": "display_data"
    },
    {
     "data": {
      "text/markdown": [
       "##\n",
       "$$u_B(H_1) = 0.007854504002163344 \\, [m]$$\n"
      ],
      "text/plain": [
       "<IPython.core.display.Markdown object>"
      ]
     },
     "metadata": {},
     "output_type": "display_data"
    },
    {
     "data": {
      "text/markdown": [
       "##\n",
       "$$u_B(S) = 0.008660254037844387 \\, \\left[\\frac{mV}{kPa}\\right]$$\n"
      ],
      "text/plain": [
       "<IPython.core.display.Markdown object>"
      ]
     },
     "metadata": {},
     "output_type": "display_data"
    },
    {
     "data": {
      "text/markdown": [
       "##\n",
       "$$u_B(R_G) = 0.14762846383178735 \\, [\\Omega]$$\n"
      ],
      "text/plain": [
       "<IPython.core.display.Markdown object>"
      ]
     },
     "metadata": {},
     "output_type": "display_data"
    }
   ],
   "source": [
    "er_H0 = 0.3\n",
    "n_H0 = 0\n",
    "\n",
    "ind_H0 = ov_H0\n",
    "res_H0 = 0.001\n",
    "ci_H0 = ind_H0 / res_H0\n",
    "\n",
    "er_H1 = 0.3\n",
    "n_H1 = 0\n",
    "\n",
    "ind_H1 = ov_H1\n",
    "res_H1 = 0.001\n",
    "ci_H1 = ind_H1 / res_H1\n",
    "\n",
    "er_S = 3.75\n",
    "n_S = 0\n",
    "\n",
    "ind_S = ov_S\n",
    "res_S = 0.1\n",
    "ci_S = ind_S / res_S\n",
    "\n",
    "er_RG = 0.5\n",
    "n_RG = 2\n",
    "\n",
    "ind_RG = ov_RG\n",
    "res_RG = 0.1\n",
    "ci_RG = ind_RG / res_RG\n",
    "\n",
    "#def incertidumbre_tipo_B (error_relativo, error_cuentas, cuentas_indicadas, valor_mas_probable):\n",
    "uB_H0 = incertidumbre_tipo_B (er_H0, n_H0, ci_H0, ov_H0)\n",
    "uB_H1 = incertidumbre_tipo_B (er_H1, n_H1, ci_H1, ov_H1)\n",
    "uB_S = incertidumbre_tipo_B (er_S, n_S, ci_S, ov_S)\n",
    "uB_RG = incertidumbre_tipo_B (er_RG, n_RG, ci_RG, ov_RG)\n",
    "\n",
    "display(Markdown(\"##\\n\" + f\"$$u_B(H_0) = {uB_H0} \\, [m]$$\\n\"))\n",
    "display(Markdown(\"##\\n\" + f\"$$u_B(H_1) = {uB_H1} \\, [m]$$\\n\"))\n",
    "display(Markdown(\"##\\n\" + f\"$$u_B(S) = {uB_S} \\, \\\\left[\\\\frac{{mV}}{{kPa}}\\\\right]$$\\n\"))\n",
    "display(Markdown(\"##\\n\" + f\"$$u_B(R_G) = {uB_RG} \\, [\\\\Omega]$$\\n\"))"
   ]
  },
  {
   "cell_type": "markdown",
   "id": "2c5a5a13-6dbb-478d-a488-07793a854132",
   "metadata": {},
   "source": [
    "#####\n",
    "\n",
    "<u>Incertidumbre de $V_1$ e $I_1$:</u>\n",
    "\n",
    "#####\n",
    "\n",
    "Se obtienen las incertidumbres de $V_1$ e $I_1$ a través de la siguiente expresión:\n",
    "\n",
    "#####\n",
    "\n",
    "\\begin{equation*}\n",
    "u(X_i) = \\sqrt{ u_A^2(X_i) + u_B^2(X_i) }\n",
    "\\end{equation*}\n",
    "\n",
    "#####"
   ]
  },
  {
   "cell_type": "code",
   "execution_count": 118,
   "id": "ad7fa294-f483-4e4e-a25b-dc5ab27dfde2",
   "metadata": {},
   "outputs": [
    {
     "data": {
      "text/markdown": [
       "##\n",
       "$$u(H_0) = 0.004324230350016057 \\, [m]$$\n"
      ],
      "text/plain": [
       "<IPython.core.display.Markdown object>"
      ]
     },
     "metadata": {},
     "output_type": "display_data"
    },
    {
     "data": {
      "text/markdown": [
       "##\n",
       "$$u(H_1) = 0.010560929557572093 \\, [m]$$\n"
      ],
      "text/plain": [
       "<IPython.core.display.Markdown object>"
      ]
     },
     "metadata": {},
     "output_type": "display_data"
    },
    {
     "data": {
      "text/markdown": [
       "##\n",
       "$$u(S) = 0.008660254037844387 \\, \\left[\\frac{mV}{kPa}\\right]$$\n"
      ],
      "text/plain": [
       "<IPython.core.display.Markdown object>"
      ]
     },
     "metadata": {},
     "output_type": "display_data"
    },
    {
     "data": {
      "text/markdown": [
       "##\n",
       "$$u(R_G) = 0.3498487720906468 \\, [\\Omega]$$\n"
      ],
      "text/plain": [
       "<IPython.core.display.Markdown object>"
      ]
     },
     "metadata": {},
     "output_type": "display_data"
    }
   ],
   "source": [
    "#def incertidumbre_combinada (uA, uB):\n",
    "uC_H0 = incertidumbre_combinada (uA_H0, uB_H0)\n",
    "uC_H1 = incertidumbre_combinada (uA_H1, uB_H1)\n",
    "uC_S = incertidumbre_combinada (uA_S, uB_S)\n",
    "uC_RG = incertidumbre_combinada (uA_RG, uB_RG)\n",
    "\n",
    "display(Markdown(\"##\\n\" + f\"$$u(H_0) = {uC_H0} \\, [m]$$\\n\"))\n",
    "display(Markdown(\"##\\n\" + f\"$$u(H_1) = {uC_H1} \\, [m]$$\\n\"))\n",
    "display(Markdown(\"##\\n\" + f\"$$u(S) = {uC_S} \\, \\\\left[\\\\frac{{mV}}{{kPa}}\\\\right]$$\\n\"))\n",
    "display(Markdown(\"##\\n\" + f\"$$u(R_G) = {uC_RG} \\, [\\\\Omega]$$\\n\"))"
   ]
  },
  {
   "cell_type": "markdown",
   "id": "a2b98fd9-50d3-418e-9a8b-ed9449b140d8",
   "metadata": {},
   "source": [
    "#####\n",
    "\n",
    "<u> Incertidumbre combinada </u>\n",
    "\n",
    "#####\n",
    "\n",
    "Se obtiene la incertidumbre combinada de $V_0$ a través de la siguiente expresión:\n",
    "\n",
    "#####\n",
    "\n",
    "\\begin{equation*} \n",
    "u_C(V_0) = \\sqrt{\\left[\\frac{dV_0}{dH_0}\\right]^2 \\cdot u^2(H_0) + \\left[\\frac{dV_0}{dH_1}\\right]^2 \\cdot u^2(H_1) + \\left[\\frac{dV_0}{dS}\\right]^2 \\cdot u^2(S) + \\left[\\frac{dV_0}{dR_G}\\right]^2 \\cdot u^2(R_G) }\n",
    "\\end{equation*}\n",
    "\n",
    "#####\n",
    "\n",
    "\\begin{equation*}\n",
    "u_C(V_0) = \\sqrt{ \\left[ -K_H \\cdot S \\cdot A_V \\right]^2 \\cdot u^2(H_0) + \\left[ K_H \\cdot S \\cdot A_V \\right]^2 \\cdot u^2(H_1) + \\left[ \\left( H_1 - H_0 \\right) \\cdot K_H \\cdot A_V \\right]^2 \\cdot u^2(S) + \\left[ \\frac{ \\left( H_1 - H_0 \\right) \\cdot K_H \\cdot S \\cdot 50 k\\Omega }{ {R_G}^2 } \\right]^2 \\cdot u^2(R_G) }\n",
    "\\end{equation*}\n",
    "\n",
    "#####"
   ]
  },
  {
   "cell_type": "code",
   "execution_count": 119,
   "id": "eb4a75b1-0760-4301-972b-b5690c910cd9",
   "metadata": {},
   "outputs": [
    {
     "data": {
      "text/markdown": [
       "##\n",
       "$$u_C(V_0) = 2959.3840538920354 \\, [mV]$$\n"
      ],
      "text/plain": [
       "<IPython.core.display.Markdown object>"
      ]
     },
     "metadata": {},
     "output_type": "display_data"
    }
   ],
   "source": [
    "ov_AV = 1 + 50*10**3 / ov_RG\n",
    "\n",
    "dV0_dH0 = -KH * S * ov_AV\n",
    "dV0_dH1 = KH * S * ov_AV\n",
    "dV0_dS = (ov_H1 - ov_H0) * KH * ov_AV\n",
    "dV0_dRG = (ov_H1 - ov_H0) * KH * S * 50*10**3 / ov_RG**2\n",
    "\n",
    "uC_V0 = np.sqrt( dV0_dH0**2 * uC_H0**2 + \n",
    "                 dV0_dH1**2 * uC_H1**2 +\n",
    "                 dV0_dS**2 * uC_S**2 +\n",
    "                 dV0_dRG**2 * uC_RG**2 )\n",
    "\n",
    "display(Markdown(\"##\\n\" + f\"$$u_C(V_0) = {uC_V0} \\, [mV]$$\\n\"))"
   ]
  },
  {
   "cell_type": "markdown",
   "id": "80ca262d-335c-485d-b28b-6385f4014aa5",
   "metadata": {},
   "source": [
    "#####\n",
    "\n",
    "<u>Incertidumbre expandida:</u>\n",
    "\n",
    "#####\n",
    "\n",
    "\\begin{equation*}\n",
    "U(V_0) = u_C(V_0) \\cdot k_{95\\%}\n",
    "\\end{equation*}\n",
    "\n",
    "#####"
   ]
  },
  {
   "cell_type": "code",
   "execution_count": 122,
   "id": "203ced46-0f7f-48d1-adeb-7c656a8b4c3f",
   "metadata": {},
   "outputs": [
    {
     "data": {
      "text/markdown": [
       "##\n",
       "$$U(V_0) = 5918.768107784071 \\, [mV]$$\n",
       "##"
      ],
      "text/plain": [
       "<IPython.core.display.Markdown object>"
      ]
     },
     "metadata": {},
     "output_type": "display_data"
    }
   ],
   "source": [
    "k_95 = 2\n",
    "U_V0 = uC_V0 * k_95\n",
    "\n",
    "display(Markdown(\"##\\n\" + f\"$$U(V_0) = {U_V0} \\, [mV]$$\\n\" + \"##\"))"
   ]
  },
  {
   "cell_type": "markdown",
   "id": "296512c1-6ec5-4f62-b2d9-6ccc5c1c621b",
   "metadata": {},
   "source": [
    "#####\n",
    "\n",
    "<u>Resultado de la medición:</u>\n",
    "\n",
    "#####\n",
    "\n",
    "\\begin{equation*}\n",
    "V_0 = \\overline{V_0} \\pm U(V_0) \n",
    "\\end{equation*}\n",
    "\n",
    "#####\n",
    "\n",
    "\\begin{equation*}\n",
    "V_0 = \\left( 77415.85482332639 \\pm 5918.768107784071 \\right) [mV] \\qquad k = 2\n",
    "\\end{equation*}\n",
    "\n",
    "#####\n",
    "\n",
    "\\begin{equation*}\n",
    "\\boxed{ V_0 = \\left( 77.4 \\pm 5.9 \\right) [V] \\qquad k = 2 }\n",
    "\\end{equation*}\n",
    "\n",
    "#####\n",
    "\n",
    "***"
   ]
  },
  {
   "cell_type": "code",
   "execution_count": 213,
   "id": "2c284cf4-a60b-431b-a6f4-fc8e11a747d0",
   "metadata": {},
   "outputs": [
    {
     "data": {
      "text/html": [
       "<style type=\"text/css\">\n",
       "</style>\n",
       "<table id=\"T_224cf\">\n",
       "  <thead>\n",
       "    <tr>\n",
       "      <th id=\"T_224cf_level0_col0\" class=\"col_heading level0 col0\" >Ejercicio</th>\n",
       "      <th id=\"T_224cf_level0_col1\" class=\"col_heading level0 col1\" >Resultado</th>\n",
       "      <th id=\"T_224cf_level0_col2\" class=\"col_heading level0 col2\" >k</th>\n",
       "      <th id=\"T_224cf_level0_col3\" class=\"col_heading level0 col3\" >Tipo</th>\n",
       "    </tr>\n",
       "  </thead>\n",
       "  <tbody>\n",
       "    <tr>\n",
       "      <td id=\"T_224cf_row0_col0\" class=\"data row0 col0\" >1</td>\n",
       "      <td id=\"T_224cf_row0_col1\" class=\"data row0 col1\" >$ \\left( \\, -0.350 \\pm 0.027 \\, \\right) $</td>\n",
       "      <td id=\"T_224cf_row0_col2\" class=\"data row0 col2\" >2</td>\n",
       "      <td id=\"T_224cf_row0_col3\" class=\"data row0 col3\" >Aproximación general</td>\n",
       "    </tr>\n",
       "    <tr>\n",
       "      <td id=\"T_224cf_row1_col0\" class=\"data row1 col0\" >2</td>\n",
       "      <td id=\"T_224cf_row1_col1\" class=\"data row1 col1\" >$ \\left( \\, 1.83 \\pm 0.20 \\, \\right) \\, V$</td>\n",
       "      <td id=\"T_224cf_row1_col2\" class=\"data row1 col2\" >2</td>\n",
       "      <td id=\"T_224cf_row1_col3\" class=\"data row1 col3\" >Aproximación general</td>\n",
       "    </tr>\n",
       "    <tr>\n",
       "      <td id=\"T_224cf_row2_col0\" class=\"data row2 col0\" >3</td>\n",
       "      <td id=\"T_224cf_row2_col1\" class=\"data row2 col1\" >$ \\left( \\, 19.24 \\pm 0.14 \\, \\right) \\, V$</td>\n",
       "      <td id=\"T_224cf_row2_col2\" class=\"data row2 col2\" >2</td>\n",
       "      <td id=\"T_224cf_row2_col3\" class=\"data row2 col3\" >Aproximación general</td>\n",
       "    </tr>\n",
       "    <tr>\n",
       "      <td id=\"T_224cf_row3_col0\" class=\"data row3 col0\" >4</td>\n",
       "      <td id=\"T_224cf_row3_col1\" class=\"data row3 col1\" >$ \\left( \\, 3.734 \\pm 0.057 \\, \\right) \\, \\Omega$</td>\n",
       "      <td id=\"T_224cf_row3_col2\" class=\"data row3 col2\" >2</td>\n",
       "      <td id=\"T_224cf_row3_col3\" class=\"data row3 col3\" >Aproximación general</td>\n",
       "    </tr>\n",
       "    <tr>\n",
       "      <td id=\"T_224cf_row4_col0\" class=\"data row4 col0\" >5</td>\n",
       "      <td id=\"T_224cf_row4_col1\" class=\"data row4 col1\" >$ \\left( \\, 77.4 \\pm 5.9 \\, \\right) \\, V$</td>\n",
       "      <td id=\"T_224cf_row4_col2\" class=\"data row4 col2\" >2</td>\n",
       "      <td id=\"T_224cf_row4_col3\" class=\"data row4 col3\" >Aproximación general</td>\n",
       "    </tr>\n",
       "  </tbody>\n",
       "</table>\n"
      ],
      "text/plain": [
       "<pandas.io.formats.style.Styler at 0x25f017f9c10>"
      ]
     },
     "metadata": {},
     "output_type": "display_data"
    }
   ],
   "source": [
    "datos = {\n",
    "    \"Ejercicio\": [1, 2, 3, 4, 5],\n",
    "    \"Resultado\": [[ov_em, U_em], [ov_DeltaV, U_DeltaV], [ov_Vout, U_Vout], [ov_R1, U_R1], [round(ov_V0/1000, 1), round(U_V0/1000, 1)]],\n",
    "    \"k\": [ k_95, k_95, k_95, k_95, k_95 ],\n",
    "    \"Tipo\": [\"Aproximación general\", \"Aproximación general\", \"Aproximación general\", \"Aproximación general\", \"Aproximación general\"]\n",
    "}\n",
    "\n",
    "df = pd.DataFrame(datos)\n",
    "\n",
    "formatos_por_ejercicio = {\n",
    "    1: r\"$ \\left( \\, {0[0]:.3f} \\pm {0[1]:.3f} \\, \\right) $\",\n",
    "    2: r\"$ \\left( \\, {0[0]:.2f} \\pm {0[1]:.2f} \\, \\right) \\, V$\",\n",
    "    3: r\"$ \\left( \\, {0[0]:.2f} \\pm {0[1]:.2f} \\, \\right) \\, V$\",\n",
    "    4: r\"$ \\left( \\, {0[0]:.3f} \\pm {0[1]:.3f} \\, \\right) \\, \\Omega$\",\n",
    "    5: r\"$ \\left( \\, {0[0]:.1f} \\pm {0[1]:.1f} \\, \\right) \\, V$\",\n",
    "}\n",
    "\n",
    "df[\"Resultado\"] = df.apply(\n",
    "    lambda fila: formatos_por_ejercicio[fila[\"Ejercicio\"]].format(fila[\"Resultado\"]),\n",
    "    axis=1\n",
    ")\n",
    "\n",
    "display(df.style.hide(axis=\"index\"))"
   ]
  },
  {
   "cell_type": "code",
   "execution_count": null,
   "id": "acba686c-a020-461d-89ce-576241e223f0",
   "metadata": {},
   "outputs": [],
   "source": []
  }
 ],
 "metadata": {
  "kernelspec": {
   "display_name": "Python 3 (ipykernel)",
   "language": "python",
   "name": "python3"
  },
  "language_info": {
   "codemirror_mode": {
    "name": "ipython",
    "version": 3
   },
   "file_extension": ".py",
   "mimetype": "text/x-python",
   "name": "python",
   "nbconvert_exporter": "python",
   "pygments_lexer": "ipython3",
   "version": "3.11.9"
  }
 },
 "nbformat": 4,
 "nbformat_minor": 5
}
